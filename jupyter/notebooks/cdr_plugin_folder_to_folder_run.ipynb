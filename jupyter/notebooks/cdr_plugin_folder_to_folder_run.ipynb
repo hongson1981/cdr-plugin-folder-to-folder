{
 "cells": [
  {
   "cell_type": "markdown",
   "id": "89223448",
   "metadata": {},
   "source": [
    "# CDR-Plugin-Folder-to-Folder"
   ]
  },
  {
   "cell_type": "markdown",
   "id": "e1963ad9",
   "metadata": {},
   "source": [
    "# Step 0 : Install Pre-requisites\n",
    "\n",
    "**Wait till all packages get installed**\n"
   ]
  },
  {
   "cell_type": "code",
   "execution_count": 15,
   "id": "b6b567d6",
   "metadata": {},
   "outputs": [
    {
     "name": "stdout",
     "output_type": "stream",
     "text": [
      "Collecting package metadata (current_repodata.json): done\n",
      "Solving environment: done\n",
      "\n",
      "# All requested packages already installed.\n",
      "\n",
      "Requirement already satisfied: urllib3 in /opt/conda/lib/python3.8/site-packages (1.26.4)\n",
      "Collecting git+https://github.com/owasp-sbot/OSBot-Utils.git\n",
      "  Cloning https://github.com/owasp-sbot/OSBot-Utils.git to /tmp/pip-req-build-p2u86hgs\n",
      "  Running command git clone -q https://github.com/owasp-sbot/OSBot-Utils.git /tmp/pip-req-build-p2u86hgs\n",
      "Pre-requisites installations are completed\n"
     ]
    }
   ],
   "source": [
    "import sys\n",
    "\n",
    "!{sys.executable} -m conda install git -y\n",
    "!{sys.executable} -m pip install urllib3\n",
    "!{sys.executable} -m pip install git+https://github.com/owasp-sbot/OSBot-Utils.git\n",
    "print(\"Pre-requisites installations are completed\")"
   ]
  },
  {
   "cell_type": "markdown",
   "id": "b45fe2cd",
   "metadata": {},
   "source": [
    "# Step 1 :  Setup Client"
   ]
  },
  {
   "cell_type": "code",
   "execution_count": 46,
   "id": "40257f88",
   "metadata": {},
   "outputs": [],
   "source": [
    "import os\n",
    "from urllib.parse import urljoin\n",
    "from osbot_utils.utils.Http import GET_json,POST,POST_json\n",
    "\n",
    "class Client:\n",
    "\n",
    "    def __init__(self, url_server):\n",
    "        self.server_ip = url_server\n",
    "\n",
    "    # helper methods\n",
    "    def _resolve_url(self, path=\"\"):\n",
    "        return urljoin(self.server_ip, path)\n",
    "\n",
    "    def _request_get(self, path):\n",
    "        url = self._resolve_url(path)\n",
    "        return GET_json(url)\n",
    "\n",
    "    def _request_post(self, path):\n",
    "        url = self._resolve_url(path)\n",
    "        return POST(url=url,data=b'', headers=None)\n",
    "\n",
    "    # API methods\n",
    "    def health(self):\n",
    "        return self._request_get('/health')\n",
    "\n",
    "    def version(self):\n",
    "        return self._request_get('/version')\n",
    "\n",
    "    def pre_process(self):\n",
    "        return self._request_post('/pre-processor/pre-process')\n",
    "\n",
    "    def start_process(self):\n",
    "        return self._request_post('/processing/start')\n",
    "    \n",
    "    def show_folder_structure(self, source_path):\n",
    "        response=\"\"\n",
    "        for root, dirs, files in os.walk(source_path):\n",
    "            level = root.replace(source_path, '').count(os.sep)\n",
    "            indent = ' ' * 4 * (level)\n",
    "            print('{}{}/'.format(indent, os.path.basename(root)))\n",
    "            subindent = ' ' * 4 * (level + 1)\n",
    "            for f in files:\n",
    "                print('{}{}'.format(subindent, f))\n",
    "                \n",
    "            return response"
   ]
  },
  {
   "cell_type": "markdown",
   "id": "9762a2a1",
   "metadata": {},
   "source": [
    "# Step 2 :  Get API Endpoint"
   ]
  },
  {
   "cell_type": "code",
   "execution_count": 47,
   "id": "68b06ccf",
   "metadata": {},
   "outputs": [],
   "source": [
    "api_url='http://api:8880'\n",
    "client=Client(api_url)"
   ]
  },
  {
   "cell_type": "markdown",
   "id": "c129d0b5",
   "metadata": {},
   "source": [
    "# Step 3 : Health checlk\n",
    "\n",
    "### Status should be **{'status': 'ok'}**"
   ]
  },
  {
   "cell_type": "code",
   "execution_count": 43,
   "id": "9fcdc02e",
   "metadata": {},
   "outputs": [
    {
     "name": "stdout",
     "output_type": "stream",
     "text": [
      "{'status': 'ok'}\n"
     ]
    }
   ],
   "source": [
    "response=client.health()\n",
    "print(response)"
   ]
  },
  {
   "cell_type": "markdown",
   "id": "0fb1e29e",
   "metadata": {},
   "source": [
    "# Step 4 : Pre-Processing\n",
    "### This api will pre-process HD1 data and store it in HD2\n",
    "\n",
    "**Response should be [\"Processing is done\"]**"
   ]
  },
  {
   "cell_type": "code",
   "execution_count": 39,
   "id": "f7aea2b8",
   "metadata": {},
   "outputs": [
    {
     "name": "stdout",
     "output_type": "stream",
     "text": [
      "[\"Processing is done\"]\n"
     ]
    }
   ],
   "source": [
    "response=client.pre_process()\n",
    "print(response)"
   ]
  },
  {
   "cell_type": "markdown",
   "id": "1329a76c",
   "metadata": {},
   "source": [
    "# Step 5 : Processing\n",
    "### This api will process HD2 data and store rebuilt file in HD3\n",
    "\n",
    "**Response should be \"Loop completed\"**"
   ]
  },
  {
   "cell_type": "code",
   "execution_count": 51,
   "id": "2d29e63e",
   "metadata": {},
   "outputs": [],
   "source": [
    "response=client.start_process()\n",
    "print(response)"
   ]
  },
  {
   "cell_type": "markdown",
   "id": "2f78bc8c",
   "metadata": {},
   "source": [
    "# Step 6 : Folder structure visualization"
   ]
  },
  {
   "cell_type": "code",
   "execution_count": 58,
   "id": "bef81182",
   "metadata": {},
   "outputs": [
    {
     "name": "stdout",
     "output_type": "stream",
     "text": [
      "scenario-1/\n",
      "├── hd1/\n",
      "│   └── image2.jpg\n",
      "├── hd2/\n",
      "│   ├── data/\n",
      "│   │   └── 86df34018436a99e1e98ff51346591e189cd76c8518f7288bb1ea8336396259b/\n",
      "│   │       ├── metadata.json\n",
      "│   │       ├── report.json\n",
      "│   │       └── source\n",
      "│   └── status/\n",
      "│       └── hash.json\n",
      "└── hd3/\n",
      "    └── image2.jpg\n"
     ]
    }
   ],
   "source": [
    "from pathlib import Path\n",
    "\n",
    "class DisplayablePath(object):\n",
    "    display_filename_prefix_middle = '├──'\n",
    "    display_filename_prefix_last = '└──'\n",
    "    display_parent_prefix_middle = '    '\n",
    "    display_parent_prefix_last = '│   '\n",
    "\n",
    "    def __init__(self, path, parent_path, is_last):\n",
    "        self.path = Path(str(path))\n",
    "        self.parent = parent_path\n",
    "        self.is_last = is_last\n",
    "        if self.parent:\n",
    "            self.depth = self.parent.depth + 1\n",
    "        else:\n",
    "            self.depth = 0\n",
    "\n",
    "    @property\n",
    "    def displayname(self):\n",
    "        if self.path.is_dir():\n",
    "            return self.path.name + '/'\n",
    "        return self.path.name\n",
    "\n",
    "    @classmethod\n",
    "    def make_tree(cls, root, parent=None, is_last=False, criteria=None):\n",
    "        root = Path(str(root))\n",
    "        criteria = criteria or cls._default_criteria\n",
    "\n",
    "        displayable_root = cls(root, parent, is_last)\n",
    "        yield displayable_root\n",
    "\n",
    "        children = sorted(list(path\n",
    "                               for path in root.iterdir()\n",
    "                               if criteria(path)),\n",
    "                          key=lambda s: str(s).lower())\n",
    "        count = 1\n",
    "        for path in children:\n",
    "            is_last = count == len(children)\n",
    "            if path.is_dir():\n",
    "                yield from cls.make_tree(path,\n",
    "                                         parent=displayable_root,\n",
    "                                         is_last=is_last,\n",
    "                                         criteria=criteria)\n",
    "            else:\n",
    "                yield cls(path, displayable_root, is_last)\n",
    "            count += 1\n",
    "\n",
    "    @classmethod\n",
    "    def _default_criteria(cls, path):\n",
    "        return True\n",
    "\n",
    "    @property\n",
    "    def displayname(self):\n",
    "        if self.path.is_dir():\n",
    "            return self.path.name + '/'\n",
    "        return self.path.name\n",
    "\n",
    "    def displayable(self):\n",
    "        if self.parent is None:\n",
    "            return self.displayname\n",
    "\n",
    "        _filename_prefix = (self.display_filename_prefix_last\n",
    "                            if self.is_last\n",
    "                            else self.display_filename_prefix_middle)\n",
    "\n",
    "        parts = ['{!s} {!s}'.format(_filename_prefix,\n",
    "                                    self.displayname)]\n",
    "\n",
    "        parent = self.parent\n",
    "        while parent and parent.parent is not None:\n",
    "            parts.append(self.display_parent_prefix_middle\n",
    "                         if parent.is_last\n",
    "                         else self.display_parent_prefix_last)\n",
    "            parent = parent.parent\n",
    "\n",
    "        return ''.join(reversed(parts))\n",
    "    \n",
    "paths = DisplayablePath.make_tree(Path('../test_data/scenario-1'))\n",
    "for path in paths:\n",
    "    print(path.displayable())"
   ]
  },
  {
   "cell_type": "code",
   "execution_count": null,
   "id": "7e04e146",
   "metadata": {},
   "outputs": [],
   "source": []
  },
  {
   "cell_type": "code",
   "execution_count": null,
   "id": "1a0dba4d",
   "metadata": {},
   "outputs": [],
   "source": []
  }
 ],
 "metadata": {
  "kernelspec": {
   "display_name": "Python 3",
   "language": "python",
   "name": "python3"
  },
  "language_info": {
   "codemirror_mode": {
    "name": "ipython",
    "version": 3
   },
   "file_extension": ".py",
   "mimetype": "text/x-python",
   "name": "python",
   "nbconvert_exporter": "python",
   "pygments_lexer": "ipython3",
   "version": "3.8.8"
  }
 },
 "nbformat": 4,
 "nbformat_minor": 5
}
