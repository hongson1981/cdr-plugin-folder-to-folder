{
 "cells": [
  {
   "cell_type": "markdown",
   "id": "threatened-sheep",
   "metadata": {},
   "source": [
    "# File Report Analysis"
   ]
  },
  {
   "cell_type": "code",
   "execution_count": 1,
   "id": "casual-concentrate",
   "metadata": {},
   "outputs": [
    {
     "data": {
      "text/html": [
       "<style>.container { width:80% !important; }</style>"
      ],
      "text/plain": [
       "<IPython.core.display.HTML object>"
      ]
     },
     "metadata": {},
     "output_type": "display_data"
    }
   ],
   "source": [
    "from IPython.core.display import display, HTML\n",
    "display(HTML(\"<style>.container { width:80% !important; }</style>\"))"
   ]
  },
  {
   "cell_type": "code",
   "execution_count": 2,
   "id": "official-speed",
   "metadata": {},
   "outputs": [],
   "source": [
    "%%capture\n",
    "!jupyter nbextension enable --py --sys-prefix qgrid\n",
    "!jupyter nbextension enable --py --sys-prefix widgetsnbextension"
   ]
  },
  {
   "cell_type": "code",
   "execution_count": 3,
   "id": "destroyed-ability",
   "metadata": {},
   "outputs": [
    {
     "data": {
      "text/html": [
       "<script>\n",
       "code_show=true; \n",
       "function code_toggle() {\n",
       " if (code_show){\n",
       " $('div.input').hide();\n",
       " } else {\n",
       " $('div.input').show();\n",
       " }\n",
       " code_show = !code_show\n",
       "} \n",
       "$( document ).ready(code_toggle);\n",
       "</script>\n",
       "<form action=\"javascript:code_toggle()\"><input type=\"submit\" value=\"Click here to toggle on/off the raw code.\"></form>"
      ],
      "text/plain": [
       "<IPython.core.display.HTML object>"
      ]
     },
     "execution_count": 3,
     "metadata": {},
     "output_type": "execute_result"
    }
   ],
   "source": [
    "HTML('''<script>\n",
    "code_show=true; \n",
    "function code_toggle() {\n",
    " if (code_show){\n",
    " $('div.input').hide();\n",
    " } else {\n",
    " $('div.input').show();\n",
    " }\n",
    " code_show = !code_show\n",
    "} \n",
    "$( document ).ready(code_toggle);\n",
    "</script>\n",
    "<form action=\"javascript:code_toggle()\"><input type=\"submit\" value=\"Click here to toggle on/off the raw code.\"></form>''')"
   ]
  },
  {
   "cell_type": "code",
   "execution_count": 4,
   "id": "extra-nevada",
   "metadata": {},
   "outputs": [],
   "source": [
    "import pandas as pd\n",
    "import numpy as np\n",
    "import json\n",
    "import qgrid\n",
    "import ipywidgets as widgets\n",
    "import ipython_blocking\n",
    "from graphviz import Digraph\n",
    "import matplotlib.pyplot as plt"
   ]
  },
  {
   "cell_type": "markdown",
   "id": "conservative-louisiana",
   "metadata": {},
   "source": [
    "### So far we only have a report for scenario-1"
   ]
  },
  {
   "cell_type": "code",
   "execution_count": 5,
   "id": "compressed-tattoo",
   "metadata": {},
   "outputs": [
    {
     "data": {
      "application/vnd.jupyter.widget-view+json": {
       "model_id": "8cf403d24c194f4e9a66071f7a25e0c0",
       "version_major": 2,
       "version_minor": 0
      },
      "text/plain": [
       "VBox(children=(Dropdown(description='Scenario : ', options=('scenario-1', 'scenario-2'), value=None), Button(d…"
      ]
     },
     "metadata": {},
     "output_type": "display_data"
    },
    {
     "data": {
      "application/javascript": [
       "Jupyter.notebook.select_next().execute_cells_below()"
      ],
      "text/plain": [
       "<IPython.core.display.Javascript object>"
      ]
     },
     "metadata": {},
     "output_type": "display_data"
    }
   ],
   "source": [
    "scenarios = ['scenario-1', 'scenario-2']\n",
    "\n",
    "selected_scenario = widgets.Dropdown(\n",
    "    options     = scenarios,\n",
    "    description = 'Scenario : ',\n",
    "    disabled    = False,\n",
    "    value       = None)\n",
    "\n",
    "button = widgets.Button(description='Run')\n",
    "\n",
    "box = widgets.VBox(children=[selected_scenario, button])\n",
    "display(box)"
   ]
  },
  {
   "cell_type": "code",
   "execution_count": 8,
   "id": "lovely-smile",
   "metadata": {},
   "outputs": [],
   "source": [
    "%blockrun button"
   ]
  },
  {
   "cell_type": "code",
   "execution_count": 9,
   "id": "documentary-regard",
   "metadata": {},
   "outputs": [
    {
     "data": {
      "application/vnd.jupyter.widget-view+json": {
       "model_id": "ac6c16b3d8a244b89360436d2108a398",
       "version_major": 2,
       "version_minor": 0
      },
      "text/plain": [
       "VBox(children=(Dropdown(description='File : ', options=('image2.jpg',), value=None), Button(description='Run',…"
      ]
     },
     "metadata": {},
     "output_type": "display_data"
    },
    {
     "data": {
      "application/javascript": [
       "Jupyter.notebook.select_next().execute_cells_below()"
      ],
      "text/plain": [
       "<IPython.core.display.Javascript object>"
      ]
     },
     "metadata": {},
     "output_type": "display_data"
    }
   ],
   "source": [
    "scenario = selected_scenario.value\n",
    "\n",
    "hash_path = '/home/jovyan/test_data/'+scenario+'/hd2/status/hash.json'\n",
    "\n",
    "with open(hash_path) as json_file:\n",
    "    data = json.load(json_file)\n",
    "    \n",
    "files = [elem['file_name'] for elem in data]\n",
    "\n",
    "selected_file = widgets.Dropdown(\n",
    "    options     = files,\n",
    "    description = 'File : ',\n",
    "    disabled    = False,\n",
    "    value       = None)\n",
    "\n",
    "button = widgets.Button(description='Run')\n",
    "\n",
    "box = widgets.VBox(children=[selected_file, button])\n",
    "display(box)"
   ]
  },
  {
   "cell_type": "code",
   "execution_count": 12,
   "id": "representative-region",
   "metadata": {},
   "outputs": [],
   "source": [
    "%blockrun button"
   ]
  },
  {
   "cell_type": "code",
   "execution_count": 13,
   "id": "injured-sacrifice",
   "metadata": {},
   "outputs": [],
   "source": [
    "i = files.index(selected_file.value)\n",
    "folder_hash = data[i]['original_hash']\n",
    "\n",
    "file ='/home/jovyan/test_data/'+scenario+'/hd2/data/'+folder_hash+'/report.json'\n",
    "\n",
    "df0 = pd.read_json(file)\n",
    "df0 = df0.reset_index()\n",
    "\n",
    "info = df0.iloc[3]['gw:GWallInfo']\n",
    "\n",
    "df = pd.DataFrame.from_dict(info)"
   ]
  },
  {
   "cell_type": "markdown",
   "id": "changing-turkey",
   "metadata": {},
   "source": [
    "## Document Summary"
   ]
  },
  {
   "cell_type": "code",
   "execution_count": 14,
   "id": "rough-backing",
   "metadata": {},
   "outputs": [
    {
     "name": "stdout",
     "output_type": "stream",
     "text": [
      "Total Size In Bytes : 7817\n",
      "File Type : jpeg\n",
      "Version : Not Applicable\n"
     ]
    }
   ],
   "source": [
    "d = info['gw:DocumentSummary']\n",
    "\n",
    "for key in d:\n",
    "    d[key] = [d[key]]\n",
    "    \n",
    "document_summary = pd.DataFrame.from_dict(d)\n",
    "\n",
    "document_summary.rename(columns={'gw:TotalSizeInBytes':'Total Size In Bytes',  \n",
    "                                 'gw:FileType':'File Type',\n",
    "                                 'gw:Version':'Version'}, inplace=True)\n",
    "\n",
    "print('Total Size In Bytes :', document_summary['Total Size In Bytes'].iloc[0])\n",
    "print('File Type :', document_summary['File Type'].iloc[0])\n",
    "print('Version :', document_summary['Version'].iloc[0])"
   ]
  },
  {
   "cell_type": "markdown",
   "id": "fixed-design",
   "metadata": {},
   "source": [
    "## Extracted Items"
   ]
  },
  {
   "cell_type": "code",
   "execution_count": 15,
   "id": "toxic-tunisia",
   "metadata": {},
   "outputs": [
    {
     "name": "stdout",
     "output_type": "stream",
     "text": [
      "Item Count : 0\n"
     ]
    }
   ],
   "source": [
    "d = info['gw:ExtractedItems']\n",
    "\n",
    "for key in d:\n",
    "    d[key] = [d[key]]\n",
    "    \n",
    "extracted_items = pd.DataFrame.from_dict(d)\n",
    "\n",
    "extracted_items.rename(columns={'@itemCount':'Item Count'}, inplace=True)\n",
    "\n",
    "print(\"Item Count :\", extracted_items['Item Count'].iloc[0])"
   ]
  },
  {
   "cell_type": "markdown",
   "id": "twelve-heavy",
   "metadata": {},
   "source": [
    "## Content Management Policy"
   ]
  },
  {
   "cell_type": "code",
   "execution_count": 16,
   "id": "defined-stuff",
   "metadata": {},
   "outputs": [],
   "source": [
    "d = info['gw:ContentManagementPolicy']['gw:Camera']\n",
    "\n",
    "df0 = pd.DataFrame.from_dict(d)\n",
    "\n",
    "data = info['gw:ContentManagementPolicy']['gw:Camera'][0]['gw:ContentSwitch']\n",
    "\n",
    "if len(data) == 2:\n",
    "    for key in data:\n",
    "        data[key] = [data[key]]\n",
    "\n",
    "df = pd.DataFrame.from_dict(data)\n",
    "df['@cameraName'] = df0.iloc[0]['@cameraName']\n",
    "df = df[['@cameraName', 'gw:ContentName', 'gw:ContentValue']]\n",
    "\n",
    "for i in range(1, len(df0)):\n",
    "    data = info['gw:ContentManagementPolicy']['gw:Camera'][i]['gw:ContentSwitch']\n",
    "\n",
    "    if len(data) == 2:\n",
    "        for key in data:\n",
    "            data[key] = [data[key]]\n",
    "    \n",
    "    df1 = pd.DataFrame.from_dict(data)\n",
    "    df1['@cameraName'] = df0.iloc[i]['@cameraName']\n",
    "    df1 = df1[['@cameraName', 'gw:ContentName', 'gw:ContentValue']]\n",
    "    \n",
    "    df = pd.concat([df, df1], ignore_index=True)\n",
    "    \n",
    "content_management_policy = df\n",
    "\n",
    "content_management_policy.rename(columns={'@cameraName':'Camera Name', \n",
    "                                          'gw:ContentName':'Content Name', \n",
    "                                          'gw:ContentValue':'Content Value'}, inplace=True) "
   ]
  },
  {
   "cell_type": "code",
   "execution_count": 17,
   "id": "occupied-charles",
   "metadata": {},
   "outputs": [
    {
     "data": {
      "application/vnd.jupyter.widget-view+json": {
       "model_id": "eba3368c89324786b9ec76d66850ef41",
       "version_major": 2,
       "version_minor": 0
      },
      "text/plain": [
       "QgridWidget(grid_options={'fullWidthRows': True, 'syncColumnCellResize': True, 'forceFitColumns': True, 'defau…"
      ]
     },
     "metadata": {},
     "output_type": "display_data"
    }
   ],
   "source": [
    "qgrid_widget = qgrid.show_grid(content_management_policy, show_toolbar=True)\n",
    "qgrid_widget"
   ]
  },
  {
   "cell_type": "code",
   "execution_count": 18,
   "id": "lonely-portrait",
   "metadata": {},
   "outputs": [
    {
     "data": {
      "application/vnd.jupyter.widget-view+json": {
       "model_id": "8f1901d5955b48719326795346c3c36d",
       "version_major": 2,
       "version_minor": 0
      },
      "text/plain": [
       "VBox(children=(Dropdown(description='Camera : ', options=('pdfConfig', 'wordConfig', 'pptConfig', 'xlsConfig',…"
      ]
     },
     "metadata": {},
     "output_type": "display_data"
    },
    {
     "data": {
      "application/javascript": [
       "Jupyter.notebook.select_next().execute_cells_below()"
      ],
      "text/plain": [
       "<IPython.core.display.Javascript object>"
      ]
     },
     "metadata": {},
     "output_type": "display_data"
    }
   ],
   "source": [
    "camera_names = list(content_management_policy['Camera Name'].unique())\n",
    "\n",
    "selected_camera = widgets.Dropdown(\n",
    "    options     = camera_names,\n",
    "    description = 'Camera : ',\n",
    "    disabled    = False,\n",
    "    value       = None)\n",
    "\n",
    "button = widgets.Button(description='Run')\n",
    "\n",
    "box = widgets.VBox(children=[selected_camera, button])\n",
    "display(box)"
   ]
  },
  {
   "cell_type": "code",
   "execution_count": 21,
   "id": "stuffed-manufacturer",
   "metadata": {},
   "outputs": [],
   "source": [
    "%blockrun button"
   ]
  },
  {
   "cell_type": "code",
   "execution_count": 22,
   "id": "voluntary-avatar",
   "metadata": {},
   "outputs": [
    {
     "data": {
      "image/svg+xml": [
       "<?xml version=\"1.0\" encoding=\"UTF-8\" standalone=\"no\"?>\n",
       "<!DOCTYPE svg PUBLIC \"-//W3C//DTD SVG 1.1//EN\"\n",
       " \"http://www.w3.org/Graphics/SVG/1.1/DTD/svg11.dtd\">\n",
       "<!-- Generated by graphviz version 2.47.0 (20210327.0129)\n",
       " -->\n",
       "<!-- Pages: 1 -->\n",
       "<svg width=\"1228pt\" height=\"188pt\"\n",
       " viewBox=\"0.00 0.00 1228.00 188.00\" xmlns=\"http://www.w3.org/2000/svg\" xmlns:xlink=\"http://www.w3.org/1999/xlink\">\n",
       "<g id=\"graph0\" class=\"graph\" transform=\"scale(1 1) rotate(0) translate(4 184)\">\n",
       "<polygon fill=\"white\" stroke=\"transparent\" points=\"-4,4 -4,-184 1224,-184 1224,4 -4,4\"/>\n",
       "<!-- wordConfig -->\n",
       "<g id=\"node1\" class=\"node\">\n",
       "<title>wordConfig</title>\n",
       "<polygon fill=\"none\" stroke=\"black\" points=\"549,-180 451,-180 451,-144 549,-144 549,-180\"/>\n",
       "<text text-anchor=\"middle\" x=\"500\" y=\"-158.3\" font-family=\"Times-Roman\" font-size=\"14.00\">wordConfig</text>\n",
       "</g>\n",
       "<!-- metadata -->\n",
       "<g id=\"node2\" class=\"node\">\n",
       "<title>metadata</title>\n",
       "<polygon fill=\"none\" stroke=\"black\" points=\"86,-108 0,-108 0,-72 86,-72 86,-108\"/>\n",
       "<text text-anchor=\"middle\" x=\"43\" y=\"-86.3\" font-family=\"Times-Roman\" font-size=\"14.00\">metadata</text>\n",
       "</g>\n",
       "<!-- wordConfig&#45;&gt;metadata -->\n",
       "<g id=\"edge9\" class=\"edge\">\n",
       "<title>wordConfig&#45;&gt;metadata</title>\n",
       "<path fill=\"none\" stroke=\"black\" d=\"M450.86,-157.53C376,-151.6 228.96,-137.42 96.18,-108.04\"/>\n",
       "<polygon fill=\"black\" stroke=\"black\" points=\"96.77,-104.58 86.24,-105.8 95.23,-111.41 96.77,-104.58\"/>\n",
       "</g>\n",
       "<!-- macros -->\n",
       "<g id=\"node3\" class=\"node\">\n",
       "<title>macros</title>\n",
       "<polygon fill=\"none\" stroke=\"black\" points=\"174,-108 104,-108 104,-72 174,-72 174,-108\"/>\n",
       "<text text-anchor=\"middle\" x=\"139\" y=\"-86.3\" font-family=\"Times-Roman\" font-size=\"14.00\">macros</text>\n",
       "</g>\n",
       "<!-- wordConfig&#45;&gt;macros -->\n",
       "<g id=\"edge10\" class=\"edge\">\n",
       "<title>wordConfig&#45;&gt;macros</title>\n",
       "<path fill=\"none\" stroke=\"black\" d=\"M450.73,-155.9C389.85,-148.92 283.13,-134.42 184.19,-108.04\"/>\n",
       "<polygon fill=\"black\" stroke=\"black\" points=\"184.9,-104.6 174.33,-105.36 183.07,-111.36 184.9,-104.6\"/>\n",
       "</g>\n",
       "<!-- embedded_files -->\n",
       "<g id=\"node4\" class=\"node\">\n",
       "<title>embedded_files</title>\n",
       "<polygon fill=\"none\" stroke=\"black\" points=\"323.5,-108 192.5,-108 192.5,-72 323.5,-72 323.5,-108\"/>\n",
       "<text text-anchor=\"middle\" x=\"258\" y=\"-86.3\" font-family=\"Times-Roman\" font-size=\"14.00\">embedded_files</text>\n",
       "</g>\n",
       "<!-- wordConfig&#45;&gt;embedded_files -->\n",
       "<g id=\"edge11\" class=\"edge\">\n",
       "<title>wordConfig&#45;&gt;embedded_files</title>\n",
       "<path fill=\"none\" stroke=\"black\" d=\"M450.74,-146.75C415.06,-136.43 366.37,-122.35 326.86,-110.92\"/>\n",
       "<polygon fill=\"black\" stroke=\"black\" points=\"327.6,-107.49 317.02,-108.07 325.65,-114.21 327.6,-107.49\"/>\n",
       "</g>\n",
       "<!-- review_comments -->\n",
       "<g id=\"node5\" class=\"node\">\n",
       "<title>review_comments</title>\n",
       "<polygon fill=\"none\" stroke=\"black\" points=\"490,-108 342,-108 342,-72 490,-72 490,-108\"/>\n",
       "<text text-anchor=\"middle\" x=\"416\" y=\"-86.3\" font-family=\"Times-Roman\" font-size=\"14.00\">review_comments</text>\n",
       "</g>\n",
       "<!-- wordConfig&#45;&gt;review_comments -->\n",
       "<g id=\"edge12\" class=\"edge\">\n",
       "<title>wordConfig&#45;&gt;review_comments</title>\n",
       "<path fill=\"none\" stroke=\"black\" d=\"M479.24,-143.7C468.76,-134.97 455.89,-124.24 444.5,-114.75\"/>\n",
       "<polygon fill=\"black\" stroke=\"black\" points=\"446.45,-111.82 436.53,-108.1 441.97,-117.19 446.45,-111.82\"/>\n",
       "</g>\n",
       "<!-- internal_hyperlinks -->\n",
       "<g id=\"node6\" class=\"node\">\n",
       "<title>internal_hyperlinks</title>\n",
       "<polygon fill=\"none\" stroke=\"black\" points=\"660,-108 508,-108 508,-72 660,-72 660,-108\"/>\n",
       "<text text-anchor=\"middle\" x=\"584\" y=\"-86.3\" font-family=\"Times-Roman\" font-size=\"14.00\">internal_hyperlinks</text>\n",
       "</g>\n",
       "<!-- wordConfig&#45;&gt;internal_hyperlinks -->\n",
       "<g id=\"edge13\" class=\"edge\">\n",
       "<title>wordConfig&#45;&gt;internal_hyperlinks</title>\n",
       "<path fill=\"none\" stroke=\"black\" d=\"M520.76,-143.7C531.24,-134.97 544.11,-124.24 555.5,-114.75\"/>\n",
       "<polygon fill=\"black\" stroke=\"black\" points=\"558.03,-117.19 563.47,-108.1 553.55,-111.82 558.03,-117.19\"/>\n",
       "</g>\n",
       "<!-- external_hyperlinks -->\n",
       "<g id=\"node7\" class=\"node\">\n",
       "<title>external_hyperlinks</title>\n",
       "<polygon fill=\"none\" stroke=\"black\" points=\"835.5,-108 678.5,-108 678.5,-72 835.5,-72 835.5,-108\"/>\n",
       "<text text-anchor=\"middle\" x=\"757\" y=\"-86.3\" font-family=\"Times-Roman\" font-size=\"14.00\">external_hyperlinks</text>\n",
       "</g>\n",
       "<!-- wordConfig&#45;&gt;external_hyperlinks -->\n",
       "<g id=\"edge14\" class=\"edge\">\n",
       "<title>wordConfig&#45;&gt;external_hyperlinks</title>\n",
       "<path fill=\"none\" stroke=\"black\" d=\"M549.25,-147.59C587.51,-137.16 641.17,-122.55 684.36,-110.79\"/>\n",
       "<polygon fill=\"black\" stroke=\"black\" points=\"685.52,-114.1 694.25,-108.09 683.68,-107.34 685.52,-114.1\"/>\n",
       "</g>\n",
       "<!-- dynamic_data_exchange -->\n",
       "<g id=\"node8\" class=\"node\">\n",
       "<title>dynamic_data_exchange</title>\n",
       "<polygon fill=\"none\" stroke=\"black\" points=\"1048,-108 854,-108 854,-72 1048,-72 1048,-108\"/>\n",
       "<text text-anchor=\"middle\" x=\"951\" y=\"-86.3\" font-family=\"Times-Roman\" font-size=\"14.00\">dynamic_data_exchange</text>\n",
       "</g>\n",
       "<!-- wordConfig&#45;&gt;dynamic_data_exchange -->\n",
       "<g id=\"edge15\" class=\"edge\">\n",
       "<title>wordConfig&#45;&gt;dynamic_data_exchange</title>\n",
       "<path fill=\"none\" stroke=\"black\" d=\"M549,-153.52C615.74,-143.33 738.93,-124.44 844,-108 844.1,-107.98 844.2,-107.97 844.31,-107.95\"/>\n",
       "<polygon fill=\"black\" stroke=\"black\" points=\"844.56,-111.45 853.9,-106.45 843.48,-104.54 844.56,-111.45\"/>\n",
       "</g>\n",
       "<!-- embedded_images -->\n",
       "<g id=\"node9\" class=\"node\">\n",
       "<title>embedded_images</title>\n",
       "<polygon fill=\"none\" stroke=\"black\" points=\"1220,-108 1066,-108 1066,-72 1220,-72 1220,-108\"/>\n",
       "<text text-anchor=\"middle\" x=\"1143\" y=\"-86.3\" font-family=\"Times-Roman\" font-size=\"14.00\">embedded_images</text>\n",
       "</g>\n",
       "<!-- wordConfig&#45;&gt;embedded_images -->\n",
       "<g id=\"edge16\" class=\"edge\">\n",
       "<title>wordConfig&#45;&gt;embedded_images</title>\n",
       "<path fill=\"none\" stroke=\"black\" d=\"M549.38,-157.97C645.14,-151.74 862.92,-135.79 1055.68,-108.11\"/>\n",
       "<polygon fill=\"black\" stroke=\"black\" points=\"1056.31,-111.56 1065.71,-106.66 1055.31,-104.63 1056.31,-111.56\"/>\n",
       "</g>\n",
       "<!-- 10 -->\n",
       "<g id=\"node10\" class=\"node\">\n",
       "<title>10</title>\n",
       "<polygon fill=\"none\" stroke=\"black\" points=\"78.5,-36 7.5,-36 7.5,0 78.5,0 78.5,-36\"/>\n",
       "<text text-anchor=\"middle\" x=\"43\" y=\"-14.3\" font-family=\"Times-Roman\" font-size=\"14.00\">sanitise</text>\n",
       "</g>\n",
       "<!-- metadata&#45;&gt;10 -->\n",
       "<g id=\"edge1\" class=\"edge\">\n",
       "<title>metadata&#45;&gt;10</title>\n",
       "<path fill=\"none\" stroke=\"black\" d=\"M43,-71.7C43,-63.98 43,-54.71 43,-46.11\"/>\n",
       "<polygon fill=\"black\" stroke=\"black\" points=\"46.5,-46.1 43,-36.1 39.5,-46.1 46.5,-46.1\"/>\n",
       "</g>\n",
       "<!-- 11 -->\n",
       "<g id=\"node11\" class=\"node\">\n",
       "<title>11</title>\n",
       "<polygon fill=\"none\" stroke=\"black\" points=\"174.5,-36 103.5,-36 103.5,0 174.5,0 174.5,-36\"/>\n",
       "<text text-anchor=\"middle\" x=\"139\" y=\"-14.3\" font-family=\"Times-Roman\" font-size=\"14.00\">sanitise</text>\n",
       "</g>\n",
       "<!-- macros&#45;&gt;11 -->\n",
       "<g id=\"edge2\" class=\"edge\">\n",
       "<title>macros&#45;&gt;11</title>\n",
       "<path fill=\"none\" stroke=\"black\" d=\"M139,-71.7C139,-63.98 139,-54.71 139,-46.11\"/>\n",
       "<polygon fill=\"black\" stroke=\"black\" points=\"142.5,-46.1 139,-36.1 135.5,-46.1 142.5,-46.1\"/>\n",
       "</g>\n",
       "<!-- 12 -->\n",
       "<g id=\"node12\" class=\"node\">\n",
       "<title>12</title>\n",
       "<polygon fill=\"none\" stroke=\"black\" points=\"293.5,-36 222.5,-36 222.5,0 293.5,0 293.5,-36\"/>\n",
       "<text text-anchor=\"middle\" x=\"258\" y=\"-14.3\" font-family=\"Times-Roman\" font-size=\"14.00\">sanitise</text>\n",
       "</g>\n",
       "<!-- embedded_files&#45;&gt;12 -->\n",
       "<g id=\"edge3\" class=\"edge\">\n",
       "<title>embedded_files&#45;&gt;12</title>\n",
       "<path fill=\"none\" stroke=\"black\" d=\"M258,-71.7C258,-63.98 258,-54.71 258,-46.11\"/>\n",
       "<polygon fill=\"black\" stroke=\"black\" points=\"261.5,-46.1 258,-36.1 254.5,-46.1 261.5,-46.1\"/>\n",
       "</g>\n",
       "<!-- 13 -->\n",
       "<g id=\"node13\" class=\"node\">\n",
       "<title>13</title>\n",
       "<polygon fill=\"none\" stroke=\"black\" points=\"451.5,-36 380.5,-36 380.5,0 451.5,0 451.5,-36\"/>\n",
       "<text text-anchor=\"middle\" x=\"416\" y=\"-14.3\" font-family=\"Times-Roman\" font-size=\"14.00\">sanitise</text>\n",
       "</g>\n",
       "<!-- review_comments&#45;&gt;13 -->\n",
       "<g id=\"edge4\" class=\"edge\">\n",
       "<title>review_comments&#45;&gt;13</title>\n",
       "<path fill=\"none\" stroke=\"black\" d=\"M416,-71.7C416,-63.98 416,-54.71 416,-46.11\"/>\n",
       "<polygon fill=\"black\" stroke=\"black\" points=\"419.5,-46.1 416,-36.1 412.5,-46.1 419.5,-46.1\"/>\n",
       "</g>\n",
       "<!-- 14 -->\n",
       "<g id=\"node14\" class=\"node\">\n",
       "<title>14</title>\n",
       "<polygon fill=\"none\" stroke=\"black\" points=\"619.5,-36 548.5,-36 548.5,0 619.5,0 619.5,-36\"/>\n",
       "<text text-anchor=\"middle\" x=\"584\" y=\"-14.3\" font-family=\"Times-Roman\" font-size=\"14.00\">sanitise</text>\n",
       "</g>\n",
       "<!-- internal_hyperlinks&#45;&gt;14 -->\n",
       "<g id=\"edge5\" class=\"edge\">\n",
       "<title>internal_hyperlinks&#45;&gt;14</title>\n",
       "<path fill=\"none\" stroke=\"black\" d=\"M584,-71.7C584,-63.98 584,-54.71 584,-46.11\"/>\n",
       "<polygon fill=\"black\" stroke=\"black\" points=\"587.5,-46.1 584,-36.1 580.5,-46.1 587.5,-46.1\"/>\n",
       "</g>\n",
       "<!-- 15 -->\n",
       "<g id=\"node15\" class=\"node\">\n",
       "<title>15</title>\n",
       "<polygon fill=\"none\" stroke=\"black\" points=\"792.5,-36 721.5,-36 721.5,0 792.5,0 792.5,-36\"/>\n",
       "<text text-anchor=\"middle\" x=\"757\" y=\"-14.3\" font-family=\"Times-Roman\" font-size=\"14.00\">sanitise</text>\n",
       "</g>\n",
       "<!-- external_hyperlinks&#45;&gt;15 -->\n",
       "<g id=\"edge6\" class=\"edge\">\n",
       "<title>external_hyperlinks&#45;&gt;15</title>\n",
       "<path fill=\"none\" stroke=\"black\" d=\"M757,-71.7C757,-63.98 757,-54.71 757,-46.11\"/>\n",
       "<polygon fill=\"black\" stroke=\"black\" points=\"760.5,-46.1 757,-36.1 753.5,-46.1 760.5,-46.1\"/>\n",
       "</g>\n",
       "<!-- 16 -->\n",
       "<g id=\"node16\" class=\"node\">\n",
       "<title>16</title>\n",
       "<polygon fill=\"none\" stroke=\"black\" points=\"986.5,-36 915.5,-36 915.5,0 986.5,0 986.5,-36\"/>\n",
       "<text text-anchor=\"middle\" x=\"951\" y=\"-14.3\" font-family=\"Times-Roman\" font-size=\"14.00\">sanitise</text>\n",
       "</g>\n",
       "<!-- dynamic_data_exchange&#45;&gt;16 -->\n",
       "<g id=\"edge7\" class=\"edge\">\n",
       "<title>dynamic_data_exchange&#45;&gt;16</title>\n",
       "<path fill=\"none\" stroke=\"black\" d=\"M951,-71.7C951,-63.98 951,-54.71 951,-46.11\"/>\n",
       "<polygon fill=\"black\" stroke=\"black\" points=\"954.5,-46.1 951,-36.1 947.5,-46.1 954.5,-46.1\"/>\n",
       "</g>\n",
       "<!-- 17 -->\n",
       "<g id=\"node17\" class=\"node\">\n",
       "<title>17</title>\n",
       "<polygon fill=\"none\" stroke=\"black\" points=\"1178.5,-36 1107.5,-36 1107.5,0 1178.5,0 1178.5,-36\"/>\n",
       "<text text-anchor=\"middle\" x=\"1143\" y=\"-14.3\" font-family=\"Times-Roman\" font-size=\"14.00\">sanitise</text>\n",
       "</g>\n",
       "<!-- embedded_images&#45;&gt;17 -->\n",
       "<g id=\"edge8\" class=\"edge\">\n",
       "<title>embedded_images&#45;&gt;17</title>\n",
       "<path fill=\"none\" stroke=\"black\" d=\"M1143,-71.7C1143,-63.98 1143,-54.71 1143,-46.11\"/>\n",
       "<polygon fill=\"black\" stroke=\"black\" points=\"1146.5,-46.1 1143,-36.1 1139.5,-46.1 1146.5,-46.1\"/>\n",
       "</g>\n",
       "</g>\n",
       "</svg>\n"
      ],
      "text/plain": [
       "<graphviz.dot.Digraph at 0x7fde2beafd00>"
      ]
     },
     "execution_count": 22,
     "metadata": {},
     "output_type": "execute_result"
    }
   ],
   "source": [
    "elem = selected_camera.value\n",
    "\n",
    "gra = Digraph()\n",
    "    \n",
    "# root node\n",
    "gra.node(elem, shape='box')\n",
    "    \n",
    "df0 = content_management_policy[content_management_policy['Camera Name']==elem]\n",
    "    \n",
    "content_name = list(df0['Content Name'].unique())\n",
    "    \n",
    "with gra.subgraph() as i:\n",
    "    i.attr(rank='same')   \n",
    "    for elem2 in content_name:\n",
    "        i.node(elem2, shape='box')\n",
    "            \n",
    "for elem2 in content_name:\n",
    "    df00 = df0[df0['Content Name']==elem2]\n",
    "    k = int(df00.index[0])\n",
    "    text = df00.iloc[0]['Content Value']\n",
    "    gra.node(str(k), text, shape='box')\n",
    "    gra.edge(elem2, str(k))\n",
    "\n",
    "for elem3 in df0['Content Name']:\n",
    "    gra.edge(elem, elem3)\n",
    "        \n",
    "gra"
   ]
  },
  {
   "cell_type": "markdown",
   "id": "therapeutic-rehabilitation",
   "metadata": {},
   "source": [
    "## Content Groups"
   ]
  },
  {
   "cell_type": "code",
   "execution_count": 23,
   "id": "stable-indonesia",
   "metadata": {},
   "outputs": [
    {
     "name": "stdout",
     "output_type": "stream",
     "text": [
      "There are 3 groups\n"
     ]
    }
   ],
   "source": [
    "# Number of groups\n",
    "num_groups = info['gw:ContentGroups']['@groupCount']\n",
    "\n",
    "print(\"There are \" + num_groups + \" groups\")"
   ]
  },
  {
   "cell_type": "code",
   "execution_count": 24,
   "id": "cosmetic-trustee",
   "metadata": {},
   "outputs": [],
   "source": [
    "d = info['gw:ContentGroups']['gw:ContentGroup'][0]['gw:ContentItems']['gw:ContentItem']\n",
    "\n",
    "df = pd.DataFrame.from_dict(d)\n",
    "df['gw:BriefDescription'] = info['gw:ContentGroups']['gw:ContentGroup'][0]['gw:BriefDescription']\n",
    "df = df[['gw:BriefDescription', 'gw:TechnicalDescription', 'gw:InstanceCount', 'gw:TotalSizeInBytes', 'gw:AverageSizeInBytes', 'gw:MinSizeInBytes', 'gw:MaxSizeInBytes']]\n",
    "\n",
    "for i in range(1, int(num_groups)):\n",
    "    \n",
    "    df1 = pd.DataFrame.from_dict(d)\n",
    "    df1['gw:BriefDescription'] = info['gw:ContentGroups']['gw:ContentGroup'][i]['gw:BriefDescription']\n",
    "    df1 = df1[['gw:BriefDescription', 'gw:TechnicalDescription', 'gw:InstanceCount', 'gw:TotalSizeInBytes', 'gw:AverageSizeInBytes', 'gw:MinSizeInBytes', 'gw:MaxSizeInBytes']]\n",
    "    \n",
    "    df = pd.concat([df, df1], ignore_index=True)\n",
    "    \n",
    "content_groups = df\n",
    "\n",
    "content_groups.rename(columns={'gw:BriefDescription':'Brief Description', \n",
    "                               'gw:TechnicalDescription':'Technical Description',\n",
    "                               'gw:InstanceCount':'Instance Count',\n",
    "                               'gw:TotalSizeInBytes':'Total Size In Bytes',\n",
    "                               'gw:AverageSizeInBytes':'Average Size In Bytes',\n",
    "                               'gw:MinSizeInBytes':'Min Size In Bytes',\n",
    "                               'gw:MaxSizeInBytes':'Max Size In Bytes'}, inplace=True)"
   ]
  },
  {
   "cell_type": "code",
   "execution_count": 25,
   "id": "marked-netherlands",
   "metadata": {},
   "outputs": [
    {
     "data": {
      "application/vnd.jupyter.widget-view+json": {
       "model_id": "7e0cf81c263a435dbba33f0623d8c67a",
       "version_major": 2,
       "version_minor": 0
      },
      "text/plain": [
       "QgridWidget(grid_options={'fullWidthRows': True, 'syncColumnCellResize': True, 'forceFitColumns': True, 'defau…"
      ]
     },
     "metadata": {},
     "output_type": "display_data"
    }
   ],
   "source": [
    "qgrid_widget = qgrid.show_grid(content_groups, show_toolbar=True)\n",
    "qgrid_widget"
   ]
  },
  {
   "cell_type": "code",
   "execution_count": 26,
   "id": "commercial-glass",
   "metadata": {},
   "outputs": [
    {
     "data": {
      "application/vnd.jupyter.widget-view+json": {
       "model_id": "a004055f3b014eeda44f8b9061c919f0",
       "version_major": 2,
       "version_minor": 0
      },
      "text/plain": [
       "VBox(children=(Dropdown(description='Groups : ', options=('JPEG document has Marker Data Instances', 'JPEG doc…"
      ]
     },
     "metadata": {},
     "output_type": "display_data"
    },
    {
     "data": {
      "application/javascript": [
       "Jupyter.notebook.select_next().execute_cells_below()"
      ],
      "text/plain": [
       "<IPython.core.display.Javascript object>"
      ]
     },
     "metadata": {},
     "output_type": "display_data"
    }
   ],
   "source": [
    "groups = list(content_groups['Brief Description'].unique())\n",
    "\n",
    "selected_group = widgets.Dropdown(\n",
    "    options     = groups,\n",
    "    description = 'Groups : ',\n",
    "    disabled    = False,\n",
    "    value       = None)\n",
    "\n",
    "button = widgets.Button(description='Run')\n",
    "\n",
    "box = widgets.VBox(children=[selected_group, button])\n",
    "display(box)"
   ]
  },
  {
   "cell_type": "code",
   "execution_count": 29,
   "id": "charming-intelligence",
   "metadata": {},
   "outputs": [],
   "source": [
    "%blockrun button"
   ]
  },
  {
   "cell_type": "code",
   "execution_count": 30,
   "id": "final-election",
   "metadata": {},
   "outputs": [
    {
     "data": {
      "image/svg+xml": [
       "<?xml version=\"1.0\" encoding=\"UTF-8\" standalone=\"no\"?>\n",
       "<!DOCTYPE svg PUBLIC \"-//W3C//DTD SVG 1.1//EN\"\n",
       " \"http://www.w3.org/Graphics/SVG/1.1/DTD/svg11.dtd\">\n",
       "<!-- Generated by graphviz version 2.47.0 (20210327.0129)\n",
       " -->\n",
       "<!-- Pages: 1 -->\n",
       "<svg width=\"1562pt\" height=\"235pt\"\n",
       " viewBox=\"0.00 0.00 1561.50 235.00\" xmlns=\"http://www.w3.org/2000/svg\" xmlns:xlink=\"http://www.w3.org/1999/xlink\">\n",
       "<g id=\"graph0\" class=\"graph\" transform=\"scale(1 1) rotate(0) translate(4 231)\">\n",
       "<polygon fill=\"white\" stroke=\"transparent\" points=\"-4,4 -4,-231 1557.5,-231 1557.5,4 -4,4\"/>\n",
       "<!-- JPEG document has Scan Data Instances -->\n",
       "<g id=\"node1\" class=\"node\">\n",
       "<title>JPEG document has Scan Data Instances</title>\n",
       "<polygon fill=\"none\" stroke=\"black\" points=\"1062,-227 755,-227 755,-191 1062,-191 1062,-227\"/>\n",
       "<text text-anchor=\"middle\" x=\"908.5\" y=\"-205.3\" font-family=\"Times-Roman\" font-size=\"14.00\">JPEG document has Scan Data Instances</text>\n",
       "</g>\n",
       "<!-- APP0_Reserved_for_application_segments -->\n",
       "<g id=\"node2\" class=\"node\">\n",
       "<title>APP0_Reserved_for_application_segments</title>\n",
       "<polygon fill=\"none\" stroke=\"black\" points=\"317,-155 0,-155 0,-119 317,-119 317,-155\"/>\n",
       "<text text-anchor=\"middle\" x=\"158.5\" y=\"-133.3\" font-family=\"Times-Roman\" font-size=\"14.00\">APP0_Reserved_for_application_segments</text>\n",
       "</g>\n",
       "<!-- JPEG document has Scan Data Instances&#45;&gt;APP0_Reserved_for_application_segments -->\n",
       "<g id=\"edge1\" class=\"edge\">\n",
       "<title>JPEG document has Scan Data Instances&#45;&gt;APP0_Reserved_for_application_segments</title>\n",
       "<path fill=\"none\" stroke=\"black\" d=\"M754.72,-194.48C639.78,-184.26 478.49,-169.7 327.55,-155.19\"/>\n",
       "<polygon fill=\"black\" stroke=\"black\" points=\"327.45,-151.67 317.16,-154.19 326.78,-158.63 327.45,-151.67\"/>\n",
       "</g>\n",
       "<!-- APP2_Reserved_for_application_segments -->\n",
       "<g id=\"node3\" class=\"node\">\n",
       "<title>APP2_Reserved_for_application_segments</title>\n",
       "<polygon fill=\"none\" stroke=\"black\" points=\"652,-155 335,-155 335,-119 652,-119 652,-155\"/>\n",
       "<text text-anchor=\"middle\" x=\"493.5\" y=\"-133.3\" font-family=\"Times-Roman\" font-size=\"14.00\">APP2_Reserved_for_application_segments</text>\n",
       "</g>\n",
       "<!-- JPEG document has Scan Data Instances&#45;&gt;APP2_Reserved_for_application_segments -->\n",
       "<g id=\"edge2\" class=\"edge\">\n",
       "<title>JPEG document has Scan Data Instances&#45;&gt;APP2_Reserved_for_application_segments</title>\n",
       "<path fill=\"none\" stroke=\"black\" d=\"M807.51,-190.97C746.13,-180.61 667.7,-167.38 604.58,-156.74\"/>\n",
       "<polygon fill=\"black\" stroke=\"black\" points=\"605.03,-153.26 594.58,-155.05 603.86,-160.16 605.03,-153.26\"/>\n",
       "</g>\n",
       "<!-- DHT_Define_Huffman_tables -->\n",
       "<g id=\"node4\" class=\"node\">\n",
       "<title>DHT_Define_Huffman_tables</title>\n",
       "<polygon fill=\"none\" stroke=\"black\" points=\"892.5,-155 670.5,-155 670.5,-119 892.5,-119 892.5,-155\"/>\n",
       "<text text-anchor=\"middle\" x=\"781.5\" y=\"-133.3\" font-family=\"Times-Roman\" font-size=\"14.00\">DHT_Define_Huffman_tables</text>\n",
       "</g>\n",
       "<!-- JPEG document has Scan Data Instances&#45;&gt;DHT_Define_Huffman_tables -->\n",
       "<g id=\"edge3\" class=\"edge\">\n",
       "<title>JPEG document has Scan Data Instances&#45;&gt;DHT_Define_Huffman_tables</title>\n",
       "<path fill=\"none\" stroke=\"black\" d=\"M877.43,-190.88C860.67,-181.64 839.79,-170.13 821.8,-160.21\"/>\n",
       "<polygon fill=\"black\" stroke=\"black\" points=\"823.13,-156.95 812.69,-155.19 819.76,-163.08 823.13,-156.95\"/>\n",
       "</g>\n",
       "<!-- DQT_Define_quantization_tables -->\n",
       "<g id=\"node5\" class=\"node\">\n",
       "<title>DQT_Define_quantization_tables</title>\n",
       "<polygon fill=\"none\" stroke=\"black\" points=\"1160.5,-155 910.5,-155 910.5,-119 1160.5,-119 1160.5,-155\"/>\n",
       "<text text-anchor=\"middle\" x=\"1035.5\" y=\"-133.3\" font-family=\"Times-Roman\" font-size=\"14.00\">DQT_Define_quantization_tables</text>\n",
       "</g>\n",
       "<!-- JPEG document has Scan Data Instances&#45;&gt;DQT_Define_quantization_tables -->\n",
       "<g id=\"edge4\" class=\"edge\">\n",
       "<title>JPEG document has Scan Data Instances&#45;&gt;DQT_Define_quantization_tables</title>\n",
       "<path fill=\"none\" stroke=\"black\" d=\"M939.57,-190.88C956.33,-181.64 977.21,-170.13 995.2,-160.21\"/>\n",
       "<polygon fill=\"black\" stroke=\"black\" points=\"997.24,-163.08 1004.31,-155.19 993.87,-156.95 997.24,-163.08\"/>\n",
       "</g>\n",
       "<!-- EOI_End_of_image -->\n",
       "<g id=\"node6\" class=\"node\">\n",
       "<title>EOI_End_of_image</title>\n",
       "<polygon fill=\"none\" stroke=\"black\" points=\"1328.5,-155 1178.5,-155 1178.5,-119 1328.5,-119 1328.5,-155\"/>\n",
       "<text text-anchor=\"middle\" x=\"1253.5\" y=\"-133.3\" font-family=\"Times-Roman\" font-size=\"14.00\">EOI_End_of_image</text>\n",
       "</g>\n",
       "<!-- JPEG document has Scan Data Instances&#45;&gt;EOI_End_of_image -->\n",
       "<g id=\"edge5\" class=\"edge\">\n",
       "<title>JPEG document has Scan Data Instances&#45;&gt;EOI_End_of_image</title>\n",
       "<path fill=\"none\" stroke=\"black\" d=\"M992.46,-190.97C1045.88,-180.13 1114.84,-166.13 1168.47,-155.25\"/>\n",
       "<polygon fill=\"black\" stroke=\"black\" points=\"1169.19,-158.68 1178.29,-153.26 1167.8,-151.82 1169.19,-158.68\"/>\n",
       "</g>\n",
       "<!-- SOI_Start_of_image -->\n",
       "<g id=\"node7\" class=\"node\">\n",
       "<title>SOI_Start_of_image</title>\n",
       "<polygon fill=\"none\" stroke=\"black\" points=\"1521.5,-155 1363.5,-155 1363.5,-119 1521.5,-119 1521.5,-155\"/>\n",
       "<text text-anchor=\"middle\" x=\"1442.5\" y=\"-133.3\" font-family=\"Times-Roman\" font-size=\"14.00\">SOI_Start_of_image</text>\n",
       "</g>\n",
       "<!-- JPEG document has Scan Data Instances&#45;&gt;SOI_Start_of_image -->\n",
       "<g id=\"edge6\" class=\"edge\">\n",
       "<title>JPEG document has Scan Data Instances&#45;&gt;SOI_Start_of_image</title>\n",
       "<path fill=\"none\" stroke=\"black\" d=\"M1057.59,-190.98C1140.18,-181.2 1244.63,-168.25 1337.5,-155 1342.62,-154.27 1347.89,-153.49 1353.19,-152.69\"/>\n",
       "<polygon fill=\"black\" stroke=\"black\" points=\"1354.07,-156.1 1363.43,-151.13 1353.01,-149.18 1354.07,-156.1\"/>\n",
       "</g>\n",
       "<!-- 0 -->\n",
       "<g id=\"node8\" class=\"node\">\n",
       "<title>0</title>\n",
       "<polygon fill=\"none\" stroke=\"black\" points=\"258,-83 59,-83 59,0 258,0 258,-83\"/>\n",
       "<text text-anchor=\"middle\" x=\"158.5\" y=\"-67.8\" font-family=\"Times-Roman\" font-size=\"14.00\">Instance Count: 1</text>\n",
       "<text text-anchor=\"middle\" x=\"158.5\" y=\"-52.8\" font-family=\"Times-Roman\" font-size=\"14.00\">Total Size In Bytes: 18</text>\n",
       "<text text-anchor=\"middle\" x=\"158.5\" y=\"-37.8\" font-family=\"Times-Roman\" font-size=\"14.00\">Average Size In Bytes: 18</text>\n",
       "<text text-anchor=\"middle\" x=\"158.5\" y=\"-22.8\" font-family=\"Times-Roman\" font-size=\"14.00\">Min Size In Bytes: 18</text>\n",
       "<text text-anchor=\"middle\" x=\"158.5\" y=\"-7.8\" font-family=\"Times-Roman\" font-size=\"14.00\">Max Size In Bytes: 18</text>\n",
       "</g>\n",
       "<!-- APP0_Reserved_for_application_segments&#45;&gt;0 -->\n",
       "<g id=\"edge7\" class=\"edge\">\n",
       "<title>APP0_Reserved_for_application_segments&#45;&gt;0</title>\n",
       "<path fill=\"none\" stroke=\"black\" d=\"M158.5,-118.85C158.5,-111.49 158.5,-102.48 158.5,-93.25\"/>\n",
       "<polygon fill=\"black\" stroke=\"black\" points=\"162,-93.23 158.5,-83.23 155,-93.23 162,-93.23\"/>\n",
       "</g>\n",
       "<!-- 1 -->\n",
       "<g id=\"node9\" class=\"node\">\n",
       "<title>1</title>\n",
       "<polygon fill=\"none\" stroke=\"black\" points=\"602,-83 385,-83 385,0 602,0 602,-83\"/>\n",
       "<text text-anchor=\"middle\" x=\"493.5\" y=\"-67.8\" font-family=\"Times-Roman\" font-size=\"14.00\">Instance Count: 1</text>\n",
       "<text text-anchor=\"middle\" x=\"493.5\" y=\"-52.8\" font-family=\"Times-Roman\" font-size=\"14.00\">Total Size In Bytes: 3162</text>\n",
       "<text text-anchor=\"middle\" x=\"493.5\" y=\"-37.8\" font-family=\"Times-Roman\" font-size=\"14.00\">Average Size In Bytes: 3162</text>\n",
       "<text text-anchor=\"middle\" x=\"493.5\" y=\"-22.8\" font-family=\"Times-Roman\" font-size=\"14.00\">Min Size In Bytes: 3162</text>\n",
       "<text text-anchor=\"middle\" x=\"493.5\" y=\"-7.8\" font-family=\"Times-Roman\" font-size=\"14.00\">Max Size In Bytes: 3162</text>\n",
       "</g>\n",
       "<!-- APP2_Reserved_for_application_segments&#45;&gt;1 -->\n",
       "<g id=\"edge8\" class=\"edge\">\n",
       "<title>APP2_Reserved_for_application_segments&#45;&gt;1</title>\n",
       "<path fill=\"none\" stroke=\"black\" d=\"M493.5,-118.85C493.5,-111.49 493.5,-102.48 493.5,-93.25\"/>\n",
       "<polygon fill=\"black\" stroke=\"black\" points=\"497,-93.23 493.5,-83.23 490,-93.23 497,-93.23\"/>\n",
       "</g>\n",
       "<!-- 2 -->\n",
       "<g id=\"node10\" class=\"node\">\n",
       "<title>2</title>\n",
       "<polygon fill=\"none\" stroke=\"black\" points=\"881,-83 682,-83 682,0 881,0 881,-83\"/>\n",
       "<text text-anchor=\"middle\" x=\"781.5\" y=\"-67.8\" font-family=\"Times-Roman\" font-size=\"14.00\">Instance Count: 4</text>\n",
       "<text text-anchor=\"middle\" x=\"781.5\" y=\"-52.8\" font-family=\"Times-Roman\" font-size=\"14.00\">Total Size In Bytes: 141</text>\n",
       "<text text-anchor=\"middle\" x=\"781.5\" y=\"-37.8\" font-family=\"Times-Roman\" font-size=\"14.00\">Average Size In Bytes: 35</text>\n",
       "<text text-anchor=\"middle\" x=\"781.5\" y=\"-22.8\" font-family=\"Times-Roman\" font-size=\"14.00\">Min Size In Bytes: 29</text>\n",
       "<text text-anchor=\"middle\" x=\"781.5\" y=\"-7.8\" font-family=\"Times-Roman\" font-size=\"14.00\">Max Size In Bytes: 46</text>\n",
       "</g>\n",
       "<!-- DHT_Define_Huffman_tables&#45;&gt;2 -->\n",
       "<g id=\"edge9\" class=\"edge\">\n",
       "<title>DHT_Define_Huffman_tables&#45;&gt;2</title>\n",
       "<path fill=\"none\" stroke=\"black\" d=\"M781.5,-118.85C781.5,-111.49 781.5,-102.48 781.5,-93.25\"/>\n",
       "<polygon fill=\"black\" stroke=\"black\" points=\"785,-93.23 781.5,-83.23 778,-93.23 785,-93.23\"/>\n",
       "</g>\n",
       "<!-- 3 -->\n",
       "<g id=\"node11\" class=\"node\">\n",
       "<title>3</title>\n",
       "<polygon fill=\"none\" stroke=\"black\" points=\"1135,-83 936,-83 936,0 1135,0 1135,-83\"/>\n",
       "<text text-anchor=\"middle\" x=\"1035.5\" y=\"-67.8\" font-family=\"Times-Roman\" font-size=\"14.00\">Instance Count: 2</text>\n",
       "<text text-anchor=\"middle\" x=\"1035.5\" y=\"-52.8\" font-family=\"Times-Roman\" font-size=\"14.00\">Total Size In Bytes: 138</text>\n",
       "<text text-anchor=\"middle\" x=\"1035.5\" y=\"-37.8\" font-family=\"Times-Roman\" font-size=\"14.00\">Average Size In Bytes: 69</text>\n",
       "<text text-anchor=\"middle\" x=\"1035.5\" y=\"-22.8\" font-family=\"Times-Roman\" font-size=\"14.00\">Min Size In Bytes: 69</text>\n",
       "<text text-anchor=\"middle\" x=\"1035.5\" y=\"-7.8\" font-family=\"Times-Roman\" font-size=\"14.00\">Max Size In Bytes: 69</text>\n",
       "</g>\n",
       "<!-- DQT_Define_quantization_tables&#45;&gt;3 -->\n",
       "<g id=\"edge10\" class=\"edge\">\n",
       "<title>DQT_Define_quantization_tables&#45;&gt;3</title>\n",
       "<path fill=\"none\" stroke=\"black\" d=\"M1035.5,-118.85C1035.5,-111.49 1035.5,-102.48 1035.5,-93.25\"/>\n",
       "<polygon fill=\"black\" stroke=\"black\" points=\"1039,-93.23 1035.5,-83.23 1032,-93.23 1039,-93.23\"/>\n",
       "</g>\n",
       "<!-- 4 -->\n",
       "<g id=\"node12\" class=\"node\">\n",
       "<title>4</title>\n",
       "<polygon fill=\"none\" stroke=\"black\" points=\"1345.5,-83 1155.5,-83 1155.5,0 1345.5,0 1345.5,-83\"/>\n",
       "<text text-anchor=\"middle\" x=\"1250.5\" y=\"-67.8\" font-family=\"Times-Roman\" font-size=\"14.00\">Instance Count: 1</text>\n",
       "<text text-anchor=\"middle\" x=\"1250.5\" y=\"-52.8\" font-family=\"Times-Roman\" font-size=\"14.00\">Total Size In Bytes: 2</text>\n",
       "<text text-anchor=\"middle\" x=\"1250.5\" y=\"-37.8\" font-family=\"Times-Roman\" font-size=\"14.00\">Average Size In Bytes: 2</text>\n",
       "<text text-anchor=\"middle\" x=\"1250.5\" y=\"-22.8\" font-family=\"Times-Roman\" font-size=\"14.00\">Min Size In Bytes: 2</text>\n",
       "<text text-anchor=\"middle\" x=\"1250.5\" y=\"-7.8\" font-family=\"Times-Roman\" font-size=\"14.00\">Max Size In Bytes: 2</text>\n",
       "</g>\n",
       "<!-- EOI_End_of_image&#45;&gt;4 -->\n",
       "<g id=\"edge11\" class=\"edge\">\n",
       "<title>EOI_End_of_image&#45;&gt;4</title>\n",
       "<path fill=\"none\" stroke=\"black\" d=\"M1252.95,-118.85C1252.71,-111.49 1252.42,-102.48 1252.13,-93.25\"/>\n",
       "<polygon fill=\"black\" stroke=\"black\" points=\"1255.63,-93.11 1251.81,-83.23 1248.63,-93.33 1255.63,-93.11\"/>\n",
       "</g>\n",
       "<!-- 5 -->\n",
       "<g id=\"node13\" class=\"node\">\n",
       "<title>5</title>\n",
       "<polygon fill=\"none\" stroke=\"black\" points=\"1553.5,-83 1363.5,-83 1363.5,0 1553.5,0 1553.5,-83\"/>\n",
       "<text text-anchor=\"middle\" x=\"1458.5\" y=\"-67.8\" font-family=\"Times-Roman\" font-size=\"14.00\">Instance Count: 1</text>\n",
       "<text text-anchor=\"middle\" x=\"1458.5\" y=\"-52.8\" font-family=\"Times-Roman\" font-size=\"14.00\">Total Size In Bytes: 2</text>\n",
       "<text text-anchor=\"middle\" x=\"1458.5\" y=\"-37.8\" font-family=\"Times-Roman\" font-size=\"14.00\">Average Size In Bytes: 2</text>\n",
       "<text text-anchor=\"middle\" x=\"1458.5\" y=\"-22.8\" font-family=\"Times-Roman\" font-size=\"14.00\">Min Size In Bytes: 2</text>\n",
       "<text text-anchor=\"middle\" x=\"1458.5\" y=\"-7.8\" font-family=\"Times-Roman\" font-size=\"14.00\">Max Size In Bytes: 2</text>\n",
       "</g>\n",
       "<!-- SOI_Start_of_image&#45;&gt;5 -->\n",
       "<g id=\"edge12\" class=\"edge\">\n",
       "<title>SOI_Start_of_image&#45;&gt;5</title>\n",
       "<path fill=\"none\" stroke=\"black\" d=\"M1445.43,-118.85C1446.69,-111.49 1448.24,-102.48 1449.82,-93.25\"/>\n",
       "<polygon fill=\"black\" stroke=\"black\" points=\"1453.29,-93.67 1451.53,-83.23 1446.39,-92.49 1453.29,-93.67\"/>\n",
       "</g>\n",
       "</g>\n",
       "</svg>\n"
      ],
      "text/plain": [
       "<graphviz.dot.Digraph at 0x7fde68480190>"
      ]
     },
     "execution_count": 30,
     "metadata": {},
     "output_type": "execute_result"
    }
   ],
   "source": [
    "elem = selected_group.value\n",
    "\n",
    "gra = Digraph()\n",
    "    \n",
    "# root node\n",
    "gra.node(elem, shape='box')\n",
    "    \n",
    "df0 = content_groups[content_groups['Brief Description']==elem]\n",
    "    \n",
    "tech_description = list(df0['Technical Description'].unique())\n",
    "    \n",
    "with gra.subgraph() as i:\n",
    "    i.attr(rank='same')   \n",
    "    for elem2 in tech_description:\n",
    "        i.node(elem2, shape='box')\n",
    "\n",
    "for elem3 in df0['Technical Description']:\n",
    "    gra.edge(elem, elem3)\n",
    "    \n",
    "for elem2 in tech_description:\n",
    "    k = tech_description.index(elem2)\n",
    "    df00 = df0[df0['Technical Description']==elem2].reset_index()       \n",
    "    text = 'Instance Count: ' + df00['Instance Count'].iloc[0]\n",
    "    text += '\\nTotal Size In Bytes: ' + df00['Total Size In Bytes'].iloc[0]\n",
    "    text += '\\nAverage Size In Bytes: ' + df00['Average Size In Bytes'].iloc[0]\n",
    "    text += '\\nMin Size In Bytes: ' + df00['Min Size In Bytes'].iloc[0]\n",
    "    text += '\\nMax Size In Bytes: ' + df00['Max Size In Bytes'].iloc[0]\n",
    "    \n",
    "    gra.node(str(k), text, shape='box')\n",
    "    gra.edge(elem2, str(k))\n",
    "        \n",
    "gra"
   ]
  },
  {
   "cell_type": "code",
   "execution_count": 31,
   "id": "regulated-forth",
   "metadata": {},
   "outputs": [],
   "source": [
    "df1 = df0.set_index('Technical Description')\n",
    "\n",
    "df1[\"Instance Count\"] = pd.to_numeric(df1[\"Instance Count\"])\n",
    "df1[\"Total Size In Bytes\"] = pd.to_numeric(df1[\"Total Size In Bytes\"])\n",
    "df1[\"Average Size In Bytes\"] = pd.to_numeric(df1[\"Average Size In Bytes\"])\n",
    "df1[\"Min Size In Bytes\"] = pd.to_numeric(df1[\"Min Size In Bytes\"])\n",
    "df1[\"Max Size In Bytes\"] = pd.to_numeric(df1[\"Max Size In Bytes\"])\n",
    "\n",
    "df1 = df1.drop(columns='Brief Description')"
   ]
  },
  {
   "cell_type": "code",
   "execution_count": 32,
   "id": "pacific-scene",
   "metadata": {},
   "outputs": [
    {
     "data": {
      "image/png": "[encoded data removed]",
      "text/plain": [
       "<Figure size 1080x576 with 1 Axes>"
      ]
     },
     "metadata": {},
     "output_type": "display_data"
    }
   ],
   "source": [
    "with plt.style.context('ggplot'):\n",
    "    plt.figure(figsize=(15, 8))\n",
    "    df1['Instance Count'].plot(kind='bar', color='C0', title='Instance Count');"
   ]
  },
  {
   "cell_type": "code",
   "execution_count": 33,
   "id": "tired-thickness",
   "metadata": {},
   "outputs": [],
   "source": [
    "df1 = df1.T"
   ]
  },
  {
   "cell_type": "code",
   "execution_count": 34,
   "id": "freelance-assist",
   "metadata": {},
   "outputs": [
    {
     "data": {
      "application/vnd.jupyter.widget-view+json": {
       "model_id": "8b18d18e437c495999b5faa9efd50dc5",
       "version_major": 2,
       "version_minor": 0
      },
      "text/plain": [
       "VBox(children=(Dropdown(description='Tech : ', options=('APP0_Reserved_for_application_segments', 'APP2_Reserv…"
      ]
     },
     "metadata": {},
     "output_type": "display_data"
    },
    {
     "data": {
      "application/javascript": [
       "Jupyter.notebook.select_next().execute_cells_below()"
      ],
      "text/plain": [
       "<IPython.core.display.Javascript object>"
      ]
     },
     "metadata": {},
     "output_type": "display_data"
    }
   ],
   "source": [
    "selected_tech = widgets.Dropdown(\n",
    "    options     = tech_description,\n",
    "    description = 'Tech : ',\n",
    "    disabled    = False,\n",
    "    value       = None)\n",
    "\n",
    "button = widgets.Button(description='Run')\n",
    "\n",
    "box = widgets.VBox(children=[selected_tech, button])\n",
    "display(box)"
   ]
  },
  {
   "cell_type": "code",
   "execution_count": 37,
   "id": "quick-excellence",
   "metadata": {},
   "outputs": [],
   "source": [
    "%blockrun button"
   ]
  },
  {
   "cell_type": "code",
   "execution_count": 38,
   "id": "material-solid",
   "metadata": {},
   "outputs": [
    {
     "data": {
      "image/png": "[encoded data removed]",
      "text/plain": [
       "<Figure size 1080x576 with 1 Axes>"
      ]
     },
     "metadata": {},
     "output_type": "display_data"
    }
   ],
   "source": [
    "tech = selected_tech.value\n",
    "\n",
    "with plt.style.context('ggplot'):\n",
    "    plt.figure(figsize=(15,8))\n",
    "    df1[tech].plot(kind='bar', color='C0', title=tech);"
   ]
  },
  {
   "cell_type": "code",
   "execution_count": 39,
   "id": "outdoor-sewing",
   "metadata": {},
   "outputs": [
    {
     "data": {
      "image/png": "[encoded data removed]",
      "text/plain": [
       "<Figure size 1080x576 with 1 Axes>"
      ]
     },
     "metadata": {
      "needs_background": "light"
     },
     "output_type": "display_data"
    }
   ],
   "source": [
    "labels = [tech]\n",
    "\n",
    "count = [df1[tech].iloc[0]]\n",
    "total = [df1[tech].iloc[1]]\n",
    "average = [df1[tech].iloc[2]]\n",
    "min_ = [df1[tech].iloc[3]]\n",
    "max_ = [df1[tech].iloc[4]]\n",
    "\n",
    "x = np.arange(len(labels))  # the label locations\n",
    "width = 0.25  # the width of the bars\n",
    "\n",
    "fig, ax = plt.subplots(figsize=(15, 8))\n",
    "rects1 = ax.bar(x - 2*width, count, width, label='Instance Count')\n",
    "rects2 = ax.bar(x - width, total, width, label='Total Size In Bytes')\n",
    "rects3 = ax.bar(x , average, width, label='Average Size In Bytes')\n",
    "rects4 = ax.bar(x + width, min_, width, label='Min Size In Bytes')\n",
    "rects5 = ax.bar(x + 2*width, max_, width, label='Max Size In Bytes')\n",
    "\n",
    "# Add some text for labels, title and custom x-axis tick labels, etc.\n",
    "ax.set_title(tech)\n",
    "ax.set_xticks(x)\n",
    "ax.set_xticklabels(labels)\n",
    "ax.legend()\n",
    "\n",
    "ax.bar_label(rects1, padding=3)\n",
    "ax.bar_label(rects2, padding=3)\n",
    "ax.bar_label(rects3, padding=3)\n",
    "ax.bar_label(rects4, padding=3)\n",
    "ax.bar_label(rects5, padding=3)\n",
    "\n",
    "fig.tight_layout()\n",
    "\n",
    "plt.show()"
   ]
  }
 ],
 "metadata": {
  "kernelspec": {
   "display_name": "Python 3",
   "language": "python",
   "name": "python3"
  },
  "language_info": {
   "codemirror_mode": {
    "name": "ipython",
    "version": 3
   },
   "file_extension": ".py",
   "mimetype": "text/x-python",
   "name": "python",
   "nbconvert_exporter": "python",
   "pygments_lexer": "ipython3",
   "version": "3.8.8"
  }
 },
 "nbformat": 4,
 "nbformat_minor": 5
}
