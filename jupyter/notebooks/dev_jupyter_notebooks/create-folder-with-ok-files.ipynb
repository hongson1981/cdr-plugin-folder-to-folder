{
 "cells": [
  {
   "cell_type": "code",
   "execution_count": null,
   "id": "funky-estate",
   "metadata": {},
   "outputs": [],
   "source": [
    "from osbot_utils.utils.Files import file_name,files_list, file_delete, folder_create, file_copy\n",
    "import os\n",
    "\n",
    "path_hd1 = '../../test_data/scenario-2/hd1'\n",
    "path_hd3 = '../../test_data/scenario-2/hd3'\n",
    "path_hd1_ok = '../../test_data/gov-docs-3/hd1_ok'\n",
    "\n",
    "os.makedirs(path_hd1_ok,0o755)\n",
    "\n",
    "files_hd1     = files_list(path_hd1)\n",
    "filenames_hd3 = [file_name(file) for file in files_list(path_hd3)]\n",
    "found         = []\n",
    "not_found     = []\n",
    "for file_hd1 in files_hd1:\n",
    "    if file_name(file_hd1) in filenames_hd3:\n",
    "        found.append(file_hd1)\n",
    "    else:\n",
    "        not_found.append(file_hd1)\n",
    "len(found) , len(not_found)"
   ]
  },
  {
   "cell_type": "code",
   "execution_count": null,
   "id": "angry-algorithm",
   "metadata": {},
   "outputs": [],
   "source": [
    "for file in found:\n",
    "    file_copy(file, path_hd1_ok)\n",
    "files_hd1_ok = files_list(path_hd1_ok)\n",
    "len(files_hd1_ok)"
   ]
  },
  {
   "cell_type": "code",
   "execution_count": null,
   "id": "alpha-component",
   "metadata": {
    "scrolled": true
   },
   "outputs": [],
   "source": [
    "not_found"
   ]
  },
  {
   "cell_type": "code",
   "execution_count": null,
   "id": "korean-record",
   "metadata": {},
   "outputs": [],
   "source": []
  }
 ],
 "metadata": {
  "kernelspec": {
   "display_name": "Python 3",
   "language": "python",
   "name": "python3"
  },
  "language_info": {
   "codemirror_mode": {
    "name": "ipython",
    "version": 3
   },
   "file_extension": ".py",
   "mimetype": "text/x-python",
   "name": "python",
   "nbconvert_exporter": "python",
   "pygments_lexer": "ipython3",
   "version": "3.9.2"
  }
 },
 "nbformat": 4,
 "nbformat_minor": 5
}
