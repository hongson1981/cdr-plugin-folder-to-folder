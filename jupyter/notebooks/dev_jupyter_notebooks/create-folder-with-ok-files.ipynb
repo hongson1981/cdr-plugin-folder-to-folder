{
 "cells": [
  {
   "cell_type": "code",
   "execution_count": 55,
   "id": "funky-estate",
   "metadata": {},
   "outputs": [
    {
     "data": {
      "text/plain": [
       "(545, 29)"
      ]
     },
     "execution_count": 55,
     "metadata": {},
     "output_type": "execute_result"
    }
   ],
   "source": [
    "from osbot_utils.utils.Files import file_name,files_list, file_delete, folder_create, file_copy\n",
    "\n",
    "path_hd1 = '../../test_data/gov-docs-1/hd1'\n",
    "path_hd3 = '../../test_data/gov-docs-1/hd3'\n",
    "path_hd1_ok = '../../test_data/gov-docs-1/hd1_ok'\n",
    "\n",
    "folder_create(path_hd1_ok)\n",
    "\n",
    "files_hd1     = files_list(path_hd1)\n",
    "filenames_hd3 = [file_name(file) for file in files_list(path_hd3)]\n",
    "found         = []\n",
    "not_found     = []\n",
    "for file_hd1 in files_hd1:\n",
    "    if file_name(file_hd1) in filenames_hd3:\n",
    "        found.append(file_hd1)\n",
    "    else:\n",
    "        not_found.append(file_hd1)\n",
    "len(found) , len(not_found)"
   ]
  },
  {
   "cell_type": "code",
   "execution_count": 60,
   "id": "angry-algorithm",
   "metadata": {},
   "outputs": [
    {
     "data": {
      "text/plain": [
       "545"
      ]
     },
     "execution_count": 60,
     "metadata": {},
     "output_type": "execute_result"
    }
   ],
   "source": [
    "for file in found:\n",
    "    file_copy(file, path_hd1_ok)\n",
    "files_hd1_ok = files_list(path_hd1_ok)\n",
    "len(files_hd1_ok)"
   ]
  },
  {
   "cell_type": "code",
   "execution_count": 56,
   "id": "alpha-component",
   "metadata": {
    "scrolled": true
   },
   "outputs": [
    {
     "data": {
      "text/plain": [
       "['../../test_data/gov-docs-1/hd1/000/000033.xls',\n",
       " '../../test_data/gov-docs-1/hd1/000/000037.xls',\n",
       " '../../test_data/gov-docs-1/hd1/000/000047.xls',\n",
       " '../../test_data/gov-docs-1/hd1/000/000048.xls',\n",
       " '../../test_data/gov-docs-1/hd1/000/000049.xls',\n",
       " '../../test_data/gov-docs-1/hd1/000/000054.xls',\n",
       " '../../test_data/gov-docs-1/hd1/000/000114.doc',\n",
       " '../../test_data/gov-docs-1/hd1/000/000133.ppt',\n",
       " '../../test_data/gov-docs-1/hd1/000/000154.doc',\n",
       " '../../test_data/gov-docs-1/hd1/000/000169.ppt',\n",
       " '../../test_data/gov-docs-1/hd1/000/000171.xls',\n",
       " '../../test_data/gov-docs-1/hd1/000/000187.pdf',\n",
       " '../../test_data/gov-docs-1/hd1/000/000208.pdf',\n",
       " '../../test_data/gov-docs-1/hd1/000/000271.doc',\n",
       " '../../test_data/gov-docs-1/hd1/000/000321.ppt',\n",
       " '../../test_data/gov-docs-1/hd1/000/000349.pdf',\n",
       " '../../test_data/gov-docs-1/hd1/000/000350.pdf',\n",
       " '../../test_data/gov-docs-1/hd1/000/000383.xls',\n",
       " '../../test_data/gov-docs-1/hd1/000/000403.xls',\n",
       " '../../test_data/gov-docs-1/hd1/000/000406.xls',\n",
       " '../../test_data/gov-docs-1/hd1/000/000518.ppt',\n",
       " '../../test_data/gov-docs-1/hd1/000/000523.png',\n",
       " '../../test_data/gov-docs-1/hd1/000/000557.ppt',\n",
       " '../../test_data/gov-docs-1/hd1/000/000559.ppt',\n",
       " '../../test_data/gov-docs-1/hd1/000/000790.doc',\n",
       " '../../test_data/gov-docs-1/hd1/000/000796.doc',\n",
       " '../../test_data/gov-docs-1/hd1/000/000811.pdf',\n",
       " '../../test_data/gov-docs-1/hd1/000/000817.pdf',\n",
       " '../../test_data/gov-docs-1/hd1/000/000955.pdf']"
      ]
     },
     "execution_count": 56,
     "metadata": {},
     "output_type": "execute_result"
    }
   ],
   "source": [
    "not_found"
   ]
  },
  {
   "cell_type": "code",
   "execution_count": null,
   "id": "korean-record",
   "metadata": {},
   "outputs": [],
   "source": []
  }
 ],
 "metadata": {
  "kernelspec": {
   "display_name": "Python 3",
   "language": "python",
   "name": "python3"
  },
  "language_info": {
   "codemirror_mode": {
    "name": "ipython",
    "version": 3
   },
   "file_extension": ".py",
   "mimetype": "text/x-python",
   "name": "python",
   "nbconvert_exporter": "python",
   "pygments_lexer": "ipython3",
   "version": "3.8.8"
  }
 },
 "nbformat": 4,
 "nbformat_minor": 5
}
