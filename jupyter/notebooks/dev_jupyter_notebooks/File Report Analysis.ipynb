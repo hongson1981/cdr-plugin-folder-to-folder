{
 "cells": [
  {
   "cell_type": "markdown",
   "id": "handmade-engineer",
   "metadata": {},
   "source": [
    "# File Report Analysis"
   ]
  },
  {
   "cell_type": "code",
   "execution_count": 1,
   "id": "quality-bride",
   "metadata": {},
   "outputs": [
    {
     "data": {
      "text/html": [
       "<style>.container { width:80% !important; }</style>"
      ],
      "text/plain": [
       "<IPython.core.display.HTML object>"
      ]
     },
     "metadata": {},
     "output_type": "display_data"
    }
   ],
   "source": [
    "# Run this when developing since it reloads the code automatically when code is changed\n",
    "%reload_ext autoreload  \n",
    "# setud up autoroad \n",
    "%autoreload 2\n",
    "\n",
    "from IPython.core.display import display, HTML\n",
    "display(HTML(\"<style>.container { width:80% !important; }</style>\"))"
   ]
  },
  {
   "cell_type": "code",
   "execution_count": 2,
   "id": "external-lebanon",
   "metadata": {},
   "outputs": [],
   "source": [
    "%%capture\n",
    "!jupyter nbextension enable --py --sys-prefix qgrid\n",
    "!jupyter nbextension enable --py --sys-prefix widgetsnbextension"
   ]
  },
  {
   "cell_type": "code",
   "execution_count": 3,
   "id": "needed-vault",
   "metadata": {},
   "outputs": [
    {
     "data": {
      "text/html": [
       "<script>\n",
       "code_show=true; \n",
       "function code_toggle() {\n",
       " if (code_show){\n",
       " $('div.input').hide();\n",
       " } else {\n",
       " $('div.input').show();\n",
       " }\n",
       " code_show = !code_show\n",
       "} \n",
       "$( document ).ready(code_toggle);\n",
       "</script>\n",
       "<form action=\"javascript:code_toggle()\"><input type=\"submit\" value=\"Click here to toggle on/off the raw code.\"></form>"
      ],
      "text/plain": [
       "<IPython.core.display.HTML object>"
      ]
     },
     "execution_count": 3,
     "metadata": {},
     "output_type": "execute_result"
    }
   ],
   "source": [
    "HTML('''<script>\n",
    "code_show=true; \n",
    "function code_toggle() {\n",
    " if (code_show){\n",
    " $('div.input').hide();\n",
    " } else {\n",
    " $('div.input').show();\n",
    " }\n",
    " code_show = !code_show\n",
    "} \n",
    "$( document ).ready(code_toggle);\n",
    "</script>\n",
    "<form action=\"javascript:code_toggle()\"><input type=\"submit\" value=\"Click here to toggle on/off the raw code.\"></form>''')"
   ]
  },
  {
   "cell_type": "code",
   "execution_count": 4,
   "id": "standard-figure",
   "metadata": {},
   "outputs": [],
   "source": [
    "import qgrid\n",
    "import ipywidgets as widgets\n",
    "import ipython_blocking"
   ]
  },
  {
   "cell_type": "code",
   "execution_count": 5,
   "id": "orange-controversy",
   "metadata": {},
   "outputs": [],
   "source": [
    "import sys\n",
    "sys.path.append(\"../\")\n",
    "from jupyter_apis.Report_API import Report"
   ]
  },
  {
   "cell_type": "markdown",
   "id": "cleared-taste",
   "metadata": {},
   "source": [
    "### So far we only have a report for scenario-1"
   ]
  },
  {
   "cell_type": "code",
   "execution_count": 6,
   "id": "increasing-mechanics",
   "metadata": {},
   "outputs": [
    {
     "data": {
      "application/vnd.jupyter.widget-view+json": {
       "model_id": "641da3bd66344c518103f11565fa8775",
       "version_major": 2,
       "version_minor": 0
      },
      "text/plain": [
       "VBox(children=(Dropdown(description='Scenario : ', options=('scenario-1', 'scenario-2'), value=None), Button(d…"
      ]
     },
     "metadata": {},
     "output_type": "display_data"
    },
    {
     "data": {
      "application/javascript": [
       "Jupyter.notebook.select_next().execute_cells_below()"
      ],
      "text/plain": [
       "<IPython.core.display.Javascript object>"
      ]
     },
     "metadata": {},
     "output_type": "display_data"
    }
   ],
   "source": [
    "scenarios = ['scenario-1', 'scenario-2']\n",
    "\n",
    "selected_scenario = widgets.Dropdown(\n",
    "    options     = scenarios,\n",
    "    description = 'Scenario : ',\n",
    "    disabled    = False,\n",
    "    value       = None)\n",
    "\n",
    "button = widgets.Button(description='Run')\n",
    "\n",
    "box = widgets.VBox(children=[selected_scenario, button])\n",
    "display(box)"
   ]
  },
  {
   "cell_type": "code",
   "execution_count": 9,
   "id": "necessary-edward",
   "metadata": {},
   "outputs": [],
   "source": [
    "%blockrun button"
   ]
  },
  {
   "cell_type": "code",
   "execution_count": 10,
   "id": "imperial-comment",
   "metadata": {},
   "outputs": [
    {
     "data": {
      "application/vnd.jupyter.widget-view+json": {
       "model_id": "2294df8dbd05411b97c9c4e80dcd2a8f",
       "version_major": 2,
       "version_minor": 0
      },
      "text/plain": [
       "VBox(children=(Dropdown(description='File : ', options=('image3.jpg',), value=None), Button(description='Run',…"
      ]
     },
     "metadata": {},
     "output_type": "display_data"
    },
    {
     "data": {
      "application/javascript": [
       "Jupyter.notebook.select_next().execute_cells_below()"
      ],
      "text/plain": [
       "<IPython.core.display.Javascript object>"
      ]
     },
     "metadata": {},
     "output_type": "display_data"
    }
   ],
   "source": [
    "scenario = selected_scenario.value\n",
    "\n",
    "report = Report(scenario, -1)\n",
    "\n",
    "#from pprint import pprint\n",
    "#data = report.get_dict_from_report()\n",
    "#pprint(data)\n",
    "\n",
    "files = report.get_files()\n",
    "\n",
    "selected_file = widgets.Dropdown(\n",
    "    options     = files,\n",
    "    description = 'File : ',\n",
    "    disabled    = False,\n",
    "    value       = None)\n",
    "\n",
    "button = widgets.Button(description='Run')\n",
    "\n",
    "box = widgets.VBox(children=[selected_file, button])\n",
    "display(box)"
   ]
  },
  {
   "cell_type": "code",
   "execution_count": 13,
   "id": "divided-nothing",
   "metadata": {},
   "outputs": [],
   "source": [
    "%blockrun button"
   ]
  },
  {
   "cell_type": "code",
   "execution_count": 14,
   "id": "intellectual-hepatitis",
   "metadata": {},
   "outputs": [],
   "source": [
    "file_id = files.index(selected_file.value)\n",
    "report.file_id = file_id"
   ]
  },
  {
   "cell_type": "markdown",
   "id": "pretty-choice",
   "metadata": {},
   "source": [
    "## Document Summary"
   ]
  },
  {
   "cell_type": "code",
   "execution_count": 15,
   "id": "unusual-highland",
   "metadata": {},
   "outputs": [
    {
     "name": "stdout",
     "output_type": "stream",
     "text": [
      "Total Size In Bytes : 97610\n",
      "File Type : jpeg\n",
      "Version : Not Applicable\n"
     ]
    }
   ],
   "source": [
    "report.print_document_summary()"
   ]
  },
  {
   "cell_type": "markdown",
   "id": "activated-sitting",
   "metadata": {},
   "source": [
    "## Extracted Items"
   ]
  },
  {
   "cell_type": "code",
   "execution_count": 16,
   "id": "periodic-shape",
   "metadata": {},
   "outputs": [
    {
     "name": "stdout",
     "output_type": "stream",
     "text": [
      "Item Count : 0\n"
     ]
    }
   ],
   "source": [
    "report.print_extracted_items()"
   ]
  },
  {
   "cell_type": "markdown",
   "id": "referenced-antique",
   "metadata": {},
   "source": [
    "## Content Management Policy"
   ]
  },
  {
   "cell_type": "code",
   "execution_count": 17,
   "id": "anticipated-catholic",
   "metadata": {},
   "outputs": [
    {
     "data": {
      "application/vnd.jupyter.widget-view+json": {
       "model_id": "5a146f5cb243437db9c53ea30ff23b37",
       "version_major": 2,
       "version_minor": 0
      },
      "text/plain": [
       "QgridWidget(grid_options={'fullWidthRows': True, 'syncColumnCellResize': True, 'forceFitColumns': True, 'defau…"
      ]
     },
     "metadata": {},
     "output_type": "display_data"
    }
   ],
   "source": [
    "content_management_policy = report.content_management_policy_df()\n",
    "qgrid_widget = qgrid.show_grid(content_management_policy, show_toolbar=True)\n",
    "qgrid_widget"
   ]
  },
  {
   "cell_type": "code",
   "execution_count": 18,
   "id": "ahead-perception",
   "metadata": {},
   "outputs": [
    {
     "data": {
      "application/vnd.jupyter.widget-view+json": {
       "model_id": "7b191fa887504cdfa6bc9169c036a57d",
       "version_major": 2,
       "version_minor": 0
      },
      "text/plain": [
       "VBox(children=(Dropdown(description='Camera : ', options=('pdfConfig', 'wordConfig', 'pptConfig', 'xlsConfig',…"
      ]
     },
     "metadata": {},
     "output_type": "display_data"
    },
    {
     "data": {
      "application/javascript": [
       "Jupyter.notebook.select_next().execute_cells_below()"
      ],
      "text/plain": [
       "<IPython.core.display.Javascript object>"
      ]
     },
     "metadata": {},
     "output_type": "display_data"
    }
   ],
   "source": [
    "camera_names = list(content_management_policy['Camera Name'].unique())\n",
    "\n",
    "selected_camera = widgets.Dropdown(\n",
    "    options     = camera_names,\n",
    "    description = 'Camera : ',\n",
    "    disabled    = False,\n",
    "    value       = None)\n",
    "\n",
    "button = widgets.Button(description='Run')\n",
    "\n",
    "box = widgets.VBox(children=[selected_camera, button])\n",
    "display(box)"
   ]
  },
  {
   "cell_type": "code",
   "execution_count": 21,
   "id": "competent-penetration",
   "metadata": {},
   "outputs": [],
   "source": [
    "%blockrun button"
   ]
  },
  {
   "cell_type": "code",
   "execution_count": 22,
   "id": "saving-square",
   "metadata": {},
   "outputs": [
    {
     "data": {
      "image/svg+xml": [
       "<?xml version=\"1.0\" encoding=\"UTF-8\" standalone=\"no\"?>\n",
       "<!DOCTYPE svg PUBLIC \"-//W3C//DTD SVG 1.1//EN\"\n",
       " \"http://www.w3.org/Graphics/SVG/1.1/DTD/svg11.dtd\">\n",
       "<!-- Generated by graphviz version 2.47.0 (20210327.0129)\n",
       " -->\n",
       "<!-- Pages: 1 -->\n",
       "<svg width=\"1016pt\" height=\"188pt\"\n",
       " viewBox=\"0.00 0.00 1016.00 188.00\" xmlns=\"http://www.w3.org/2000/svg\" xmlns:xlink=\"http://www.w3.org/1999/xlink\">\n",
       "<g id=\"graph0\" class=\"graph\" transform=\"scale(1 1) rotate(0) translate(4 184)\">\n",
       "<polygon fill=\"white\" stroke=\"transparent\" points=\"-4,4 -4,-184 1012,-184 1012,4 -4,4\"/>\n",
       "<!-- pptConfig -->\n",
       "<g id=\"node1\" class=\"node\">\n",
       "<title>pptConfig</title>\n",
       "<polygon fill=\"none\" stroke=\"black\" points=\"459,-180 373,-180 373,-144 459,-144 459,-180\"/>\n",
       "<text text-anchor=\"middle\" x=\"416\" y=\"-158.3\" font-family=\"Times-Roman\" font-size=\"14.00\">pptConfig</text>\n",
       "</g>\n",
       "<!-- metadata -->\n",
       "<g id=\"node2\" class=\"node\">\n",
       "<title>metadata</title>\n",
       "<polygon fill=\"none\" stroke=\"black\" points=\"86,-108 0,-108 0,-72 86,-72 86,-108\"/>\n",
       "<text text-anchor=\"middle\" x=\"43\" y=\"-86.3\" font-family=\"Times-Roman\" font-size=\"14.00\">metadata</text>\n",
       "</g>\n",
       "<!-- pptConfig&#45;&gt;metadata -->\n",
       "<g id=\"edge8\" class=\"edge\">\n",
       "<title>pptConfig&#45;&gt;metadata</title>\n",
       "<path fill=\"none\" stroke=\"black\" d=\"M372.74,-155.99C312.57,-148.54 200.15,-132.96 96,-108.05\"/>\n",
       "<polygon fill=\"black\" stroke=\"black\" points=\"96.81,-104.65 86.27,-105.69 95.16,-111.45 96.81,-104.65\"/>\n",
       "</g>\n",
       "<!-- macros -->\n",
       "<g id=\"node3\" class=\"node\">\n",
       "<title>macros</title>\n",
       "<polygon fill=\"none\" stroke=\"black\" points=\"174,-108 104,-108 104,-72 174,-72 174,-108\"/>\n",
       "<text text-anchor=\"middle\" x=\"139\" y=\"-86.3\" font-family=\"Times-Roman\" font-size=\"14.00\">macros</text>\n",
       "</g>\n",
       "<!-- pptConfig&#45;&gt;macros -->\n",
       "<g id=\"edge9\" class=\"edge\">\n",
       "<title>pptConfig&#45;&gt;macros</title>\n",
       "<path fill=\"none\" stroke=\"black\" d=\"M373,-153.16C327.98,-144.53 255.18,-129.36 184.36,-108.2\"/>\n",
       "<polygon fill=\"black\" stroke=\"black\" points=\"184.97,-104.73 174.39,-105.18 182.94,-111.43 184.97,-104.73\"/>\n",
       "</g>\n",
       "<!-- embedded_files -->\n",
       "<g id=\"node4\" class=\"node\">\n",
       "<title>embedded_files</title>\n",
       "<polygon fill=\"none\" stroke=\"black\" points=\"323.5,-108 192.5,-108 192.5,-72 323.5,-72 323.5,-108\"/>\n",
       "<text text-anchor=\"middle\" x=\"258\" y=\"-86.3\" font-family=\"Times-Roman\" font-size=\"14.00\">embedded_files</text>\n",
       "</g>\n",
       "<!-- pptConfig&#45;&gt;embedded_files -->\n",
       "<g id=\"edge10\" class=\"edge\">\n",
       "<title>pptConfig&#45;&gt;embedded_files</title>\n",
       "<path fill=\"none\" stroke=\"black\" d=\"M377.35,-143.88C355.75,-134.31 328.65,-122.3 305.73,-112.15\"/>\n",
       "<polygon fill=\"black\" stroke=\"black\" points=\"307.09,-108.92 296.53,-108.07 304.25,-115.32 307.09,-108.92\"/>\n",
       "</g>\n",
       "<!-- review_comments -->\n",
       "<g id=\"node5\" class=\"node\">\n",
       "<title>review_comments</title>\n",
       "<polygon fill=\"none\" stroke=\"black\" points=\"490,-108 342,-108 342,-72 490,-72 490,-108\"/>\n",
       "<text text-anchor=\"middle\" x=\"416\" y=\"-86.3\" font-family=\"Times-Roman\" font-size=\"14.00\">review_comments</text>\n",
       "</g>\n",
       "<!-- pptConfig&#45;&gt;review_comments -->\n",
       "<g id=\"edge11\" class=\"edge\">\n",
       "<title>pptConfig&#45;&gt;review_comments</title>\n",
       "<path fill=\"none\" stroke=\"black\" d=\"M416,-143.7C416,-135.98 416,-126.71 416,-118.11\"/>\n",
       "<polygon fill=\"black\" stroke=\"black\" points=\"419.5,-118.1 416,-108.1 412.5,-118.1 419.5,-118.1\"/>\n",
       "</g>\n",
       "<!-- internal_hyperlinks -->\n",
       "<g id=\"node6\" class=\"node\">\n",
       "<title>internal_hyperlinks</title>\n",
       "<polygon fill=\"none\" stroke=\"black\" points=\"660,-108 508,-108 508,-72 660,-72 660,-108\"/>\n",
       "<text text-anchor=\"middle\" x=\"584\" y=\"-86.3\" font-family=\"Times-Roman\" font-size=\"14.00\">internal_hyperlinks</text>\n",
       "</g>\n",
       "<!-- pptConfig&#45;&gt;internal_hyperlinks -->\n",
       "<g id=\"edge12\" class=\"edge\">\n",
       "<title>pptConfig&#45;&gt;internal_hyperlinks</title>\n",
       "<path fill=\"none\" stroke=\"black\" d=\"M457.1,-143.88C480.17,-134.26 509.14,-122.19 533.57,-112.01\"/>\n",
       "<polygon fill=\"black\" stroke=\"black\" points=\"535.15,-115.15 543.04,-108.07 532.46,-108.68 535.15,-115.15\"/>\n",
       "</g>\n",
       "<!-- external_hyperlinks -->\n",
       "<g id=\"node7\" class=\"node\">\n",
       "<title>external_hyperlinks</title>\n",
       "<polygon fill=\"none\" stroke=\"black\" points=\"835.5,-108 678.5,-108 678.5,-72 835.5,-72 835.5,-108\"/>\n",
       "<text text-anchor=\"middle\" x=\"757\" y=\"-86.3\" font-family=\"Times-Roman\" font-size=\"14.00\">external_hyperlinks</text>\n",
       "</g>\n",
       "<!-- pptConfig&#45;&gt;external_hyperlinks -->\n",
       "<g id=\"edge13\" class=\"edge\">\n",
       "<title>pptConfig&#45;&gt;external_hyperlinks</title>\n",
       "<path fill=\"none\" stroke=\"black\" d=\"M459.19,-152.13C511.52,-141.39 601.03,-123.02 668.29,-109.21\"/>\n",
       "<polygon fill=\"black\" stroke=\"black\" points=\"669.37,-112.56 678.46,-107.12 667.96,-105.7 669.37,-112.56\"/>\n",
       "</g>\n",
       "<!-- embedded_images -->\n",
       "<g id=\"node8\" class=\"node\">\n",
       "<title>embedded_images</title>\n",
       "<polygon fill=\"none\" stroke=\"black\" points=\"1008,-108 854,-108 854,-72 1008,-72 1008,-108\"/>\n",
       "<text text-anchor=\"middle\" x=\"931\" y=\"-86.3\" font-family=\"Times-Roman\" font-size=\"14.00\">embedded_images</text>\n",
       "</g>\n",
       "<!-- pptConfig&#45;&gt;embedded_images -->\n",
       "<g id=\"edge14\" class=\"edge\">\n",
       "<title>pptConfig&#45;&gt;embedded_images</title>\n",
       "<path fill=\"none\" stroke=\"black\" d=\"M459.07,-156.72C534.8,-148.97 696.9,-131.37 843.61,-108.16\"/>\n",
       "<polygon fill=\"black\" stroke=\"black\" points=\"844.37,-111.59 853.69,-106.56 843.27,-104.67 844.37,-111.59\"/>\n",
       "</g>\n",
       "<!-- 18 -->\n",
       "<g id=\"node9\" class=\"node\">\n",
       "<title>18</title>\n",
       "<polygon fill=\"none\" stroke=\"black\" points=\"78.5,-36 7.5,-36 7.5,0 78.5,0 78.5,-36\"/>\n",
       "<text text-anchor=\"middle\" x=\"43\" y=\"-14.3\" font-family=\"Times-Roman\" font-size=\"14.00\">sanitise</text>\n",
       "</g>\n",
       "<!-- metadata&#45;&gt;18 -->\n",
       "<g id=\"edge1\" class=\"edge\">\n",
       "<title>metadata&#45;&gt;18</title>\n",
       "<path fill=\"none\" stroke=\"black\" d=\"M43,-71.7C43,-63.98 43,-54.71 43,-46.11\"/>\n",
       "<polygon fill=\"black\" stroke=\"black\" points=\"46.5,-46.1 43,-36.1 39.5,-46.1 46.5,-46.1\"/>\n",
       "</g>\n",
       "<!-- 19 -->\n",
       "<g id=\"node10\" class=\"node\">\n",
       "<title>19</title>\n",
       "<polygon fill=\"none\" stroke=\"black\" points=\"174.5,-36 103.5,-36 103.5,0 174.5,0 174.5,-36\"/>\n",
       "<text text-anchor=\"middle\" x=\"139\" y=\"-14.3\" font-family=\"Times-Roman\" font-size=\"14.00\">sanitise</text>\n",
       "</g>\n",
       "<!-- macros&#45;&gt;19 -->\n",
       "<g id=\"edge2\" class=\"edge\">\n",
       "<title>macros&#45;&gt;19</title>\n",
       "<path fill=\"none\" stroke=\"black\" d=\"M139,-71.7C139,-63.98 139,-54.71 139,-46.11\"/>\n",
       "<polygon fill=\"black\" stroke=\"black\" points=\"142.5,-46.1 139,-36.1 135.5,-46.1 142.5,-46.1\"/>\n",
       "</g>\n",
       "<!-- 20 -->\n",
       "<g id=\"node11\" class=\"node\">\n",
       "<title>20</title>\n",
       "<polygon fill=\"none\" stroke=\"black\" points=\"293.5,-36 222.5,-36 222.5,0 293.5,0 293.5,-36\"/>\n",
       "<text text-anchor=\"middle\" x=\"258\" y=\"-14.3\" font-family=\"Times-Roman\" font-size=\"14.00\">sanitise</text>\n",
       "</g>\n",
       "<!-- embedded_files&#45;&gt;20 -->\n",
       "<g id=\"edge3\" class=\"edge\">\n",
       "<title>embedded_files&#45;&gt;20</title>\n",
       "<path fill=\"none\" stroke=\"black\" d=\"M258,-71.7C258,-63.98 258,-54.71 258,-46.11\"/>\n",
       "<polygon fill=\"black\" stroke=\"black\" points=\"261.5,-46.1 258,-36.1 254.5,-46.1 261.5,-46.1\"/>\n",
       "</g>\n",
       "<!-- 21 -->\n",
       "<g id=\"node12\" class=\"node\">\n",
       "<title>21</title>\n",
       "<polygon fill=\"none\" stroke=\"black\" points=\"451.5,-36 380.5,-36 380.5,0 451.5,0 451.5,-36\"/>\n",
       "<text text-anchor=\"middle\" x=\"416\" y=\"-14.3\" font-family=\"Times-Roman\" font-size=\"14.00\">sanitise</text>\n",
       "</g>\n",
       "<!-- review_comments&#45;&gt;21 -->\n",
       "<g id=\"edge4\" class=\"edge\">\n",
       "<title>review_comments&#45;&gt;21</title>\n",
       "<path fill=\"none\" stroke=\"black\" d=\"M416,-71.7C416,-63.98 416,-54.71 416,-46.11\"/>\n",
       "<polygon fill=\"black\" stroke=\"black\" points=\"419.5,-46.1 416,-36.1 412.5,-46.1 419.5,-46.1\"/>\n",
       "</g>\n",
       "<!-- 22 -->\n",
       "<g id=\"node13\" class=\"node\">\n",
       "<title>22</title>\n",
       "<polygon fill=\"none\" stroke=\"black\" points=\"619.5,-36 548.5,-36 548.5,0 619.5,0 619.5,-36\"/>\n",
       "<text text-anchor=\"middle\" x=\"584\" y=\"-14.3\" font-family=\"Times-Roman\" font-size=\"14.00\">sanitise</text>\n",
       "</g>\n",
       "<!-- internal_hyperlinks&#45;&gt;22 -->\n",
       "<g id=\"edge5\" class=\"edge\">\n",
       "<title>internal_hyperlinks&#45;&gt;22</title>\n",
       "<path fill=\"none\" stroke=\"black\" d=\"M584,-71.7C584,-63.98 584,-54.71 584,-46.11\"/>\n",
       "<polygon fill=\"black\" stroke=\"black\" points=\"587.5,-46.1 584,-36.1 580.5,-46.1 587.5,-46.1\"/>\n",
       "</g>\n",
       "<!-- 23 -->\n",
       "<g id=\"node14\" class=\"node\">\n",
       "<title>23</title>\n",
       "<polygon fill=\"none\" stroke=\"black\" points=\"792.5,-36 721.5,-36 721.5,0 792.5,0 792.5,-36\"/>\n",
       "<text text-anchor=\"middle\" x=\"757\" y=\"-14.3\" font-family=\"Times-Roman\" font-size=\"14.00\">sanitise</text>\n",
       "</g>\n",
       "<!-- external_hyperlinks&#45;&gt;23 -->\n",
       "<g id=\"edge6\" class=\"edge\">\n",
       "<title>external_hyperlinks&#45;&gt;23</title>\n",
       "<path fill=\"none\" stroke=\"black\" d=\"M757,-71.7C757,-63.98 757,-54.71 757,-46.11\"/>\n",
       "<polygon fill=\"black\" stroke=\"black\" points=\"760.5,-46.1 757,-36.1 753.5,-46.1 760.5,-46.1\"/>\n",
       "</g>\n",
       "<!-- 24 -->\n",
       "<g id=\"node15\" class=\"node\">\n",
       "<title>24</title>\n",
       "<polygon fill=\"none\" stroke=\"black\" points=\"966.5,-36 895.5,-36 895.5,0 966.5,0 966.5,-36\"/>\n",
       "<text text-anchor=\"middle\" x=\"931\" y=\"-14.3\" font-family=\"Times-Roman\" font-size=\"14.00\">sanitise</text>\n",
       "</g>\n",
       "<!-- embedded_images&#45;&gt;24 -->\n",
       "<g id=\"edge7\" class=\"edge\">\n",
       "<title>embedded_images&#45;&gt;24</title>\n",
       "<path fill=\"none\" stroke=\"black\" d=\"M931,-71.7C931,-63.98 931,-54.71 931,-46.11\"/>\n",
       "<polygon fill=\"black\" stroke=\"black\" points=\"934.5,-46.1 931,-36.1 927.5,-46.1 934.5,-46.1\"/>\n",
       "</g>\n",
       "</g>\n",
       "</svg>\n"
      ],
      "text/plain": [
       "<graphviz.dot.Digraph at 0x7f6beb300160>"
      ]
     },
     "execution_count": 22,
     "metadata": {},
     "output_type": "execute_result"
    }
   ],
   "source": [
    "camera_value = selected_camera.value\n",
    "report.camera_graph(camera_value)"
   ]
  },
  {
   "cell_type": "markdown",
   "id": "egyptian-contemporary",
   "metadata": {},
   "source": [
    "## Content Groups"
   ]
  },
  {
   "cell_type": "code",
   "execution_count": 23,
   "id": "fantastic-reflection",
   "metadata": {},
   "outputs": [
    {
     "name": "stdout",
     "output_type": "stream",
     "text": [
      "There are 3 groups\n"
     ]
    }
   ],
   "source": [
    "report.get_num_of_groups(text=True)"
   ]
  },
  {
   "cell_type": "code",
   "execution_count": 24,
   "id": "excited-employment",
   "metadata": {},
   "outputs": [
    {
     "data": {
      "application/vnd.jupyter.widget-view+json": {
       "model_id": "726be3841bb94ef3a8a3cafed3fc3d78",
       "version_major": 2,
       "version_minor": 0
      },
      "text/plain": [
       "QgridWidget(grid_options={'fullWidthRows': True, 'syncColumnCellResize': True, 'forceFitColumns': True, 'defau…"
      ]
     },
     "metadata": {},
     "output_type": "display_data"
    }
   ],
   "source": [
    "content_groups = report.content_groups_df()\n",
    "qgrid_widget = qgrid.show_grid(content_groups, show_toolbar=True)\n",
    "qgrid_widget"
   ]
  },
  {
   "cell_type": "code",
   "execution_count": 25,
   "id": "professional-check",
   "metadata": {},
   "outputs": [
    {
     "data": {
      "application/vnd.jupyter.widget-view+json": {
       "model_id": "eff2a67f00ce4c56af9c65fcf3ddfdb0",
       "version_major": 2,
       "version_minor": 0
      },
      "text/plain": [
       "VBox(children=(Dropdown(description='Groups : ', options=('JPEG document has Marker Data Instances', 'JPEG doc…"
      ]
     },
     "metadata": {},
     "output_type": "display_data"
    },
    {
     "data": {
      "application/javascript": [
       "Jupyter.notebook.select_next().execute_cells_below()"
      ],
      "text/plain": [
       "<IPython.core.display.Javascript object>"
      ]
     },
     "metadata": {},
     "output_type": "display_data"
    }
   ],
   "source": [
    "groups = list(content_groups['Brief Description'].unique())\n",
    "\n",
    "selected_group = widgets.Dropdown(\n",
    "    options     = groups,\n",
    "    description = 'Groups : ',\n",
    "    disabled    = False,\n",
    "    value       = None)\n",
    "\n",
    "button = widgets.Button(description='Run')\n",
    "\n",
    "box = widgets.VBox(children=[selected_group, button])\n",
    "display(box)"
   ]
  },
  {
   "cell_type": "code",
   "execution_count": 28,
   "id": "governmental-sleep",
   "metadata": {},
   "outputs": [],
   "source": [
    "%blockrun button"
   ]
  },
  {
   "cell_type": "code",
   "execution_count": 29,
   "id": "measured-heritage",
   "metadata": {},
   "outputs": [
    {
     "data": {
      "image/svg+xml": [
       "<?xml version=\"1.0\" encoding=\"UTF-8\" standalone=\"no\"?>\n",
       "<!DOCTYPE svg PUBLIC \"-//W3C//DTD SVG 1.1//EN\"\n",
       " \"http://www.w3.org/Graphics/SVG/1.1/DTD/svg11.dtd\">\n",
       "<!-- Generated by graphviz version 2.47.0 (20210327.0129)\n",
       " -->\n",
       "<!-- Pages: 1 -->\n",
       "<svg width=\"1503pt\" height=\"235pt\"\n",
       " viewBox=\"0.00 0.00 1503.00 235.00\" xmlns=\"http://www.w3.org/2000/svg\" xmlns:xlink=\"http://www.w3.org/1999/xlink\">\n",
       "<g id=\"graph0\" class=\"graph\" transform=\"scale(1 1) rotate(0) translate(4 231)\">\n",
       "<polygon fill=\"white\" stroke=\"transparent\" points=\"-4,4 -4,-231 1499,-231 1499,4 -4,4\"/>\n",
       "<!-- JPEG document has Frame Data Instances -->\n",
       "<g id=\"node1\" class=\"node\">\n",
       "<title>JPEG document has Frame Data Instances</title>\n",
       "<polygon fill=\"none\" stroke=\"black\" points=\"1007,-227 689,-227 689,-191 1007,-191 1007,-227\"/>\n",
       "<text text-anchor=\"middle\" x=\"848\" y=\"-205.3\" font-family=\"Times-Roman\" font-size=\"14.00\">JPEG document has Frame Data Instances</text>\n",
       "</g>\n",
       "<!-- APP14_Reserved_for_application_segments -->\n",
       "<g id=\"node2\" class=\"node\">\n",
       "<title>APP14_Reserved_for_application_segments</title>\n",
       "<polygon fill=\"none\" stroke=\"black\" points=\"326,-155 0,-155 0,-119 326,-119 326,-155\"/>\n",
       "<text text-anchor=\"middle\" x=\"163\" y=\"-133.3\" font-family=\"Times-Roman\" font-size=\"14.00\">APP14_Reserved_for_application_segments</text>\n",
       "</g>\n",
       "<!-- JPEG document has Frame Data Instances&#45;&gt;APP14_Reserved_for_application_segments -->\n",
       "<g id=\"edge1\" class=\"edge\">\n",
       "<title>JPEG document has Frame Data Instances&#45;&gt;APP14_Reserved_for_application_segments</title>\n",
       "<path fill=\"none\" stroke=\"black\" d=\"M688.69,-191.72C583.09,-180.93 444.56,-166.77 336.22,-155.7\"/>\n",
       "<polygon fill=\"black\" stroke=\"black\" points=\"336.47,-152.21 326.17,-154.67 335.76,-159.17 336.47,-152.21\"/>\n",
       "</g>\n",
       "<!-- Application 14 Section Instances -->\n",
       "<g id=\"node3\" class=\"node\">\n",
       "<title>Application 14 Section Instances</title>\n",
       "<polygon fill=\"none\" stroke=\"black\" points=\"592,-155 344,-155 344,-119 592,-119 592,-155\"/>\n",
       "<text text-anchor=\"middle\" x=\"468\" y=\"-133.3\" font-family=\"Times-Roman\" font-size=\"14.00\">Application 14 Section Instances</text>\n",
       "</g>\n",
       "<!-- JPEG document has Frame Data Instances&#45;&gt;Application 14 Section Instances -->\n",
       "<g id=\"edge2\" class=\"edge\">\n",
       "<title>JPEG document has Frame Data Instances&#45;&gt;Application 14 Section Instances</title>\n",
       "<path fill=\"none\" stroke=\"black\" d=\"M755.53,-190.97C699.56,-180.66 628.1,-167.49 570.42,-156.87\"/>\n",
       "<polygon fill=\"black\" stroke=\"black\" points=\"571.03,-153.42 560.56,-155.05 569.76,-160.3 571.03,-153.42\"/>\n",
       "</g>\n",
       "<!-- DHT_Define_Huffman_tables -->\n",
       "<g id=\"node4\" class=\"node\">\n",
       "<title>DHT_Define_Huffman_tables</title>\n",
       "<polygon fill=\"none\" stroke=\"black\" points=\"832,-155 610,-155 610,-119 832,-119 832,-155\"/>\n",
       "<text text-anchor=\"middle\" x=\"721\" y=\"-133.3\" font-family=\"Times-Roman\" font-size=\"14.00\">DHT_Define_Huffman_tables</text>\n",
       "</g>\n",
       "<!-- JPEG document has Frame Data Instances&#45;&gt;DHT_Define_Huffman_tables -->\n",
       "<g id=\"edge3\" class=\"edge\">\n",
       "<title>JPEG document has Frame Data Instances&#45;&gt;DHT_Define_Huffman_tables</title>\n",
       "<path fill=\"none\" stroke=\"black\" d=\"M816.93,-190.88C800.17,-181.64 779.29,-170.13 761.3,-160.21\"/>\n",
       "<polygon fill=\"black\" stroke=\"black\" points=\"762.63,-156.95 752.19,-155.19 759.26,-163.08 762.63,-156.95\"/>\n",
       "</g>\n",
       "<!-- DQT_Define_quantization_tables -->\n",
       "<g id=\"node5\" class=\"node\">\n",
       "<title>DQT_Define_quantization_tables</title>\n",
       "<polygon fill=\"none\" stroke=\"black\" points=\"1100,-155 850,-155 850,-119 1100,-119 1100,-155\"/>\n",
       "<text text-anchor=\"middle\" x=\"975\" y=\"-133.3\" font-family=\"Times-Roman\" font-size=\"14.00\">DQT_Define_quantization_tables</text>\n",
       "</g>\n",
       "<!-- JPEG document has Frame Data Instances&#45;&gt;DQT_Define_quantization_tables -->\n",
       "<g id=\"edge4\" class=\"edge\">\n",
       "<title>JPEG document has Frame Data Instances&#45;&gt;DQT_Define_quantization_tables</title>\n",
       "<path fill=\"none\" stroke=\"black\" d=\"M879.07,-190.88C895.83,-181.64 916.71,-170.13 934.7,-160.21\"/>\n",
       "<polygon fill=\"black\" stroke=\"black\" points=\"936.74,-163.08 943.81,-155.19 933.37,-156.95 936.74,-163.08\"/>\n",
       "</g>\n",
       "<!-- EOI_End_of_image -->\n",
       "<g id=\"node6\" class=\"node\">\n",
       "<title>EOI_End_of_image</title>\n",
       "<polygon fill=\"none\" stroke=\"black\" points=\"1268,-155 1118,-155 1118,-119 1268,-119 1268,-155\"/>\n",
       "<text text-anchor=\"middle\" x=\"1193\" y=\"-133.3\" font-family=\"Times-Roman\" font-size=\"14.00\">EOI_End_of_image</text>\n",
       "</g>\n",
       "<!-- JPEG document has Frame Data Instances&#45;&gt;EOI_End_of_image -->\n",
       "<g id=\"edge5\" class=\"edge\">\n",
       "<title>JPEG document has Frame Data Instances&#45;&gt;EOI_End_of_image</title>\n",
       "<path fill=\"none\" stroke=\"black\" d=\"M931.96,-190.97C985.38,-180.13 1054.34,-166.13 1107.97,-155.25\"/>\n",
       "<polygon fill=\"black\" stroke=\"black\" points=\"1108.69,-158.68 1117.79,-153.26 1107.3,-151.82 1108.69,-158.68\"/>\n",
       "</g>\n",
       "<!-- SOI_Start_of_image -->\n",
       "<g id=\"node7\" class=\"node\">\n",
       "<title>SOI_Start_of_image</title>\n",
       "<polygon fill=\"none\" stroke=\"black\" points=\"1462,-155 1304,-155 1304,-119 1462,-119 1462,-155\"/>\n",
       "<text text-anchor=\"middle\" x=\"1383\" y=\"-133.3\" font-family=\"Times-Roman\" font-size=\"14.00\">SOI_Start_of_image</text>\n",
       "</g>\n",
       "<!-- JPEG document has Frame Data Instances&#45;&gt;SOI_Start_of_image -->\n",
       "<g id=\"edge6\" class=\"edge\">\n",
       "<title>JPEG document has Frame Data Instances&#45;&gt;SOI_Start_of_image</title>\n",
       "<path fill=\"none\" stroke=\"black\" d=\"M996.58,-190.98C1079.25,-181.18 1183.94,-168.21 1277,-155 1282.42,-154.23 1287.99,-153.41 1293.61,-152.57\"/>\n",
       "<polygon fill=\"black\" stroke=\"black\" points=\"1294.39,-155.99 1303.75,-151.03 1293.34,-149.07 1294.39,-155.99\"/>\n",
       "</g>\n",
       "<!-- 0 -->\n",
       "<g id=\"node8\" class=\"node\">\n",
       "<title>0</title>\n",
       "<polygon fill=\"none\" stroke=\"black\" points=\"262.5,-83 63.5,-83 63.5,0 262.5,0 262.5,-83\"/>\n",
       "<text text-anchor=\"middle\" x=\"163\" y=\"-67.8\" font-family=\"Times-Roman\" font-size=\"14.00\">Instance Count: 1</text>\n",
       "<text text-anchor=\"middle\" x=\"163\" y=\"-52.8\" font-family=\"Times-Roman\" font-size=\"14.00\">Total Size In Bytes: 16</text>\n",
       "<text text-anchor=\"middle\" x=\"163\" y=\"-37.8\" font-family=\"Times-Roman\" font-size=\"14.00\">Average Size In Bytes: 16</text>\n",
       "<text text-anchor=\"middle\" x=\"163\" y=\"-22.8\" font-family=\"Times-Roman\" font-size=\"14.00\">Min Size In Bytes: 16</text>\n",
       "<text text-anchor=\"middle\" x=\"163\" y=\"-7.8\" font-family=\"Times-Roman\" font-size=\"14.00\">Max Size In Bytes: 16</text>\n",
       "</g>\n",
       "<!-- APP14_Reserved_for_application_segments&#45;&gt;0 -->\n",
       "<g id=\"edge7\" class=\"edge\">\n",
       "<title>APP14_Reserved_for_application_segments&#45;&gt;0</title>\n",
       "<path fill=\"none\" stroke=\"black\" d=\"M163,-118.85C163,-111.49 163,-102.48 163,-93.25\"/>\n",
       "<polygon fill=\"black\" stroke=\"black\" points=\"166.5,-93.23 163,-83.23 159.5,-93.23 166.5,-93.23\"/>\n",
       "</g>\n",
       "<!-- 1 -->\n",
       "<g id=\"node9\" class=\"node\">\n",
       "<title>1</title>\n",
       "<polygon fill=\"none\" stroke=\"black\" points=\"567.5,-83 368.5,-83 368.5,0 567.5,0 567.5,-83\"/>\n",
       "<text text-anchor=\"middle\" x=\"468\" y=\"-67.8\" font-family=\"Times-Roman\" font-size=\"14.00\">Instance Count: 1</text>\n",
       "<text text-anchor=\"middle\" x=\"468\" y=\"-52.8\" font-family=\"Times-Roman\" font-size=\"14.00\">Total Size In Bytes: 16</text>\n",
       "<text text-anchor=\"middle\" x=\"468\" y=\"-37.8\" font-family=\"Times-Roman\" font-size=\"14.00\">Average Size In Bytes: 16</text>\n",
       "<text text-anchor=\"middle\" x=\"468\" y=\"-22.8\" font-family=\"Times-Roman\" font-size=\"14.00\">Min Size In Bytes: 16</text>\n",
       "<text text-anchor=\"middle\" x=\"468\" y=\"-7.8\" font-family=\"Times-Roman\" font-size=\"14.00\">Max Size In Bytes: 16</text>\n",
       "</g>\n",
       "<!-- Application 14 Section Instances&#45;&gt;1 -->\n",
       "<g id=\"edge8\" class=\"edge\">\n",
       "<title>Application 14 Section Instances&#45;&gt;1</title>\n",
       "<path fill=\"none\" stroke=\"black\" d=\"M468,-118.85C468,-111.49 468,-102.48 468,-93.25\"/>\n",
       "<polygon fill=\"black\" stroke=\"black\" points=\"471.5,-93.23 468,-83.23 464.5,-93.23 471.5,-93.23\"/>\n",
       "</g>\n",
       "<!-- 2 -->\n",
       "<g id=\"node10\" class=\"node\">\n",
       "<title>2</title>\n",
       "<polygon fill=\"none\" stroke=\"black\" points=\"825,-83 617,-83 617,0 825,0 825,-83\"/>\n",
       "<text text-anchor=\"middle\" x=\"721\" y=\"-67.8\" font-family=\"Times-Roman\" font-size=\"14.00\">Instance Count: 1</text>\n",
       "<text text-anchor=\"middle\" x=\"721\" y=\"-52.8\" font-family=\"Times-Roman\" font-size=\"14.00\">Total Size In Bytes: 171</text>\n",
       "<text text-anchor=\"middle\" x=\"721\" y=\"-37.8\" font-family=\"Times-Roman\" font-size=\"14.00\">Average Size In Bytes: 171</text>\n",
       "<text text-anchor=\"middle\" x=\"721\" y=\"-22.8\" font-family=\"Times-Roman\" font-size=\"14.00\">Min Size In Bytes: 171</text>\n",
       "<text text-anchor=\"middle\" x=\"721\" y=\"-7.8\" font-family=\"Times-Roman\" font-size=\"14.00\">Max Size In Bytes: 171</text>\n",
       "</g>\n",
       "<!-- DHT_Define_Huffman_tables&#45;&gt;2 -->\n",
       "<g id=\"edge9\" class=\"edge\">\n",
       "<title>DHT_Define_Huffman_tables&#45;&gt;2</title>\n",
       "<path fill=\"none\" stroke=\"black\" d=\"M721,-118.85C721,-111.49 721,-102.48 721,-93.25\"/>\n",
       "<polygon fill=\"black\" stroke=\"black\" points=\"724.5,-93.23 721,-83.23 717.5,-93.23 724.5,-93.23\"/>\n",
       "</g>\n",
       "<!-- 3 -->\n",
       "<g id=\"node11\" class=\"node\">\n",
       "<title>3</title>\n",
       "<polygon fill=\"none\" stroke=\"black\" points=\"1079,-83 871,-83 871,0 1079,0 1079,-83\"/>\n",
       "<text text-anchor=\"middle\" x=\"975\" y=\"-67.8\" font-family=\"Times-Roman\" font-size=\"14.00\">Instance Count: 1</text>\n",
       "<text text-anchor=\"middle\" x=\"975\" y=\"-52.8\" font-family=\"Times-Roman\" font-size=\"14.00\">Total Size In Bytes: 134</text>\n",
       "<text text-anchor=\"middle\" x=\"975\" y=\"-37.8\" font-family=\"Times-Roman\" font-size=\"14.00\">Average Size In Bytes: 134</text>\n",
       "<text text-anchor=\"middle\" x=\"975\" y=\"-22.8\" font-family=\"Times-Roman\" font-size=\"14.00\">Min Size In Bytes: 134</text>\n",
       "<text text-anchor=\"middle\" x=\"975\" y=\"-7.8\" font-family=\"Times-Roman\" font-size=\"14.00\">Max Size In Bytes: 134</text>\n",
       "</g>\n",
       "<!-- DQT_Define_quantization_tables&#45;&gt;3 -->\n",
       "<g id=\"edge10\" class=\"edge\">\n",
       "<title>DQT_Define_quantization_tables&#45;&gt;3</title>\n",
       "<path fill=\"none\" stroke=\"black\" d=\"M975,-118.85C975,-111.49 975,-102.48 975,-93.25\"/>\n",
       "<polygon fill=\"black\" stroke=\"black\" points=\"978.5,-93.23 975,-83.23 971.5,-93.23 978.5,-93.23\"/>\n",
       "</g>\n",
       "<!-- 4 -->\n",
       "<g id=\"node12\" class=\"node\">\n",
       "<title>4</title>\n",
       "<polygon fill=\"none\" stroke=\"black\" points=\"1287,-83 1097,-83 1097,0 1287,0 1287,-83\"/>\n",
       "<text text-anchor=\"middle\" x=\"1192\" y=\"-67.8\" font-family=\"Times-Roman\" font-size=\"14.00\">Instance Count: 1</text>\n",
       "<text text-anchor=\"middle\" x=\"1192\" y=\"-52.8\" font-family=\"Times-Roman\" font-size=\"14.00\">Total Size In Bytes: 2</text>\n",
       "<text text-anchor=\"middle\" x=\"1192\" y=\"-37.8\" font-family=\"Times-Roman\" font-size=\"14.00\">Average Size In Bytes: 2</text>\n",
       "<text text-anchor=\"middle\" x=\"1192\" y=\"-22.8\" font-family=\"Times-Roman\" font-size=\"14.00\">Min Size In Bytes: 2</text>\n",
       "<text text-anchor=\"middle\" x=\"1192\" y=\"-7.8\" font-family=\"Times-Roman\" font-size=\"14.00\">Max Size In Bytes: 2</text>\n",
       "</g>\n",
       "<!-- EOI_End_of_image&#45;&gt;4 -->\n",
       "<g id=\"edge11\" class=\"edge\">\n",
       "<title>EOI_End_of_image&#45;&gt;4</title>\n",
       "<path fill=\"none\" stroke=\"black\" d=\"M1192.82,-118.85C1192.74,-111.49 1192.64,-102.48 1192.54,-93.25\"/>\n",
       "<polygon fill=\"black\" stroke=\"black\" points=\"1196.04,-93.19 1192.44,-83.23 1189.04,-93.26 1196.04,-93.19\"/>\n",
       "</g>\n",
       "<!-- 5 -->\n",
       "<g id=\"node13\" class=\"node\">\n",
       "<title>5</title>\n",
       "<polygon fill=\"none\" stroke=\"black\" points=\"1495,-83 1305,-83 1305,0 1495,0 1495,-83\"/>\n",
       "<text text-anchor=\"middle\" x=\"1400\" y=\"-67.8\" font-family=\"Times-Roman\" font-size=\"14.00\">Instance Count: 1</text>\n",
       "<text text-anchor=\"middle\" x=\"1400\" y=\"-52.8\" font-family=\"Times-Roman\" font-size=\"14.00\">Total Size In Bytes: 2</text>\n",
       "<text text-anchor=\"middle\" x=\"1400\" y=\"-37.8\" font-family=\"Times-Roman\" font-size=\"14.00\">Average Size In Bytes: 2</text>\n",
       "<text text-anchor=\"middle\" x=\"1400\" y=\"-22.8\" font-family=\"Times-Roman\" font-size=\"14.00\">Min Size In Bytes: 2</text>\n",
       "<text text-anchor=\"middle\" x=\"1400\" y=\"-7.8\" font-family=\"Times-Roman\" font-size=\"14.00\">Max Size In Bytes: 2</text>\n",
       "</g>\n",
       "<!-- SOI_Start_of_image&#45;&gt;5 -->\n",
       "<g id=\"edge12\" class=\"edge\">\n",
       "<title>SOI_Start_of_image&#45;&gt;5</title>\n",
       "<path fill=\"none\" stroke=\"black\" d=\"M1386.12,-118.85C1387.46,-111.49 1389.1,-102.48 1390.77,-93.25\"/>\n",
       "<polygon fill=\"black\" stroke=\"black\" points=\"1394.25,-93.69 1392.6,-83.23 1387.36,-92.44 1394.25,-93.69\"/>\n",
       "</g>\n",
       "</g>\n",
       "</svg>\n"
      ],
      "text/plain": [
       "<graphviz.dot.Digraph at 0x7f6bece8b610>"
      ]
     },
     "execution_count": 29,
     "metadata": {},
     "output_type": "execute_result"
    }
   ],
   "source": [
    "group_value = selected_group.value\n",
    "report.group_graph(group_value)"
   ]
  },
  {
   "cell_type": "code",
   "execution_count": 30,
   "id": "tired-nursing",
   "metadata": {},
   "outputs": [
    {
     "data": {
      "application/vnd.jupyter.widget-view+json": {
       "model_id": "69fb532278b7457fb8a3f342d9cc7a60",
       "version_major": 2,
       "version_minor": 0
      },
      "text/plain": [
       "QgridWidget(grid_options={'fullWidthRows': True, 'syncColumnCellResize': True, 'forceFitColumns': True, 'defau…"
      ]
     },
     "metadata": {},
     "output_type": "display_data"
    }
   ],
   "source": [
    "group_df = report.group_df(group_value)\n",
    "qgrid_widget = qgrid.show_grid(group_df, show_toolbar=True)\n",
    "qgrid_widget"
   ]
  },
  {
   "cell_type": "code",
   "execution_count": 31,
   "id": "binding-cuisine",
   "metadata": {},
   "outputs": [
    {
     "data": {
      "image/png": "[encoded data removed]",
      "text/plain": [
       "<Figure size 1080x576 with 1 Axes>"
      ]
     },
     "metadata": {},
     "output_type": "display_data"
    }
   ],
   "source": [
    "report.group_instance_count(group_value)"
   ]
  },
  {
   "cell_type": "code",
   "execution_count": 32,
   "id": "treated-partition",
   "metadata": {},
   "outputs": [
    {
     "data": {
      "application/vnd.jupyter.widget-view+json": {
       "model_id": "273f244fbf224af7ae586c6049e1fcba",
       "version_major": 2,
       "version_minor": 0
      },
      "text/plain": [
       "VBox(children=(Dropdown(description='Tech : ', options=('APP14_Reserved_for_application_segments', 'Applicatio…"
      ]
     },
     "metadata": {},
     "output_type": "display_data"
    },
    {
     "data": {
      "application/javascript": [
       "Jupyter.notebook.select_next().execute_cells_below()"
      ],
      "text/plain": [
       "<IPython.core.display.Javascript object>"
      ]
     },
     "metadata": {},
     "output_type": "display_data"
    }
   ],
   "source": [
    "tech_descriptions = report.get_group_tech_descriptions(group_value) \n",
    "\n",
    "selected_tech = widgets.Dropdown(\n",
    "    options     = tech_descriptions,\n",
    "    description = 'Tech : ',\n",
    "    disabled    = False,\n",
    "    value       = None)\n",
    "\n",
    "button = widgets.Button(description='Run')\n",
    "\n",
    "box = widgets.VBox(children=[selected_tech, button])\n",
    "display(box)"
   ]
  },
  {
   "cell_type": "code",
   "execution_count": 35,
   "id": "shaped-sheet",
   "metadata": {},
   "outputs": [],
   "source": [
    "%blockrun button"
   ]
  },
  {
   "cell_type": "code",
   "execution_count": 36,
   "id": "grand-secretariat",
   "metadata": {},
   "outputs": [
    {
     "data": {
      "image/png": "[encoded data removed]",
      "text/plain": [
       "<Figure size 1080x576 with 1 Axes>"
      ]
     },
     "metadata": {},
     "output_type": "display_data"
    }
   ],
   "source": [
    "tech_value = selected_tech.value\n",
    "report.group_tech_barchart_1(group_value, tech_value)"
   ]
  },
  {
   "cell_type": "code",
   "execution_count": 37,
   "id": "indie-sustainability",
   "metadata": {},
   "outputs": [
    {
     "data": {
      "image/png": "[encoded data removed]",
      "text/plain": [
       "<Figure size 1080x576 with 1 Axes>"
      ]
     },
     "metadata": {
      "needs_background": "light"
     },
     "output_type": "display_data"
    }
   ],
   "source": [
    "report.group_tech_barchart_2(group_value, tech_value)"
   ]
  }
 ],
 "metadata": {
  "kernelspec": {
   "display_name": "Python 3",
   "language": "python",
   "name": "python3"
  },
  "language_info": {
   "codemirror_mode": {
    "name": "ipython",
    "version": 3
   },
   "file_extension": ".py",
   "mimetype": "text/x-python",
   "name": "python",
   "nbconvert_exporter": "python",
   "pygments_lexer": "ipython3",
   "version": "3.8.8"
  }
 },
 "nbformat": 4,
 "nbformat_minor": 5
}
