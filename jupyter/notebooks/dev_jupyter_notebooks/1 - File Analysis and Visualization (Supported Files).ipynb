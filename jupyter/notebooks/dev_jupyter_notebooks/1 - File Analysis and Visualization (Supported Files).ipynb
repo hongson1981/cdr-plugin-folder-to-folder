{
 "cells": [
  {
   "cell_type": "markdown",
   "metadata": {},
   "source": [
    "# Exploring the Files and Analyzing Folder Structures (Supported Files)\n",
    "\n",
    "## Repeat previous analysis for Glasswall Supported Files"
   ]
  },
  {
   "cell_type": "code",
   "execution_count": 1,
   "metadata": {},
   "outputs": [
    {
     "data": {
      "text/html": [
       "<style>.container { width:80% !important; }</style>"
      ],
      "text/plain": [
       "<IPython.core.display.HTML object>"
      ]
     },
     "metadata": {},
     "output_type": "display_data"
    }
   ],
   "source": [
    "from IPython.core.display import display, HTML\n",
    "display(HTML(\"<style>.container { width:80% !important; }</style>\"))"
   ]
  },
  {
   "cell_type": "code",
   "execution_count": 2,
   "metadata": {},
   "outputs": [],
   "source": [
    "%%capture\n",
    "!jupyter nbextension enable --py --sys-prefix qgrid\n",
    "!jupyter nbextension enable --py --sys-prefix widgetsnbextension"
   ]
  },
  {
   "cell_type": "code",
   "execution_count": 3,
   "metadata": {},
   "outputs": [
    {
     "data": {
      "text/html": [
       "<script>\n",
       "code_show=true; \n",
       "function code_toggle() {\n",
       " if (code_show){\n",
       " $('div.input').hide();\n",
       " } else {\n",
       " $('div.input').show();\n",
       " }\n",
       " code_show = !code_show\n",
       "} \n",
       "$( document ).ready(code_toggle);\n",
       "</script>\n",
       "<form action=\"javascript:code_toggle()\"><input type=\"submit\" value=\"Click here to toggle on/off the raw code.\"></form>"
      ],
      "text/plain": [
       "<IPython.core.display.HTML object>"
      ]
     },
     "execution_count": 3,
     "metadata": {},
     "output_type": "execute_result"
    }
   ],
   "source": [
    "HTML('''<script>\n",
    "code_show=true; \n",
    "function code_toggle() {\n",
    " if (code_show){\n",
    " $('div.input').hide();\n",
    " } else {\n",
    " $('div.input').show();\n",
    " }\n",
    " code_show = !code_show\n",
    "} \n",
    "$( document ).ready(code_toggle);\n",
    "</script>\n",
    "<form action=\"javascript:code_toggle()\"><input type=\"submit\" value=\"Click here to toggle on/off the raw code.\"></form>''')"
   ]
  },
  {
   "cell_type": "markdown",
   "metadata": {},
   "source": [
    "**Important:** Set the path to the folder you are going to analyze"
   ]
  },
  {
   "cell_type": "code",
   "execution_count": 4,
   "metadata": {},
   "outputs": [
    {
     "data": {
      "application/vnd.jupyter.widget-view+json": {
       "model_id": "d08f5d1bd31e4993ab310945585e7db5",
       "version_major": 2,
       "version_minor": 0
      },
      "text/plain": [
       "VBox(children=(Text(value='/home/jovyan/test_data', description='Folder Path', placeholder='/home/jovyan/test_…"
      ]
     },
     "metadata": {},
     "output_type": "display_data"
    },
    {
     "data": {
      "application/javascript": [
       "Jupyter.notebook.select_next().execute_cells_below()"
      ],
      "text/plain": [
       "<IPython.core.display.Javascript object>"
      ]
     },
     "metadata": {},
     "output_type": "display_data"
    }
   ],
   "source": [
    "import ipywidgets as widgets\n",
    "import ipython_blocking\n",
    "\n",
    "path_input = widgets.Text(\n",
    "    placeholder='/home/jovyan/test_data',\n",
    "    description='Folder Path',\n",
    "    disabled=False,\n",
    "    value='/home/jovyan/test_data',\n",
    "    )\n",
    "\n",
    "button = widgets.Button(description='Run')\n",
    "\n",
    "box = widgets.VBox(children=[path_input, button])\n",
    "display(box)"
   ]
  },
  {
   "cell_type": "code",
   "execution_count": 7,
   "metadata": {},
   "outputs": [],
   "source": [
    "%blockrun button"
   ]
  },
  {
   "cell_type": "markdown",
   "metadata": {},
   "source": [
    "Let's get a Pandas dataframe with all files information needed for the visualizations"
   ]
  },
  {
   "cell_type": "code",
   "execution_count": 8,
   "metadata": {},
   "outputs": [],
   "source": [
    "import folderstats\n",
    "\n",
    "folder = path_input.value\n",
    "df = folderstats.folderstats(folder, ignore_hidden=True)\n",
    "\n",
    "# Supported files list:\n",
    "supported_files = ['pdf', 'PDF', 'jpg', 'JPG', 'gif', 'GIF', 'png', 'PNG', 'emf', 'EMF', 'wmf', 'WMF', 'tiff', 'TIFF', 'GeoTIFF', 'geotiff', 'bmp', 'BMP',\n",
    "                   'doc', 'DOC', 'dot', 'DOT', 'xls', 'XLS', 'xlt', 'XLT', 'ppt', 'PPT', 'pot', 'POT', 'docx', 'DOCX', 'docm', 'DOCM', 'dotx', 'DOTX',\n",
    "                   'dotm', 'DOTM', 'xlsx', 'XLSX', 'xlam', 'XLAM', 'xlsm', 'XLSM', 'xltx', 'XLTX', 'xltm', 'XLTM', 'xpptx', 'XPPTX', 'potx', 'POTX', \n",
    "                   'potm', 'POTM', 'pptm', 'PPTM', 'ppsx', 'PPSX', 'ppam', 'PPAM', 'ppsm', 'PPSM', 'wab', 'WAB', 'mp3', 'MP3', 'mpg', 'MPG', 'mp4', 'MP4',\n",
    "                   'pe', 'PE', 'dll', 'DLL', 'mui', 'MUI', 'exe', 'EXE', 'mach-o', 'MACH-O', 'coff', 'COFF', 'elf', 'ELF']\n",
    "\n",
    "df_supported = df[df['extension'].isin(supported_files)]\n",
    "df_not_supported = df[~df['extension'].isin(supported_files)]\n",
    "\n",
    "df = df_supported"
   ]
  },
  {
   "cell_type": "markdown",
   "metadata": {},
   "source": [
    "## Treemap\n",
    "\n",
    "The following treemap shows the size of each file extension.\n",
    "\n",
    "This already gives some interesting insight into the way the files are distributed in the folder. Exploring your file system by size can be very helpful when looking for files or folders that you don’t need, but eat up a lot of memory."
   ]
  },
  {
   "cell_type": "code",
   "execution_count": 9,
   "metadata": {},
   "outputs": [
    {
     "data": {
      "application/vnd.jupyter.widget-view+json": {
       "model_id": "2d319f01cae24641b255230ca30a7ba1",
       "version_major": 2,
       "version_minor": 0
      },
      "text/plain": [
       "interactive(children=(IntSlider(value=2, continuous_update=False, description='Extensions', max=2, min=1), Out…"
      ]
     },
     "metadata": {},
     "output_type": "display_data"
    }
   ],
   "source": [
    "from ipywidgets import interact\n",
    "import matplotlib.pyplot as plt\n",
    "import squarify\n",
    "\n",
    "# Group by extension and sum all sizes for each extension\n",
    "extension_sizes = df.groupby('extension')['size'].sum()\n",
    "# Sort elements by size\n",
    "extension_sizes = extension_sizes.sort_values(ascending=False)\n",
    "\n",
    "m = len(extension_sizes)\n",
    "if m >= 20:\n",
    "    if m <= 30: p = 0.7\n",
    "    elif m <= 40: p = 0.6\n",
    "    elif m <= 60: p = 0.4\n",
    "    else: p = 0.35\n",
    "else:\n",
    "    p = 1\n",
    "\n",
    "w = widgets.IntSlider(\n",
    "        value= p*len(extension_sizes),\n",
    "        min=1,\n",
    "        max=len(extension_sizes),\n",
    "        step=1,\n",
    "        description='Extensions',\n",
    "        disabled=False,\n",
    "        continuous_update=False,\n",
    "        orientation='horizontal',\n",
    "        readout=True,\n",
    "        readout_format='d'\n",
    "    )\n",
    "\n",
    "@interact\n",
    "def treemap(w = w):\n",
    "\n",
    "    plt.rcParams.update({'font.size': 22}) \n",
    "\n",
    "    plt.figure(figsize=(25,15))\n",
    "\n",
    "    squarify.plot(sizes=extension_sizes[:w].values, label=extension_sizes[:w].index.values)\n",
    "    plt.title('Extension Treemap by Size')\n",
    "    plt.axis('off');"
   ]
  },
  {
   "cell_type": "markdown",
   "metadata": {},
   "source": [
    "According to Zipf's law (a discrete form of the continuous Pareto distribution), the second largest file type will be about half the size of the largest. The third largest, one third the size of the largest. The fourth, one fourth, and so on. "
   ]
  },
  {
   "cell_type": "markdown",
   "metadata": {},
   "source": [
    "## Graphs\n",
    "\n",
    "The folder structure can be represented with a graph using NetworkX package. "
   ]
  },
  {
   "cell_type": "code",
   "execution_count": 10,
   "metadata": {},
   "outputs": [
    {
     "name": "stdout",
     "output_type": "stream",
     "text": [
      "Name: \n",
      "Type: Graph\n",
      "Number of nodes: 27\n",
      "Number of edges: 19\n",
      "Average degree:   1.4074\n"
     ]
    }
   ],
   "source": [
    "import networkx as nx\n",
    "\n",
    "# Sort the index\n",
    "df_sorted = df.sort_values(by='id')\n",
    "\n",
    "G = nx.Graph()\n",
    "# To build the graph we iterate over the dataframe and create an edge from row.id to row.parent\n",
    "for i, row in df_sorted.iterrows():\n",
    "    if row.parent:\n",
    "        G.add_edge(row.id, row.parent)\n",
    "    \n",
    "# Print some additional information\n",
    "print(nx.info(G))"
   ]
  },
  {
   "cell_type": "markdown",
   "metadata": {},
   "source": [
    "The total number of nodes is how many files and folders we have. The total number of edges is equal to the total number of nodes minus one, since every file and folder can be in only one folder and the first folder has no parent folder, this makes sense. The average degree is the average number of edges that a node can have.\n",
    "\n",
    "Now we could apply all sorts of available [Algorithms](https://networkx.org/documentation/networkx-1.10/reference/algorithms.html) and [Functions](https://networkx.org/documentation/networkx-1.10/reference/functions.html) that can be applied to explore and analyze the folder structure."
   ]
  },
  {
   "cell_type": "code",
   "execution_count": 11,
   "metadata": {},
   "outputs": [
    {
     "data": {
      "image/png": "[encoded data removed]",
      "text/plain": [
       "<Figure size 1152x576 with 1 Axes>"
      ]
     },
     "metadata": {},
     "output_type": "display_data"
    }
   ],
   "source": [
    "from networkx.drawing.nx_pydot import graphviz_layout\n",
    "\n",
    "pos_dot = graphviz_layout(G, prog='dot')\n",
    "\n",
    "fig = plt.figure(figsize=(16, 8))\n",
    "nodes = nx.draw_networkx_nodes(G, pos_dot, node_size=2, node_color='C0')\n",
    "edges = nx.draw_networkx_edges(G, pos_dot, edge_color='C0', width=0.5)\n",
    "plt.axis('off');"
   ]
  },
  {
   "cell_type": "code",
   "execution_count": 12,
   "metadata": {},
   "outputs": [
    {
     "data": {
      "image/png": "[encoded data removed]",
      "text/plain": [
       "<Figure size 1008x1008 with 1 Axes>"
      ]
     },
     "metadata": {},
     "output_type": "display_data"
    }
   ],
   "source": [
    "# using a radial layout\n",
    "\n",
    "pos_twopi = graphviz_layout(G, prog='twopi', root=1)\n",
    "\n",
    "fig = plt.figure(figsize=(14, 14))\n",
    "nodes = nx.draw_networkx_nodes(G, pos_twopi, node_size=2, node_color='C0')\n",
    "edges = nx.draw_networkx_edges(G, pos_twopi, edge_color='C0', width=0.5)\n",
    "plt.axis('off')\n",
    "plt.axis('equal');"
   ]
  },
  {
   "cell_type": "markdown",
   "metadata": {},
   "source": [
    "Be aware though, that the time to compute these graph drawing can get quickly out of hand for large graphs (>10000)"
   ]
  },
  {
   "cell_type": "markdown",
   "metadata": {},
   "source": [
    "## Table\n",
    "\n",
    "It is very helpful to display the dataframe on a qgrid so we can filter it"
   ]
  },
  {
   "cell_type": "code",
   "execution_count": 13,
   "metadata": {},
   "outputs": [
    {
     "data": {
      "application/vnd.jupyter.widget-view+json": {
       "model_id": "f0411d6f44fb4bff96ce2e50826ede9f",
       "version_major": 2,
       "version_minor": 0
      },
      "text/plain": [
       "QgridWidget(grid_options={'fullWidthRows': True, 'syncColumnCellResize': True, 'forceFitColumns': True, 'defau…"
      ]
     },
     "metadata": {},
     "output_type": "display_data"
    }
   ],
   "source": [
    "import qgrid\n",
    "\n",
    "qgrid_widget = qgrid.show_grid(df, show_toolbar=True)\n",
    "qgrid_widget"
   ]
  },
  {
   "cell_type": "code",
   "execution_count": 14,
   "metadata": {},
   "outputs": [],
   "source": [
    "# If you filter the data, can get the new df with the following command\n",
    "# qgrid_widget.get_changed_df()"
   ]
  },
  {
   "cell_type": "markdown",
   "metadata": {},
   "source": [
    "### Some references\n",
    "\n",
    "**size** describes the number of bytes by the file. (Note: Folders also have a size, although the size is excluding the files inside). The **folder** flag specifies whether this element is a folder, the **num_files** is the number of files within the folder, and the **depth** states how many layers of folders the file or folder is. Finally, **id** and **parent** are responsible to see the links between files and folders which can be used to create a graph.\n",
    "\n",
    "##### Timestamps:\n",
    "\n",
    "* **atime**: time of last access\n",
    "* **mtime**: time of last modification\n",
    "* **ctime**: time of last status (metadata) change like file permissions, file ownership, etc. (creation time in Windows)\n",
    "\n",
    "Find more about what each field means on https://en.wikipedia.org/wiki/Stat_(system_call)"
   ]
  },
  {
   "cell_type": "markdown",
   "metadata": {},
   "source": [
    "## Bar Charts\n",
    "\n",
    "### Counting different types of file extensions\n",
    "\n",
    "Let's explore the distribution of files by their file extensions.\n",
    "\n",
    "In the first visualization, you will see the distribution sorted by their occurrence."
   ]
  },
  {
   "cell_type": "code",
   "execution_count": 15,
   "metadata": {},
   "outputs": [
    {
     "data": {
      "application/vnd.jupyter.widget-view+json": {
       "model_id": "1dd4053cf94d4261936815127e24912f",
       "version_major": 2,
       "version_minor": 0
      },
      "text/plain": [
       "interactive(children=(IntSlider(value=2, continuous_update=False, description='Extensions', max=2, min=1), Out…"
      ]
     },
     "metadata": {},
     "output_type": "display_data"
    }
   ],
   "source": [
    "w = widgets.IntSlider(\n",
    "        value=len(df['extension'].value_counts()),\n",
    "        min=1,\n",
    "        max=len(df['extension'].value_counts()),\n",
    "        step=1,\n",
    "        description='Extensions',\n",
    "        disabled=False,\n",
    "        continuous_update=False,\n",
    "        orientation='horizontal',\n",
    "        readout=True,\n",
    "        readout_format='d'\n",
    "    )\n",
    "\n",
    "@interact\n",
    "def bar_chart(w = w):\n",
    "    \n",
    "    plt.figure(figsize=(20,10))\n",
    "\n",
    "    with plt.style.context('ggplot'):\n",
    "        df['extension'].value_counts()[:w].plot(kind='bar', color='C1', title='Extension Distribution by Count');"
   ]
  },
  {
   "cell_type": "markdown",
   "metadata": {},
   "source": [
    "### File extension by size\n",
    "\n",
    "This showed us only the counts, but what about the sizes?"
   ]
  },
  {
   "cell_type": "code",
   "execution_count": 16,
   "metadata": {},
   "outputs": [
    {
     "data": {
      "application/vnd.jupyter.widget-view+json": {
       "model_id": "647ea04cb7d04f71b9dc504b86ab778b",
       "version_major": 2,
       "version_minor": 0
      },
      "text/plain": [
       "interactive(children=(IntSlider(value=2, continuous_update=False, description='Extensions', max=2, min=1), Out…"
      ]
     },
     "metadata": {},
     "output_type": "display_data"
    }
   ],
   "source": [
    "# To do this you can use the Pandas .groupby() method to group all extensions. \n",
    "# After grouping the files by file extension you can sum all of their sizes\n",
    "\n",
    "# Group by extension and sum all sizes for each extension \n",
    "extension_sizes = df.groupby('extension')['size'].sum()\n",
    "# Sort elements by size\n",
    "extension_sizes = extension_sizes.sort_values(ascending=False)\n",
    "\n",
    "w = widgets.IntSlider(\n",
    "        value=len(extension_sizes),\n",
    "        min=1,\n",
    "        max=len(extension_sizes),\n",
    "        step=1,\n",
    "        description='Extensions',\n",
    "        disabled=False,\n",
    "        continuous_update=False,\n",
    "        orientation='horizontal',\n",
    "        readout=True,\n",
    "        readout_format='d'\n",
    "    )\n",
    "\n",
    "@interact\n",
    "def bar_chart(w = w):\n",
    "\n",
    "    with plt.style.context('ggplot'):\n",
    "    \n",
    "        extension_sizes = df.groupby('extension')['size'].sum()\n",
    "        extension_sizes = extension_sizes.sort_values(ascending=False)\n",
    "        extension_sizes = extension_sizes[:w]\n",
    "        \n",
    "        plt.figure(figsize=(20,10))\n",
    "        \n",
    "        extension_sizes.plot(kind='bar', color='C1', title='Extension Distribution by Size');"
   ]
  },
  {
   "cell_type": "markdown",
   "metadata": {},
   "source": [
    "### Folder sizes\n",
    "\n",
    "Next, we can have a look now at the largest folders in the repository. The first thing to do, is to filter the data set to only have folders. The rest should be familiar to the previous visualizations"
   ]
  },
  {
   "cell_type": "code",
   "execution_count": 17,
   "metadata": {},
   "outputs": [],
   "source": [
    "# Filter the data set to only folders\n",
    "df_folders = df[df['folder']]\n",
    "# Set the name to be the index (so we can use it as a label later)\n",
    "df_folders.set_index('name', inplace=True)\n",
    "# Sort the folders by size\n",
    "df_folders = df_folders.sort_values(by='size', ascending=False)\n",
    "\n",
    "\n",
    "if len(df_folders) != 0:\n",
    "    \n",
    "    w = widgets.IntSlider(\n",
    "            value=len(df_folders)//5,\n",
    "            min=1,\n",
    "            max=len(df_folders),\n",
    "            step=1,\n",
    "            description='Num Folders',\n",
    "            disabled=False,\n",
    "            continuous_update=False,\n",
    "            orientation='horizontal',\n",
    "            readout=True,\n",
    "            readout_format='d'\n",
    "        )\n",
    "\n",
    "    @interact\n",
    "    def bar_chart(w = w):\n",
    "\n",
    "        with plt.style.context('ggplot'):\n",
    "        \n",
    "            plt.figure(figsize=(20,10))\n",
    "            df_folders['size'][:w].plot(kind='bar', color='C0', title='Folder Sizes');"
   ]
  },
  {
   "cell_type": "markdown",
   "metadata": {},
   "source": [
    "Reference: https://janakiev.com/blog/python-filesystem-analysis/"
   ]
  }
 ],
 "metadata": {
  "kernelspec": {
   "display_name": "Python 3",
   "language": "python",
   "name": "python3"
  },
  "language_info": {
   "codemirror_mode": {
    "name": "ipython",
    "version": 3
   },
   "file_extension": ".py",
   "mimetype": "text/x-python",
   "name": "python",
   "nbconvert_exporter": "python",
   "pygments_lexer": "ipython3",
   "version": "3.8.8"
  }
 },
 "nbformat": 4,
 "nbformat_minor": 4
}
