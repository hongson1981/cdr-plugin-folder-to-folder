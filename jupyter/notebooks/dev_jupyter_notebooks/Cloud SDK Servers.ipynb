{
 "cells": [
  {
   "cell_type": "code",
   "execution_count": null,
   "id": "metropolitan-facial",
   "metadata": {},
   "outputs": [],
   "source": [
    "cloud_sdk_servers = {\"Endpoints\":[{\"IP\":\"34.245.221.234\", \"Port\":\"8080\"},\n",
    "                                  {\"IP\":\"34.240.183.4\", \"Port\":\"8080\"},\n",
    "                                  {\"IP\":\"34.241.226.16\", \"Port\":\"8080\"}]}\n"
   ]
  }
 ],
 "metadata": {
  "kernelspec": {
   "display_name": "Python 3",
   "language": "python",
   "name": "python3"
  },
  "language_info": {
   "codemirror_mode": {
    "name": "ipython",
    "version": 3
   },
   "file_extension": ".py",
   "mimetype": "text/x-python",
   "name": "python",
   "nbconvert_exporter": "python",
   "pygments_lexer": "ipython3",
   "version": "3.8.8"
  }
 },
 "nbformat": 4,
 "nbformat_minor": 5
}