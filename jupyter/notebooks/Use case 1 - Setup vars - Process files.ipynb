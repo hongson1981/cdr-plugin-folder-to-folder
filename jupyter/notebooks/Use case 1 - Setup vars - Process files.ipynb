{
 "cells": [
  {
   "cell_type": "markdown",
   "id": "extra-pound",
   "metadata": {},
   "source": [
    "# Use case 1 - Setup vars - Process files"
   ]
  },
  {
   "cell_type": "markdown",
   "id": "flying-atmosphere",
   "metadata": {},
   "source": [
    "### Step 1 :  configure server and check health"
   ]
  },
  {
   "cell_type": "code",
   "execution_count": 36,
   "id": "hindu-theory",
   "metadata": {},
   "outputs": [],
   "source": [
    "from jupyter_apis.API_Client import API_Client\n",
    "import json\n",
    "\n",
    "url_server='http://api:8880'             # api dns resolution is provided by docker-compose or kubernetes\n",
    "api = API_Client(url_server)\n",
    "\n",
    "assert api.health() =={'status': 'ok'}       "
   ]
  },
  {
   "cell_type": "markdown",
   "id": "western-structure",
   "metadata": {},
   "source": [
    "### Step 2 : Configure hard discs\n",
    "\n",
    "- Configure hd1_path, hd2_path and hd3_path in \"data\""
   ]
  },
  {
   "cell_type": "code",
   "execution_count": 37,
   "id": "expressed-stretch",
   "metadata": {},
   "outputs": [
    {
     "data": {
      "text/plain": [
       "'Hard discs are configured'"
      ]
     },
     "execution_count": 37,
     "metadata": {},
     "output_type": "execute_result"
    }
   ],
   "source": [
    "\n",
    "data = { \"hd1_path\"  : \"./test_data/scenario-1/hd1\", \n",
    "         \"hd2_path\"  : \"./test_data/scenario-1/hd2\", \n",
    "         \"hd3_path\"  : \"./test_data/scenario-1/hd3\"}    \n",
    "\n",
    "response=api.configure_environment(data=data)\n",
    "assert response.status_code == 200 \n",
    "assert response.json() == data\n",
    "\n",
    "\"Hard discs are configured\"\n"
   ]
  },
  {
   "cell_type": "markdown",
   "id": "roman-seven",
   "metadata": {},
   "source": [
    "### Step 3 : Configure GW SDK Endpoints\n",
    "\n",
    "- Configure gw sdk IP and Port\n",
    "- Edit IP and Port in varibale \"data\"\n",
    "- You can pass multiple endpoints\n",
    "- Example : data = '{ \"Endpoints\": [{ \"IP\": \"92.109.25.70\", \"Port\": \"8080\" },{ \"IP\": \"127.0.0.1\", \"Port\": \"8080\" }]}'"
   ]
  },
  {
   "cell_type": "code",
   "execution_count": 39,
   "id": "annual-appeal",
   "metadata": {},
   "outputs": [
    {
     "data": {
      "text/plain": [
       "'SDK Endpoints are set'"
      ]
     },
     "execution_count": 39,
     "metadata": {},
     "output_type": "execute_result"
    }
   ],
   "source": [
    "data = { \"Endpoints\": [{ \"IP\": \"91.109.25.70\", \"Port\": \"8080\" } ] }\n",
    "\n",
    "response=api.set_gw_sdk_endpoints(data=data)\n",
    "assert response.status_code == 200\n",
    "assert response.json() == data\n",
    "\n",
    "\"SDK Endpoints are set\"\n"
   ]
  },
  {
   "cell_type": "markdown",
   "id": "elect-investing",
   "metadata": {},
   "source": [
    "### Step 4 : Process files\n",
    "\n",
    "These calls will:\n",
    "\n",
    "- copy all files from HD1 into HD2 (based on hash)\n",
    "- process all files from HD2 using Glasswall Cloud SDK\n",
    "- copy all processed files into HD3\n"
   ]
  },
  {
   "cell_type": "code",
   "execution_count": 40,
   "id": "collaborative-denial",
   "metadata": {},
   "outputs": [
    {
     "data": {
      "text/plain": [
       "'all files processed '"
      ]
     },
     "execution_count": 40,
     "metadata": {},
     "output_type": "execute_result"
    }
   ],
   "source": [
    "assert api.pre_process() == '[\"Processing is done\"]'\n",
    "assert api.start_process() == '\"Loop completed\"'\n",
    "\"all files processed \""
   ]
  },
  {
   "cell_type": "code",
   "execution_count": 41,
   "id": "legendary-plastic",
   "metadata": {},
   "outputs": [
    {
     "data": {
      "text/plain": [
       "{'status': 'ok'}"
      ]
     },
     "execution_count": 41,
     "metadata": {},
     "output_type": "execute_result"
    }
   ],
   "source": [
    "\n",
    "API_Client('http://api:8880' ).health()"
   ]
  },
  {
   "cell_type": "markdown",
   "id": "lucky-jewelry",
   "metadata": {},
   "source": [
    "# Step 5 : Folder structure visualization"
   ]
  },
  {
   "cell_type": "code",
   "execution_count": 42,
   "id": "coastal-demographic",
   "metadata": {},
   "outputs": [
    {
     "name": "stdout",
     "output_type": "stream",
     "text": [
      "scenario-1/\n",
      "├── .DS_Store\n",
      "├── hd1/\n",
      "│   ├── 1.macros and javascript/\n",
      "│   │   ├── JS_Siemens.pdf\n",
      "│   │   ├── Macros.xls\n",
      "│   │   └── Word-Macro.docm\n",
      "│   └── image2.jpg\n",
      "├── hd2/\n",
      "│   ├── data/\n",
      "│   │   ├── 86df34018436a99e1e98ff51346591e189cd76c8518f7288bb1ea8336396259b/\n",
      "│   │   │   ├── metadata.json\n",
      "│   │   │   ├── report.json\n",
      "│   │   │   └── source\n",
      "│   │   ├── a6fe42e5f2451d32c2a805c2b129b792d8e638feac4973f0ed3a31152ad12729/\n",
      "│   │   │   ├── metadata.json\n",
      "│   │   │   ├── report.json\n",
      "│   │   │   └── source\n",
      "│   │   ├── ae930f1accc9ee6fa81915ef3591e5539ce9ee34a26c7a6e765880c3177e028b/\n",
      "│   │   │   ├── metadata.json\n",
      "│   │   │   ├── report.json\n",
      "│   │   │   └── source\n",
      "│   │   └── e3ddd50da95fe964059b7a84aa761ce7efba2462c95eaae0ec64a8303d3a9b87/\n",
      "│   │       ├── metadata.json\n",
      "│   │       ├── report.json\n",
      "│   │       └── source\n",
      "│   └── status/\n",
      "│       └── hash.json\n",
      "└── hd3/\n",
      "    ├── 1.macros and javascript/\n",
      "    │   ├── JS_Siemens.pdf\n",
      "    │   └── Macros.xls\n",
      "    └── image2.jpg\n"
     ]
    }
   ],
   "source": [
    "from jupyter_apis.Display_Path import display_path\n",
    "\n",
    "display_path('../test_data/scenario-1')"
   ]
  },
  {
   "cell_type": "code",
   "execution_count": null,
   "id": "known-methodology",
   "metadata": {},
   "outputs": [],
   "source": []
  },
  {
   "cell_type": "code",
   "execution_count": null,
   "id": "opposed-cedar",
   "metadata": {},
   "outputs": [],
   "source": []
  }
 ],
 "metadata": {
  "kernelspec": {
   "display_name": "Python 3",
   "language": "python",
   "name": "python3"
  },
  "language_info": {
   "codemirror_mode": {
    "name": "ipython",
    "version": 3
   },
   "file_extension": ".py",
   "mimetype": "text/x-python",
   "name": "python",
   "nbconvert_exporter": "python",
   "pygments_lexer": "ipython3",
   "version": "3.8.8"
  }
 },
 "nbformat": 4,
 "nbformat_minor": 5
}
