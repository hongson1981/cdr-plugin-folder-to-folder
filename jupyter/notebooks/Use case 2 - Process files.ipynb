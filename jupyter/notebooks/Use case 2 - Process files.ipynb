{
 "cells": [
  {
   "cell_type": "markdown",
   "id": "tracked-colony",
   "metadata": {},
   "source": [
    "# Use case 2 - Process files\n",
    "    \n",
    "Upload files to the target scenario (or folder) and execute the code below"
   ]
  },
  {
   "cell_type": "code",
   "execution_count": null,
   "id": "9a1492df",
   "metadata": {},
   "outputs": [
    {
     "data": {
      "text/plain": [
       "{'current_status': 'Completed with errors',\n",
       " 'files_count': 0,\n",
       " 'files_copied': 0,\n",
       " 'files_left_to_be_copied': 0,\n",
       " 'files_to_process': 0,\n",
       " 'files_left_to_process': 0,\n",
       " 'completed': 2,\n",
       " 'failed': 5,\n",
       " 'in_progress': 0}"
      ]
     },
     "metadata": {},
     "output_type": "display_data"
    },
    {
     "data": {
      "application/vnd.jupyter.widget-view+json": {
       "model_id": "5dc8ff13ad2e49a1b1654c538c2b842b",
       "version_major": 2,
       "version_minor": 0
      },
      "text/plain": [
       "IntProgress(value=0, bar_style='info', description='Progress Bar:', max=0)"
      ]
     },
     "metadata": {},
     "output_type": "display_data"
    }
   ],
   "source": [
    "from jupyter_apis.API_Client   import API_Client\n",
    "from jupyter_apis.Display_Path import display_path\n",
    "from jupyter_apis.Show_progress import Show_progress\n",
    "\n",
    "# set target server\n",
    "             \n",
    "api = API_Client()\n",
    "\n",
    "ips = ['34.247.56.133' , # cdr-gw-sdk\n",
    "       '54.171.115.193', # cdr-gw-sdk\n",
    "       '63.35.162.80'  , # gw-cloud-sdk\n",
    "       '18.202.245.131', # Dinis-cf-created-wc\n",
    "       '52.215.65.80'  , # Dinis-cf-created-wc\n",
    "       '34.243.66.200' , # Dinis-cf-created-wc\n",
    "       '34.246.174.178', # Dinis-cf-created-wc\n",
    "       '3.249.244.41'  , # Dinis-cf-created-wc\n",
    "      ]\n",
    "port = 8080\n",
    "endpoints =  []\n",
    "for ip in ips:\n",
    "    endpoints.append({'IP': ip , \"Port\": \"8080\"})\n",
    "    \n",
    "sdk_endpoints = {\"Endpoints\": endpoints}\n",
    "\n",
    "base_folder   = './test_data/scenario-2'\n",
    "data_paths    = { \"hd1_path\"  : f\"{base_folder}/hd1\", \n",
    "                  \"hd2_path\"  : f\"{base_folder}/hd2\", \n",
    "                  \"hd3_path\"  : f\"{base_folder}/hd3\"}                          # configure target data folders\n",
    "#sdk_endpoints = { \"Endpoints\": [{ \"IP\": \"192.168.0.250\", \"Port\": \"8080\" } ] }   # configure Glasswall SDK servers to use\n",
    "\n",
    "# set to True to delete data and status folder\n",
    "# set to False to retain data and status folder\n",
    "clear_data    = True                                                           \n",
    "\n",
    "response = api.configure(data_paths, sdk_endpoints, clear_data)\n",
    "       \n",
    "assert response['configure_environment'].status_code == 200, \"data_paths are not valid\"\n",
    "assert response['set_gw_sdk_endpoints'].status_code  == 200, \"sdk_endpoints are not valid\"\n",
    "\n",
    "show_progress_bar=Show_progress(api)\n",
    "\n",
    "show_progress_bar.start()\n",
    "\n",
    "response=api.process_files()\n",
    "\n",
    "assert response == \"all files processed\", show_progress_bar.stop()\n",
    "\n",
    "show_progress_bar.stop()\n",
    "\n",
    "display_path(f\"../{base_folder}\")"
   ]
  },
  {
   "cell_type": "code",
   "execution_count": null,
   "id": "growing-hierarchy",
   "metadata": {},
   "outputs": [],
   "source": []
  },
  {
   "cell_type": "code",
   "execution_count": null,
   "id": "b0e63730",
   "metadata": {},
   "outputs": [],
   "source": []
  }
 ],
 "metadata": {
  "kernelspec": {
   "display_name": "Python 3",
   "language": "python",
   "name": "python3"
  },
  "language_info": {
   "codemirror_mode": {
    "name": "ipython",
    "version": 3
   },
   "file_extension": ".py",
   "mimetype": "text/x-python",
   "name": "python",
   "nbconvert_exporter": "python",
   "pygments_lexer": "ipython3",
   "version": "3.8.8"
  }
 },
 "nbformat": 4,
 "nbformat_minor": 5
}
