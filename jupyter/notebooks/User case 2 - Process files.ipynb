{
 "cells": [
  {
   "cell_type": "markdown",
   "id": "tracked-colony",
   "metadata": {},
   "source": [
    "# Use case 2 - Process files\n",
    "    \n",
    "Upload files to the target scenario (or folder) and execute the code below"
   ]
  },
  {
   "cell_type": "code",
   "execution_count": 23,
   "id": "accepted-affiliation",
   "metadata": {},
   "outputs": [
    {
     "ename": "AssertionError",
     "evalue": "data_paths are not valid ",
     "output_type": "error",
     "traceback": [
      "\u001b[0;31m---------------------------------------------------------------------------\u001b[0m",
      "\u001b[0;31mAssertionError\u001b[0m                            Traceback (most recent call last)",
      "\u001b[0;32m<ipython-input-23-4bcf15353b4a>\u001b[0m in \u001b[0;36m<module>\u001b[0;34m\u001b[0m\n\u001b[1;32m     18\u001b[0m \u001b[0;34m\u001b[0m\u001b[0m\n\u001b[1;32m     19\u001b[0m \u001b[0;34m\u001b[0m\u001b[0m\n\u001b[0;32m---> 20\u001b[0;31m \u001b[0;32massert\u001b[0m \u001b[0mresponse\u001b[0m\u001b[0;34m[\u001b[0m\u001b[0;34m'configure_environment'\u001b[0m\u001b[0;34m]\u001b[0m\u001b[0;34m.\u001b[0m\u001b[0mstatus_code\u001b[0m \u001b[0;34m==\u001b[0m \u001b[0;36m200\u001b[0m\u001b[0;34m,\u001b[0m \u001b[0;34m\"data_paths are not valid \"\u001b[0m\u001b[0;34m\u001b[0m\u001b[0;34m\u001b[0m\u001b[0m\n\u001b[0m\u001b[1;32m     21\u001b[0m \u001b[0;32massert\u001b[0m \u001b[0mresponse\u001b[0m\u001b[0;34m[\u001b[0m\u001b[0;34m'set_gw_sdk_endpoints'\u001b[0m\u001b[0;34m]\u001b[0m\u001b[0;34m.\u001b[0m\u001b[0mstatus_code\u001b[0m \u001b[0;34m==\u001b[0m \u001b[0;36m200\u001b[0m\u001b[0;34m,\u001b[0m \u001b[0;34m\"sdk_endpoints are not valid\"\u001b[0m\u001b[0;34m\u001b[0m\u001b[0;34m\u001b[0m\u001b[0m\n\u001b[1;32m     22\u001b[0m \u001b[0;34m\u001b[0m\u001b[0m\n",
      "\u001b[0;31mAssertionError\u001b[0m: data_paths are not valid "
     ]
    }
   ],
   "source": [
    "import json\n",
    "from jupyter_apis.API_Client   import API_Client\n",
    "from jupyter_apis.Display_Path import display_path\n",
    "\n",
    "\n",
    "# set target server\n",
    "             \n",
    "api = API_Client()\n",
    "\n",
    "base_folder   = './test_data/scenario-5'\n",
    "data_paths    = { \"hd1_path\"  : f\"{base_folder}/hd1\", \n",
    "                  \"hd2_path\"  : f\"{base_folder}/hd2\", \n",
    "                  \"hd3_path\"  : f\"{base_folder}/hd3\"}                          # configure target data folders\n",
    "sdk_endpoints = { \"Endpoints\": [{ \"IP\": \"91.109.25.00\", \"Port\": \"8080\" } ] }   # configure Glasswall SDK servers to use\n",
    "clear_data    = True                                                           # set to True to delete data and status folder\n",
    "\n",
    "response = api.configure(data_paths, sdk_endpoints, clear_data)\n",
    "\n",
    "         \n",
    "assert response['configure_environment'].status_code == 200, \"data_paths are not valid \"\n",
    "assert response['set_gw_sdk_endpoints'].status_code  == 200, \"sdk_endpoints are not valid\"\n",
    "\n",
    "api.process_files()\n",
    "\n",
    "display_path(f\"../{base_folder}\")"
   ]
  },
  {
   "cell_type": "code",
   "execution_count": null,
   "id": "crucial-craft",
   "metadata": {},
   "outputs": [],
   "source": []
  },
  {
   "cell_type": "code",
   "execution_count": null,
   "id": "growing-hierarchy",
   "metadata": {},
   "outputs": [],
   "source": []
  },
  {
   "cell_type": "code",
   "execution_count": null,
   "id": "b0e63730",
   "metadata": {},
   "outputs": [],
   "source": []
  }
 ],
 "metadata": {
  "kernelspec": {
   "display_name": "Python 3",
   "language": "python",
   "name": "python3"
  },
  "language_info": {
   "codemirror_mode": {
    "name": "ipython",
    "version": 3
   },
   "file_extension": ".py",
   "mimetype": "text/x-python",
   "name": "python",
   "nbconvert_exporter": "python",
   "pygments_lexer": "ipython3",
   "version": "3.8.8"
  }
 },
 "nbformat": 4,
 "nbformat_minor": 5
}
