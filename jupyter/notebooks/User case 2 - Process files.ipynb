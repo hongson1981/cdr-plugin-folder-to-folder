{
 "cells": [
  {
   "cell_type": "markdown",
   "id": "tracked-colony",
   "metadata": {},
   "source": [
    "# User case 2 - Process files\n",
    "    \n",
    "Upload files to the target scenario (or folder) and execute the code below"
   ]
  },
  {
   "cell_type": "code",
   "execution_count": 9,
   "id": "accepted-affiliation",
   "metadata": {},
   "outputs": [
    {
     "name": "stdout",
     "output_type": "stream",
     "text": [
      "scenario-1/\n",
      "├── .DS_Store\n",
      "├── hd1/\n",
      "│   ├── 1.macros and javascript/\n",
      "│   │   ├── JS_Siemens.pdf\n",
      "│   │   ├── Macros.xls\n",
      "│   │   └── Word-Macro.docm\n",
      "│   └── image2.jpg\n",
      "├── hd2/\n",
      "│   ├── data/\n",
      "│   │   ├── 86df34018436a99e1e98ff51346591e189cd76c8518f7288bb1ea8336396259b/\n",
      "│   │   │   ├── metadata.json\n",
      "│   │   │   └── source\n",
      "│   │   ├── a6fe42e5f2451d32c2a805c2b129b792d8e638feac4973f0ed3a31152ad12729/\n",
      "│   │   │   ├── metadata.json\n",
      "│   │   │   ├── report.json\n",
      "│   │   │   └── source\n",
      "│   │   ├── ae930f1accc9ee6fa81915ef3591e5539ce9ee34a26c7a6e765880c3177e028b/\n",
      "│   │   │   ├── metadata.json\n",
      "│   │   │   ├── report.json\n",
      "│   │   │   └── source\n",
      "│   │   └── e3ddd50da95fe964059b7a84aa761ce7efba2462c95eaae0ec64a8303d3a9b87/\n",
      "│   │       ├── metadata.json\n",
      "│   │       ├── report.json\n",
      "│   │       └── source\n",
      "│   └── status/\n",
      "│       └── hash.json\n",
      "└── hd3/\n",
      "    ├── 1.macros and javascript/\n",
      "    │   ├── JS_Siemens.pdf\n",
      "    │   └── Macros.xls\n",
      "    └── image2.jpg\n"
     ]
    }
   ],
   "source": [
    "import json\n",
    "from jupyter_apis.API_Client   import API_Client\n",
    "from jupyter_apis.Display_Path import display_path\n",
    "\n",
    "\n",
    "# set target server\n",
    "             \n",
    "api = API_Client()\n",
    "\n",
    "base_folder   = '/home/jovyan/test_data/scenario-1'\n",
    "data_paths    = { \"hd1_path\"  : f\"{base_folder}/hd1\", \n",
    "                  \"hd2_path\"  : f\"{base_folder}/hd2\", \n",
    "                  \"hd3_path\"  : f\"{base_folder}/hd3\"}    \n",
    "sdk_endpoints = { \"Endpoints\": [{ \"IP\": \"91.109.25.70\", \"Port\": \"8080\" } ] }\n",
    "\n",
    "api.configure_environment(data=data_paths)\n",
    "\n",
    "\n",
    "api.set_gw_sdk_endpoints(data=sdk_endpoints)\n",
    "\n",
    "api.process_files()\n",
    "\n",
    "display_path(base_folder)"
   ]
  },
  {
   "cell_type": "code",
   "execution_count": null,
   "id": "crucial-craft",
   "metadata": {},
   "outputs": [],
   "source": []
  }
 ],
 "metadata": {
  "kernelspec": {
   "display_name": "Python 3",
   "language": "python",
   "name": "python3"
  },
  "language_info": {
   "codemirror_mode": {
    "name": "ipython",
    "version": 3
   },
   "file_extension": ".py",
   "mimetype": "text/x-python",
   "name": "python",
   "nbconvert_exporter": "python",
   "pygments_lexer": "ipython3",
   "version": "3.8.8"
  }
 },
 "nbformat": 4,
 "nbformat_minor": 5
}
