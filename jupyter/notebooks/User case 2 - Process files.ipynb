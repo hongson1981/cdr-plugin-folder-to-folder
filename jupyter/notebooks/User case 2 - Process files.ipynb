{
 "cells": [
  {
   "cell_type": "markdown",
   "id": "tracked-colony",
   "metadata": {},
   "source": [
    "# User case 2 - Process files\n",
    "    \n",
    "Upload files to the target scenario (or folder) and execute the code below"
   ]
  },
  {
   "cell_type": "code",
   "execution_count": 15,
   "id": "accepted-affiliation",
   "metadata": {},
   "outputs": [
    {
     "name": "stdout",
     "output_type": "stream",
     "text": [
      "scenario-2/\n",
      "├── .DS_Store\n",
      "├── hd1/\n",
      "│   ├── .DS_Store\n",
      "│   ├── image1-a.jpg\n",
      "│   ├── image1.jpg\n",
      "│   ├── image2.jpg\n",
      "│   ├── image3.jpg\n",
      "│   ├── in_folder/\n",
      "│   │   ├── folder2/\n",
      "│   │   │   └── tab-terms-of-reference.pdf\n",
      "│   │   └── tab-code-of-practice.pdf\n",
      "│   ├── sample1.pdf\n",
      "│   ├── sample2.pdf\n",
      "│   ├── sample2_duplicate.pdf\n",
      "│   ├── sample3.pdf\n",
      "│   └── test.json\n",
      "├── hd2/\n",
      "│   ├── data/\n",
      "│   │   ├── 087a783915875b069c89d517491dd42b9e1b3619464a750e72a7ab44c06fa645/\n",
      "│   │   │   ├── metadata.json\n",
      "│   │   │   └── source\n",
      "│   │   ├── 09c818ec06504e63466de54ce1e913e4ed2c22434295bb1d6e9b92a93d384d60/\n",
      "│   │   │   ├── metadata.json\n",
      "│   │   │   └── source\n",
      "│   │   ├── 279e9fa3aab749eb2286a106aec5eac5526f67ce50e4e2c4762133c96fb6141f/\n",
      "│   │   │   ├── metadata.json\n",
      "│   │   │   └── source\n",
      "│   │   ├── 2f854897a694773abc921e1b1549274ae6c6b1f117dc32f795aa28d563e6c33f/\n",
      "│   │   │   ├── metadata.json\n",
      "│   │   │   └── source\n",
      "│   │   ├── 450e7cbdf7bf47230b6d1b82a76afcfdcfbc3ce3c56568c56158a2aba9c5b6fc/\n",
      "│   │   │   ├── metadata.json\n",
      "│   │   │   └── source\n",
      "│   │   ├── 458d2ceb57b1bac2866c43e16cc9392b017aa48f0689876df25399d0f7ad198c/\n",
      "│   │   │   ├── metadata.json\n",
      "│   │   │   └── source\n",
      "│   │   ├── 5e1b25d49373c4aa0007dfb52a9e7a1b91b9ac95b35936950551667f63cf9381/\n",
      "│   │   │   ├── metadata.json\n",
      "│   │   │   └── source\n",
      "│   │   ├── 86df34018436a99e1e98ff51346591e189cd76c8518f7288bb1ea8336396259b/\n",
      "│   │   │   ├── metadata.json\n",
      "│   │   │   └── source\n",
      "│   │   ├── 897c550d172b757465b3d9ce48c03cc6451af7728ebe29219269a4b91232e2e9/\n",
      "│   │   │   ├── metadata.json\n",
      "│   │   │   └── source\n",
      "│   │   └── db5bfb28e81e1bcecd68a69959071db5b6fcc7edf6d9ab5dc935db7f8797f7ee/\n",
      "│   │       ├── metadata.json\n",
      "│   │       └── source\n",
      "│   └── status/\n",
      "│       └── hash.json\n",
      "└── hd3/\n",
      "    ├── .DS_Store.html\n",
      "    ├── image1.jpg\n",
      "    ├── image2.jpg\n",
      "    ├── image3.jpg\n",
      "    ├── in_folder/\n",
      "    │   ├── folder2/\n",
      "    │   │   └── tab-terms-of-reference.pdf\n",
      "    │   └── tab-code-of-practice.pdf\n",
      "    ├── sample1.pdf\n",
      "    ├── sample2.pdf\n",
      "    ├── sample2_duplicate.pdf\n",
      "    ├── sample3.pdf\n",
      "    └── test.json.html\n"
     ]
    }
   ],
   "source": [
    "import json\n",
    "from jupyter_apis.API_Client   import API_Client\n",
    "from jupyter_apis.Display_Path import display_path\n",
    "\n",
    "\n",
    "# set target server\n",
    "             \n",
    "api = API_Client()\n",
    "\n",
    "base_folder   = './test_data/scenario-2'\n",
    "data_paths    = { \"hd1_path\"  : f\"{base_folder}/hd1\", \n",
    "                  \"hd2_path\"  : f\"{base_folder}/hd2\", \n",
    "                  \"hd3_path\"  : f\"{base_folder}/hd3\"}                          # configure target data folders\n",
    "sdk_endpoints = { \"Endpoints\": [{ \"IP\": \"91.109.25.70\", \"Port\": \"8080\" } ] }   # configure Glasswall SDK servers to use\n",
    "clear_data    = True                                                           # set to True to delete data and status folder\n",
    "\n",
    "api.configure(data_paths, sdk_endpoints, clear_data)\n",
    "\n",
    "api.process_files()\n",
    "\n",
    "display_path(f\"../{base_folder}\")"
   ]
  },
  {
   "cell_type": "code",
   "execution_count": null,
   "id": "crucial-craft",
   "metadata": {},
   "outputs": [],
   "source": []
  },
  {
   "cell_type": "code",
   "execution_count": null,
   "id": "growing-hierarchy",
   "metadata": {},
   "outputs": [],
   "source": []
  }
 ],
 "metadata": {
  "kernelspec": {
   "display_name": "Python 3",
   "language": "python",
   "name": "python3"
  },
  "language_info": {
   "codemirror_mode": {
    "name": "ipython",
    "version": 3
   },
   "file_extension": ".py",
   "mimetype": "text/x-python",
   "name": "python",
   "nbconvert_exporter": "python",
   "pygments_lexer": "ipython3",
   "version": "3.8.8"
  }
 },
 "nbformat": 4,
 "nbformat_minor": 5
}
