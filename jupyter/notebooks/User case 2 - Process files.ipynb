{
 "cells": [
  {
   "cell_type": "markdown",
   "id": "tracked-colony",
   "metadata": {},
   "source": [
    "# User case 2 - Process files\n",
    "    \n",
    "Upload files to the target scenario (or folder) and execute the code below"
   ]
  },
  {
   "cell_type": "code",
   "execution_count": null,
   "id": "accepted-affiliation",
   "metadata": {},
   "outputs": [],
   "source": [
    "import json\n",
    "from jupyter_apis.API_Client   import API_Client\n",
    "from jupyter_apis.Display_Path import display_path\n",
    "\n",
    "\n",
    "# set target server\n",
    "             \n",
    "api = API_Client()\n",
    "\n",
    "base_folder   = './test_data/scenario-1'\n",
    "data_paths    = { \"hd1_path\"  : f\"{base_folder}/hd1\", \n",
    "                  \"hd2_path\"  : f\"{base_folder}/hd2\", \n",
    "                  \"hd3_path\"  : f\"{base_folder}/hd3\"}    \n",
    "sdk_endpoints = { \"Endpoints\": [{ \"IP\": \"91.109.25.70\", \"Port\": \"8080\" } ] }\n",
    "\n",
    "api.configure_environment(data=data_paths)\n",
    "\n",
    "\n",
    "api.set_gw_sdk_endpoints(data=sdk_endpoints)\n",
    "\n",
    "api.process_files()\n",
    "\n",
    "current_scenario=base_folder.rsplit(\"/\")[-1]\n",
    "display_path(f\"../test_data/{current_scenario}\")"
   ]
  },
  {
   "cell_type": "code",
   "execution_count": null,
   "id": "crucial-craft",
   "metadata": {},
   "outputs": [],
   "source": []
  }
 ],
 "metadata": {
  "kernelspec": {
   "display_name": "Python 3",
   "language": "python",
   "name": "python3"
  },
  "language_info": {
   "codemirror_mode": {
    "name": "ipython",
    "version": 3
   },
   "file_extension": ".py",
   "mimetype": "text/x-python",
   "name": "python",
   "nbconvert_exporter": "python",
   "pygments_lexer": "ipython3",
   "version": "3.8.8"
  }
 },
 "nbformat": 4,
 "nbformat_minor": 5
}
