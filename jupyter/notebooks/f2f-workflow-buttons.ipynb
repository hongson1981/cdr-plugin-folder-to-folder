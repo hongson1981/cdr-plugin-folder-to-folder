{
 "cells": [
  {
   "cell_type": "markdown",
   "id": "secure-moscow",
   "metadata": {
    "extensions": {
     "jupyter_dashboards": {
      "activeView": "grid_default",
      "views": {
       "grid_default": {
        "col": 0,
        "height": 1,
        "hidden": false,
        "row": 0,
        "width": 7
       }
      }
     }
    }
   },
   "source": [
    "# Glasswall CDR Folder-to-Folder Workflows"
   ]
  },
  {
   "cell_type": "code",
   "execution_count": null,
   "id": "presidential-portfolio",
   "metadata": {
    "extensions": {
     "jupyter_dashboards": {
      "activeView": "grid_default",
      "views": {
       "grid_default": {
        "col": null,
        "height": 2,
        "hidden": true,
        "row": null,
        "width": 2
       }
      }
     }
    }
   },
   "outputs": [],
   "source": [
    "import ipywidgets as widgets\n",
    "from osbot_utils.utils.Http import GET_json\n",
    "from osbot_utils.utils.Json import json_to_str,str_to_json\n",
    "from jupyter_apis.API_Client import API_Client\n",
    "\n",
    "DEFAULT_BASE_DIR = 'scenario-1'\n",
    "DEFAULT_THREADS  = '25'\n",
    "\n",
    "class F2f_Workflows:\n",
    "    def __init__(self):\n",
    "        self.output       = None\n",
    "        self.buttons      = None\n",
    "        self.text_target  = None\n",
    "        self.text_threads = None\n",
    "        self.api          = None\n",
    "        \n",
    "    def add_button(self, text, style='success',icon='check'):\n",
    "        button = widgets.Button(\n",
    "            description  = text   ,\n",
    "            disabled     = False  ,\n",
    "            button_style = style  , # 'success', 'info', 'warning', 'danger' or ''\n",
    "            tooltip      = text   ,\n",
    "            icon         = icon   # (FontAwesome names without the `fa-` prefix)\n",
    "        )\n",
    "        button.on_click(self.button_clicked)\n",
    "        return button\n",
    "\n",
    "    def set_output(self):\n",
    "        self.output_text = widgets.Textarea(layout={'height': '100%','width':'100%'})\n",
    "        self.output_box  = widgets.VBox([self.output_text], layout={'height': '130px', 'width':'100%'})\n",
    "        return self\n",
    "\n",
    "    def setup(self):\n",
    "        self.api = API_Client()\n",
    "        self.set_output()\n",
    "        return self\n",
    "    \n",
    "    def get_buttons(self): \n",
    "        button_clear = self.add_button('clear data'      , 'danger' )\n",
    "        button_load = self.add_button('load files'       , 'info'   )\n",
    "        button_start = self.add_button('start processing', 'success')\n",
    "        button_stop = self.add_button('stop processing'  , 'warning')\n",
    "        self.buttons = [button_start,button_stop, button_load, button_clear]\n",
    "        return widgets.HBox(self.buttons)\n",
    "    \n",
    "    def get_set_target(self):\n",
    "        self.text_target   = widgets.Text(value=DEFAULT_BASE_DIR, layout={'width':'200px'})\n",
    "        self.text_threads  = widgets.Text(value=DEFAULT_THREADS, layout={'width':'100px'})  \n",
    "        label_threads = widgets.Label(\"Threads:\")\n",
    "        button_target = widgets.Button(description='Set base dir')\n",
    "        button_target.on_click(self.button_clicked)\n",
    "        return widgets.HBox([ button_target, self.text_target, label_threads, self.text_threads])\n",
    "            \n",
    "    def add_output(self, message):     \n",
    "        f2f_workflows.output_text.value = message + '\\n' + f2f_workflows.output_text.value \n",
    "        #f2f_workflows.output_text.value += message + '\\n' \n",
    "\n",
    "    def button_clicked(self,source):\n",
    "        #self.add_output(f'button clicked: {source.description}')\n",
    "        if source.description == 'load files':\n",
    "            self.add_output('... starting loading files workflow')\n",
    "            try:\n",
    "                self.add_output(self.api.pre_process())\n",
    "                self.add_output('... all files loaded')\n",
    "            except Exception as error:\n",
    "                self.add_output(f\"Error: {error}\")\n",
    "        elif source.description == 'clear data':\n",
    "            try:\n",
    "                self.add_output(str_to_json(self.api.clear_data_and_status()).get('message'))\n",
    "                \n",
    "                self.add_output(self.api.clear_elastic_file_analysis())\n",
    "                self.add_output(self.api.reload_elastic_file_metadata())\n",
    "                self.add_output(self.api.reload_kibana_dashboards())                \n",
    "            except Exception as error:\n",
    "                self.add_output(f\"Error: {error}\")\n",
    "        elif source.description == 'start processing':\n",
    "            thread_count = self.text_threads.value\n",
    "            self.add_output(f'... starting processing with {thread_count} threads') \n",
    "            try: \n",
    "                self.add_output(str_to_json(self.api.start_process(thread_count)))\n",
    "            except Exception as error:\n",
    "                self.add_output(f\"Error: {error}\")                        \n",
    "        elif source.description == 'stop processing':\n",
    "            self.add_output('... stopping processing')\n",
    "            try:\n",
    "                self.add_output(str_to_json(self.api.stop_process()))\n",
    "            except Exception as error:\n",
    "                self.add_output(f\"Error: {error}\")            \n",
    "        elif source.description == 'Set base dir':\n",
    "            try:                        \n",
    "                base_dir = self.text_target.value\n",
    "                data = {\n",
    "                          \"hd1_path\": f\"./test_data/{base_dir}/hd1\",\n",
    "                          \"hd2_path\": f\"./test_data/{base_dir}/hd2\",\n",
    "                          \"hd3_path\": f\"./test_data/{base_dir}/hd3\"\n",
    "                        }\n",
    "                self.add_output(f'Setting target folders to {json_to_str(data)}')\n",
    "                self.add_output(\"result:  \\n\" + self.api.configure_environment(data).text + \"/n\")\n",
    "            except Exception as error:\n",
    "                self.add_output(f\"Error: {error}\")            \n",
    "            \n",
    "        else:                \n",
    "            self.add_output(f'unrecognised command:  {source.description}')"
   ]
  },
  {
   "cell_type": "code",
   "execution_count": null,
   "id": "rubber-noise",
   "metadata": {
    "extensions": {
     "jupyter_dashboards": {
      "activeView": "grid_default",
      "views": {
       "grid_default": {
        "col": null,
        "height": 2,
        "hidden": true,
        "row": null,
        "width": 2
       }
      }
     }
    }
   },
   "outputs": [],
   "source": [
    "f2f_workflows = F2f_Workflows().setup()"
   ]
  },
  {
   "cell_type": "code",
   "execution_count": null,
   "id": "cathedral-round",
   "metadata": {
    "extensions": {
     "jupyter_dashboards": {
      "activeView": "grid_default",
      "views": {
       "grid_default": {
        "col": 0,
        "height": 1,
        "hidden": false,
        "row": 1,
        "width": 7
       }
      }
     }
    }
   },
   "outputs": [],
   "source": [
    "f2f_workflows.get_set_target()"
   ]
  },
  {
   "cell_type": "code",
   "execution_count": null,
   "id": "center-johnson",
   "metadata": {
    "extensions": {
     "jupyter_dashboards": {
      "activeView": "grid_default",
      "views": {
       "grid_default": {
        "col": 0,
        "height": 1,
        "hidden": false,
        "row": 2,
        "width": 7
       }
      }
     }
    }
   },
   "outputs": [],
   "source": [
    "buttons = f2f_workflows.get_buttons()\n",
    "buttons"
   ]
  },
  {
   "cell_type": "code",
   "execution_count": null,
   "id": "mexican-harvest",
   "metadata": {
    "extensions": {
     "jupyter_dashboards": {
      "activeView": "grid_default",
      "views": {
       "grid_default": {
        "col": 7,
        "height": 3,
        "hidden": false,
        "row": 0,
        "width": 5
       }
      }
     }
    }
   },
   "outputs": [],
   "source": [
    "print(\"output\\n\")\n",
    "f2f_workflows.output_box"
   ]
  },
  {
   "cell_type": "code",
   "execution_count": null,
   "id": "handled-pound",
   "metadata": {
    "extensions": {
     "jupyter_dashboards": {
      "activeView": "grid_default",
      "views": {
       "grid_default": {
        "col": null,
        "height": 2,
        "hidden": true,
        "row": null,
        "width": 2
       }
      }
     }
    },
    "tags": []
   },
   "outputs": [],
   "source": [
    "#f2f_workflows.buttons[0].click()\n",
    "#f2f_workflows.buttons[1].click()\n",
    "#f2f_workflows.buttons[2].click() "
   ]
  },
  {
   "cell_type": "code",
   "execution_count": null,
   "id": "ordinary-zambia",
   "metadata": {
    "extensions": {
     "jupyter_dashboards": {
      "activeView": "grid_default",
      "views": {
       "grid_default": {
        "col": null,
        "height": 2,
        "hidden": true,
        "row": null,
        "width": 2
       }
      }
     }
    }
   },
   "outputs": [],
   "source": []
  }
 ],
 "metadata": {
  "extensions": {
   "jupyter_dashboards": {
    "activeView": "grid_default",
    "version": 1,
    "views": {
     "grid_default": {
      "cellMargin": 2,
      "defaultCellHeight": 60,
      "maxColumns": 12,
      "name": "grid",
      "type": "grid"
     }
    }
   }
  },
  "kernelspec": {
   "display_name": "Python 3",
   "language": "python",
   "name": "python3"
  },
  "language_info": {
   "codemirror_mode": {
    "name": "ipython",
    "version": 3
   },
   "file_extension": ".py",
   "mimetype": "text/x-python",
   "name": "python",
   "nbconvert_exporter": "python",
   "pygments_lexer": "ipython3",
   "version": "3.9.2"
  }
 },
 "nbformat": 4,
 "nbformat_minor": 5
}
