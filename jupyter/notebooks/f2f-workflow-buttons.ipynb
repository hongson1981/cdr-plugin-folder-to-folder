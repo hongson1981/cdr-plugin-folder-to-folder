{
 "cells": [
  {
   "cell_type": "markdown",
   "id": "given-vegetable",
   "metadata": {
    "extensions": {
     "jupyter_dashboards": {
      "activeView": "grid_default",
      "views": {
       "grid_default": {
        "col": 0,
        "height": 2,
        "hidden": false,
        "row": 0,
        "width": 7
       }
      }
     }
    }
   },
   "source": [
    "# Glasswall CDR Folder-to-Folder Workflows"
   ]
  },
  {
   "cell_type": "code",
   "execution_count": 158,
   "id": "empirical-burst",
   "metadata": {
    "extensions": {
     "jupyter_dashboards": {
      "activeView": "grid_default",
      "views": {
       "grid_default": {
        "col": 7,
        "height": 1,
        "hidden": true,
        "row": 1,
        "width": 5
       }
      }
     }
    },
    "tags": []
   },
   "outputs": [],
   "source": [
    "import ipywidgets as widgets\n",
    "\n",
    "class F2f_Workflows:\n",
    "    def __init__(self):\n",
    "        self.output  = None\n",
    "        self.buttons = None\n",
    "        \n",
    "    def add_button(self, text, style='success',icon='check'):\n",
    "        button = widgets.Button(\n",
    "            description  = text   ,\n",
    "            disabled     = False  ,\n",
    "            button_style = style  , # 'success', 'info', 'warning', 'danger' or ''\n",
    "            tooltip      = text   ,\n",
    "            icon         = icon   # (FontAwesome names without the `fa-` prefix)\n",
    "        )\n",
    "        button.on_click(self.button_clicked)\n",
    "        return button\n",
    "\n",
    "    def set_output(self):\n",
    "        self.output_text = widgets.Textarea(layout={'height': '100%','width':'100%'})\n",
    "        self.output_box  = widgets.VBox([self.output_text], layout={'height': '130px', 'width':'100%'})\n",
    "        return self\n",
    "\n",
    "    def setup(self):\n",
    "        self.set_output() #widgets.Output(layout={'border': '1px solid black'})\n",
    "        return self\n",
    "    \n",
    "    def get_buttons(self):\n",
    "        button_1 = self.add_button('clear data')\n",
    "        button_2 = self.add_button('load files')\n",
    "        button_3 = self.add_button('start processing')\n",
    "        self.buttons = [button_1,button_2,button_3]\n",
    "        return widgets.HBox(self.buttons)\n",
    "    \n",
    "    def add_output(self, message):     \n",
    "        f2f_workflows.output_text.value = message + '\\n' + f2f_workflows.output_text.value \n",
    "    \n",
    "    def button_clicked(self,source):\n",
    "        self.add_output(f'button \"{source.description}\" was clicked')\n"
   ]
  },
  {
   "cell_type": "code",
   "execution_count": 155,
   "id": "annual-carry",
   "metadata": {
    "extensions": {
     "jupyter_dashboards": {
      "activeView": "grid_default",
      "views": {
       "grid_default": {
        "col": null,
        "height": 2,
        "hidden": true,
        "row": null,
        "width": 2
       }
      }
     }
    }
   },
   "outputs": [],
   "source": [
    "f2f_workflows = F2f_Workflows().setup()"
   ]
  },
  {
   "cell_type": "code",
   "execution_count": 156,
   "id": "respiratory-parcel",
   "metadata": {
    "extensions": {
     "jupyter_dashboards": {
      "activeView": "grid_default",
      "views": {
       "grid_default": {
        "col": 0,
        "height": 2,
        "hidden": false,
        "row": 2,
        "width": 7
       }
      }
     }
    }
   },
   "outputs": [
    {
     "data": {
      "application/vnd.jupyter.widget-view+json": {
       "model_id": "7ecdfc830b16491a95baa63258865c75",
       "version_major": 2,
       "version_minor": 0
      },
      "text/plain": [
       "HBox(children=(Button(button_style='success', description='clear data', icon='check', style=ButtonStyle(), too…"
      ]
     },
     "metadata": {},
     "output_type": "display_data"
    }
   ],
   "source": [
    "buttons = f2f_workflows.get_buttons()\n",
    "buttons"
   ]
  },
  {
   "cell_type": "code",
   "execution_count": 157,
   "id": "generic-thanksgiving",
   "metadata": {
    "extensions": {
     "jupyter_dashboards": {
      "activeView": "grid_default",
      "views": {
       "grid_default": {
        "col": 7,
        "height": 4,
        "hidden": false,
        "row": 0,
        "width": 5
       }
      }
     }
    }
   },
   "outputs": [
    {
     "name": "stdout",
     "output_type": "stream",
     "text": [
      "output\n",
      "\n"
     ]
    },
    {
     "data": {
      "application/vnd.jupyter.widget-view+json": {
       "model_id": "22861b29ff674dcfa8226ba49f6548ea",
       "version_major": 2,
       "version_minor": 0
      },
      "text/plain": [
       "VBox(children=(Textarea(value='', layout=Layout(height='100%', width='100%')),), layout=Layout(height='130px',…"
      ]
     },
     "metadata": {},
     "output_type": "display_data"
    }
   ],
   "source": [
    "print(\"output\\n\")\n",
    "f2f_workflows.output_box"
   ]
  },
  {
   "cell_type": "code",
   "execution_count": null,
   "id": "disturbed-knock",
   "metadata": {
    "extensions": {
     "jupyter_dashboards": {
      "activeView": "grid_default",
      "views": {
       "grid_default": {
        "col": null,
        "height": 2,
        "hidden": true,
        "row": null,
        "width": 2
       }
      }
     }
    }
   },
   "outputs": [],
   "source": []
  },
  {
   "cell_type": "code",
   "execution_count": 140,
   "id": "qualified-fifty",
   "metadata": {
    "extensions": {
     "jupyter_dashboards": {
      "activeView": "grid_default",
      "views": {
       "grid_default": {
        "col": null,
        "height": 2,
        "hidden": true,
        "row": null,
        "width": 2
       }
      }
     }
    }
   },
   "outputs": [],
   "source": [
    "f2f_workflows.buttons[0].click()\n",
    "f2f_workflows.buttons[1].click()\n",
    "f2f_workflows.buttons[2].click()"
   ]
  },
  {
   "cell_type": "code",
   "execution_count": null,
   "id": "systematic-short",
   "metadata": {
    "extensions": {
     "jupyter_dashboards": {
      "activeView": "grid_default",
      "views": {
       "grid_default": {
        "col": null,
        "height": 2,
        "hidden": true,
        "row": null,
        "width": 2
       }
      }
     }
    }
   },
   "outputs": [],
   "source": []
  }
 ],
 "metadata": {
  "extensions": {
   "jupyter_dashboards": {
    "activeView": "grid_default",
    "version": 1,
    "views": {
     "grid_default": {
      "cellMargin": 2,
      "defaultCellHeight": 60,
      "maxColumns": 12,
      "name": "grid",
      "type": "grid"
     }
    }
   }
  },
  "kernelspec": {
   "display_name": "Python 3",
   "language": "python",
   "name": "python3"
  },
  "language_info": {
   "codemirror_mode": {
    "name": "ipython",
    "version": 3
   },
   "file_extension": ".py",
   "mimetype": "text/x-python",
   "name": "python",
   "nbconvert_exporter": "python",
   "pygments_lexer": "ipython3",
   "version": "3.8.8"
  }
 },
 "nbformat": 4,
 "nbformat_minor": 5
}
