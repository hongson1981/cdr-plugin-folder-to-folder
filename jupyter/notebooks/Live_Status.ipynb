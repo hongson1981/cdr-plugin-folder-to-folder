{
 "cells": [
  {
   "cell_type": "code",
   "execution_count": null,
   "id": "060a81ea",
   "metadata": {},
   "outputs": [],
   "source": [
    "from jupyter_apis.API_Client   import API_Client\n",
    "from jupyter_apis.Show_progress import Show_progress\n",
    "\n",
    "api = API_Client()\n",
    "\n",
    "show_progress_bar=Show_progress(api)\n",
    "\n",
    "show_progress_bar.start()"
   ]
  },
  {
   "cell_type": "code",
   "execution_count": null,
   "id": "0511a3b2",
   "metadata": {},
   "outputs": [],
   "source": []
  },
  {
   "cell_type": "code",
   "execution_count": null,
   "id": "1090ce33",
   "metadata": {},
   "outputs": [],
   "source": []
  }
 ],
 "metadata": {
  "kernelspec": {
   "display_name": "Python 3",
   "language": "python",
   "name": "python3"
  },
  "language_info": {
   "codemirror_mode": {
    "name": "ipython",
    "version": 3
   },
   "file_extension": ".py",
   "mimetype": "text/x-python",
   "name": "python",
   "nbconvert_exporter": "python",
   "pygments_lexer": "ipython3",
   "version": "3.8.8"
  }
 },
 "nbformat": 4,
 "nbformat_minor": 5
}
