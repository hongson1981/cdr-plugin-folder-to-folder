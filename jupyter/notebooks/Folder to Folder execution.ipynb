{
 "cells": [
  {
   "cell_type": "code",
   "execution_count": 14,
   "id": "continued-harris",
   "metadata": {},
   "outputs": [],
   "source": [
    "# Run this when developing since it reloads the code automatically when code is changed\n",
    "%reload_ext autoreload  \n",
    "# setud up autoroad \n",
    "%autoreload 2"
   ]
  },
  {
   "cell_type": "markdown",
   "id": "considered-laser",
   "metadata": {},
   "source": [
    "# Folder to Folder API"
   ]
  },
  {
   "cell_type": "markdown",
   "id": "timely-tribune",
   "metadata": {},
   "source": [
    "### Step 1 :  configure server and check health"
   ]
  },
  {
   "cell_type": "code",
   "execution_count": 15,
   "id": "adult-tribune",
   "metadata": {},
   "outputs": [],
   "source": [
    "from jupyter_apis.API_Client import API_Client\n",
    "import json\n",
    "\n",
    "url_server='http://api:8880'             # api dns resolution is provided by docker-compose or kubernetes\n",
    "api = API_Client(url_server)\n",
    "\n",
    "assert api.health() =={'status': 'ok'}       "
   ]
  },
  {
   "cell_type": "markdown",
   "id": "a64999d0",
   "metadata": {},
   "source": [
    "### Step 2 : Configure hard discs\n",
    "\n",
    "- configure hd1_path, hd2_path and hd1_path in \"data\""
   ]
  },
  {
   "cell_type": "code",
   "execution_count": 16,
   "id": "befe9f08",
   "metadata": {},
   "outputs": [
    {
     "data": {
      "text/plain": [
       "'Hard discs are configured'"
      ]
     },
     "execution_count": 16,
     "metadata": {},
     "output_type": "execute_result"
    }
   ],
   "source": [
    "\n",
    "data = '{ \"hd1_path\" : \"./test_data/scenario-1/hd1\", \"hd2_path\" : \"./test_data/scenario-1/hd2\", ' \\\n",
    "               '\"hd3_path\" : \"./test_data/scenario-1/hd3\", \"gw_address\": \"127.0.0.1\", \"gw_port\": \"8080\" }'\n",
    "\n",
    "headers = {\n",
    "            'accept': 'application/json',\n",
    "            'Content-Type': 'application/json',\n",
    "          }\n",
    "    \n",
    "\n",
    "\n",
    "response=api.set_env(headers=headers,data=data)\n",
    "assert response.status_code == 200 \n",
    "assert response.json() == json.loads(data)\n",
    "\n",
    "\"Hard discs are configured\"\n"
   ]
  },
  {
   "cell_type": "markdown",
   "id": "68b195eb",
   "metadata": {},
   "source": [
    "### Step 3 : Configure GW SDK Endpoints\n",
    "\n",
    "- configure gw sdk IP and Port\n",
    "- Edit IP and Port in varibale \"data\"\n",
    "- You can pass multiple endpoints\n",
    "- Example : data = '{ \"Endpoints\": [{ \"IP\": \"92.109.25.70\", \"Port\": \"8080\" },{ \"IP\": \"127.0.0.1\", \"Port\": \"8080\" }]}'"
   ]
  },
  {
   "cell_type": "code",
   "execution_count": 17,
   "id": "3f480d9c",
   "metadata": {},
   "outputs": [
    {
     "data": {
      "text/plain": [
       "'SDK Endpoints are set'"
      ]
     },
     "execution_count": 17,
     "metadata": {},
     "output_type": "execute_result"
    }
   ],
   "source": [
    "data = '{ \"Endpoints\": [{ \"IP\": \"91.109.25.70\", \"Port\": \"8080\" } ] }'\n",
    "\n",
    "headers = {\n",
    "    'accept': 'application/json',\n",
    "    'Content-Type': 'application/json',\n",
    "}\n",
    "\n",
    "\n",
    "\n",
    "response=api.set_gw_sdk_endpoints(headers=headers,data=data)\n",
    "assert response.status_code == 200\n",
    "assert json.loads(response.json()) == json.loads(data)\n",
    "\n",
    "\"SDK Endpoints are set\"\n"
   ]
  },
  {
   "cell_type": "markdown",
   "id": "raising-amateur",
   "metadata": {},
   "source": [
    "### Step 4 : Process files\n",
    "\n",
    "These calls will:\n",
    "\n",
    "- copy all files from HD1 into HD2 (based on hash)\n",
    "- process all files from HD2 using Glasswall Cloud SDK\n",
    "- copy all processed files into HD3\n"
   ]
  },
  {
   "cell_type": "code",
   "execution_count": 18,
   "id": "excited-study",
   "metadata": {},
   "outputs": [
    {
     "data": {
      "text/plain": [
       "'all files processed '"
      ]
     },
     "execution_count": 18,
     "metadata": {},
     "output_type": "execute_result"
    }
   ],
   "source": [
    "assert api.pre_process() == '[\"Processing is done\"]'\n",
    "assert api.start_process() == '\"Loop completed\"'\n",
    "\"all files processed \""
   ]
  },
  {
   "cell_type": "code",
   "execution_count": 19,
   "id": "viral-thanksgiving",
   "metadata": {},
   "outputs": [
    {
     "data": {
      "text/plain": [
       "{'status': 'ok'}"
      ]
     },
     "execution_count": 19,
     "metadata": {},
     "output_type": "execute_result"
    }
   ],
   "source": [
    "\n",
    "API_Client('http://api:8880' ).health()"
   ]
  },
  {
   "cell_type": "markdown",
   "id": "ranging-jaguar",
   "metadata": {},
   "source": [
    "# Step 5 : Folder structure visualization"
   ]
  },
  {
   "cell_type": "code",
   "execution_count": 20,
   "id": "sixth-democrat",
   "metadata": {},
   "outputs": [
    {
     "name": "stdout",
     "output_type": "stream",
     "text": [
      "scenario-1/\n",
      "├── hd1/\n",
      "│   └── image2.jpg\n",
      "├── hd2/\n",
      "│   ├── data/\n",
      "│   │   └── 86df34018436a99e1e98ff51346591e189cd76c8518f7288bb1ea8336396259b/\n",
      "│   │       ├── metadata.json\n",
      "│   │       ├── report.json\n",
      "│   │       └── source\n",
      "│   └── status/\n",
      "│       └── hash.json\n",
      "└── hd3/\n",
      "    └── image2.jpg\n"
     ]
    }
   ],
   "source": [
    "from jupyter_apis.Display_Path import display_path\n",
    "\n",
    "display_path('../test_data/scenario-1')"
   ]
  },
  {
   "cell_type": "code",
   "execution_count": null,
   "id": "solar-elder",
   "metadata": {},
   "outputs": [],
   "source": []
  },
  {
   "cell_type": "code",
   "execution_count": null,
   "id": "american-atlantic",
   "metadata": {},
   "outputs": [],
   "source": []
  }
 ],
 "metadata": {
  "kernelspec": {
   "display_name": "Python 3",
   "language": "python",
   "name": "python3"
  },
  "language_info": {
   "codemirror_mode": {
    "name": "ipython",
    "version": 3
   },
   "file_extension": ".py",
   "mimetype": "text/x-python",
   "name": "python",
   "nbconvert_exporter": "python",
   "pygments_lexer": "ipython3",
   "version": "3.8.8"
  }
 },
 "nbformat": 4,
 "nbformat_minor": 5
}
