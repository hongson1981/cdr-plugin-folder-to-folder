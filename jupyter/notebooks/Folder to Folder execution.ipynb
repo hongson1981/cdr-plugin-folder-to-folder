{
 "cells": [
  {
   "cell_type": "code",
   "execution_count": 2,
   "id": "continued-harris",
   "metadata": {},
   "outputs": [],
   "source": [
    "# Run this when developing since it reloads the code automatically when code is changed\n",
    "%reload_ext autoreload  \n",
    "# setud up autoroad \n",
    "%autoreload 2"
   ]
  },
  {
   "cell_type": "markdown",
   "id": "considered-laser",
   "metadata": {},
   "source": [
    "# Folder to Folder API"
   ]
  },
  {
   "cell_type": "markdown",
   "id": "timely-tribune",
   "metadata": {},
   "source": [
    "### Step 1 :  configure server and check health"
   ]
  },
  {
   "cell_type": "code",
   "execution_count": 3,
   "id": "adult-tribune",
   "metadata": {},
   "outputs": [],
   "source": [
    "from jupyter_apis.API_Client import API_Client\n",
    "\n",
    "url_server='http://api:8880'             # api dns resolution is provided by docker-compose or kubernetes\n",
    "api = API_Client(url_server)\n",
    "\n",
    "assert api.health() =={'status': 'ok'}       "
   ]
  },
  {
   "cell_type": "markdown",
   "id": "raising-amateur",
   "metadata": {},
   "source": [
    "### Step 2 : Process files\n",
    "\n",
    "These calls will:\n",
    "\n",
    "- copy all files from HD1 into HD2 (based on hash)\n",
    "- process all files from HD2 using Glasswall Cloud SDK\n",
    "- copy all processed files into HD3\n"
   ]
  },
  {
   "cell_type": "code",
   "execution_count": 4,
   "id": "excited-study",
   "metadata": {},
   "outputs": [
    {
     "data": {
      "text/plain": [
       "'all files processed '"
      ]
     },
     "execution_count": 4,
     "metadata": {},
     "output_type": "execute_result"
    }
   ],
   "source": [
    "assert api.pre_process() == '[\"Processing is done\"]'\n",
    "assert api.start_process() == '\"Loop completed\"'\n",
    "\"all files processed \""
   ]
  },
  {
   "cell_type": "code",
   "execution_count": 10,
   "id": "viral-thanksgiving",
   "metadata": {},
   "outputs": [
    {
     "data": {
      "text/plain": [
       "\"self._request_get('/health')\""
      ]
     },
     "execution_count": 10,
     "metadata": {},
     "output_type": "execute_result"
    }
   ],
   "source": [
    "\n",
    "API_Client('http://api:8880' ).health()"
   ]
  },
  {
   "cell_type": "markdown",
   "id": "ranging-jaguar",
   "metadata": {},
   "source": [
    "# Step 3: Folder structure visualization"
   ]
  },
  {
   "cell_type": "code",
   "execution_count": 18,
   "id": "sixth-democrat",
   "metadata": {},
   "outputs": [
    {
     "name": "stdout",
     "output_type": "stream",
     "text": [
      "scenario-1/\n",
      "├── .DS_Store\n",
      "├── hd1/\n",
      "│   ├── 1.macros and javascript/\n",
      "│   │   ├── JS_Siemens.pdf\n",
      "│   │   ├── Macros.xls\n",
      "│   │   └── Word-Macro.docm\n",
      "│   └── image2.jpg\n",
      "├── hd2/\n",
      "│   ├── data/\n",
      "│   │   ├── 087a783915875b069c89d517491dd42b9e1b3619464a750e72a7ab44c06fa645/\n",
      "│   │   │   ├── metadata.json\n",
      "│   │   │   ├── report.json\n",
      "│   │   │   └── source\n",
      "│   │   ├── 86df34018436a99e1e98ff51346591e189cd76c8518f7288bb1ea8336396259b/\n",
      "│   │   │   ├── metadata.json\n",
      "│   │   │   ├── report.json\n",
      "│   │   │   └── source\n",
      "│   │   ├── a6fe42e5f2451d32c2a805c2b129b792d8e638feac4973f0ed3a31152ad12729/\n",
      "│   │   │   ├── metadata.json\n",
      "│   │   │   ├── report.json\n",
      "│   │   │   └── source\n",
      "│   │   ├── ae930f1accc9ee6fa81915ef3591e5539ce9ee34a26c7a6e765880c3177e028b/\n",
      "│   │   │   ├── metadata.json\n",
      "│   │   │   ├── report.json\n",
      "│   │   │   └── source\n",
      "│   │   └── e3ddd50da95fe964059b7a84aa761ce7efba2462c95eaae0ec64a8303d3a9b87/\n",
      "│   │       ├── metadata.json\n",
      "│   │       ├── report.json\n",
      "│   │       └── source\n",
      "│   └── status/\n",
      "│       └── hash.json\n",
      "└── hd3/\n",
      "    ├── 1.macros and javascript/\n",
      "    │   ├── JS_Siemens.pdf\n",
      "    │   ├── Macros.xls\n",
      "    │   └── Word-Macro.docm\n",
      "    └── image2.jpg\n"
     ]
    }
   ],
   "source": [
    "from jupyter_apis.Display_Path import display_path\n",
    "\n",
    "display_path('../test_data/scenario-1')"
   ]
  },
  {
   "cell_type": "code",
   "execution_count": null,
   "id": "solar-elder",
   "metadata": {},
   "outputs": [],
   "source": []
  },
  {
   "cell_type": "code",
   "execution_count": null,
   "id": "american-atlantic",
   "metadata": {},
   "outputs": [],
   "source": []
  }
 ],
 "metadata": {
  "kernelspec": {
   "display_name": "Python 3",
   "language": "python",
   "name": "python3"
  },
  "language_info": {
   "codemirror_mode": {
    "name": "ipython",
    "version": 3
   },
   "file_extension": ".py",
   "mimetype": "text/x-python",
   "name": "python",
   "nbconvert_exporter": "python",
   "pygments_lexer": "ipython3",
   "version": "3.8.8"
  }
 },
 "nbformat": 4,
 "nbformat_minor": 5
}
