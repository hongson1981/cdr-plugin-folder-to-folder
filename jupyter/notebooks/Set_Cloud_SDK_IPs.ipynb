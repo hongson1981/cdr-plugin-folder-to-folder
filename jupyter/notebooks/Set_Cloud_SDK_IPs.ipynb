{
 "cells": [
  {
   "cell_type": "markdown",
   "id": "disturbed-drink",
   "metadata": {},
   "source": [
    "# Set Cloud SDK IPs"
   ]
  },
  {
   "cell_type": "code",
   "execution_count": 77,
   "id": "logical-attribute",
   "metadata": {},
   "outputs": [],
   "source": [
    "import ipywidgets as widgets\n",
    "from osbot_utils.utils.Http import GET_json\n",
    "from osbot_utils.utils.Json import json_to_str,str_to_json\n",
    "from jupyter_apis.API_Client import API_Client"
   ]
  },
  {
   "cell_type": "code",
   "execution_count": 93,
   "id": "oriented-switzerland",
   "metadata": {},
   "outputs": [],
   "source": [
    "url_server='http://api:8880'             # api dns resolution is provided by docker-compose or kubernetes\n",
    "api          = API_Client(url_server)\n",
    "output       = widgets.Output()\n",
    "textarea_ips = widgets.Textarea(layout={'height': '150px','width':'100%'})\n",
    "\n",
    "def load_ips(source):\n",
    "    with output:\n",
    "        print('....loading ips from AWS')\n",
    "    textarea_ips.value = get_ips().replace(\"'\", '\"')\n",
    "    \n",
    "def get_ips():\n",
    "    url = 'https://tmol8zkg3c.execute-api.eu-west-1.amazonaws.com/prod/sdk-servers/ip_addresses'\n",
    "    return str(GET_json(url).get('live_ips'))\n",
    "\n",
    "def set_ips(source):\n",
    "    endpoints =  []\n",
    "    for ip in str_to_json(textarea_ips.value):\n",
    "        endpoints.append({'IP': ip , \"Port\": \"8080\"})\n",
    "    \n",
    "    sdk_endpoints = {\"Endpoints\": endpoints}\n",
    "\n",
    "    with output:\n",
    "        print('....configuring ips (checking if they are ok)')\n",
    "        api.set_gw_sdk_endpoints(sdk_endpoints)\n",
    "        print('...all done')\n",
    "        \n",
    "    show_config()\n",
    "    \n",
    "def show_config():    \n",
    "    with output:\n",
    "        print('\\n Here are the current config values \\n')\n",
    "        print(json_to_str(api.get_config()))\n",
    "\n",
    "textarea_ips.value = \"[]\""
   ]
  },
  {
   "cell_type": "code",
   "execution_count": 87,
   "id": "automated-collar",
   "metadata": {},
   "outputs": [],
   "source": [
    "button_load = widgets.Button(description='Load from AWS', button_style='info', icon='check')\n",
    "button_load.on_click(load_ips)"
   ]
  },
  {
   "cell_type": "code",
   "execution_count": 88,
   "id": "vietnamese-addiction",
   "metadata": {},
   "outputs": [],
   "source": [
    "button_set = widgets.Button(description='Set Plugin IPs', button_style='success', icon='check')\n",
    "button_set.on_click(set_ips)"
   ]
  },
  {
   "cell_type": "markdown",
   "id": "adaptive-angola",
   "metadata": {},
   "source": [
    "### Target Servers:"
   ]
  },
  {
   "cell_type": "code",
   "execution_count": 94,
   "id": "intelligent-personality",
   "metadata": {},
   "outputs": [
    {
     "data": {
      "application/vnd.jupyter.widget-view+json": {
       "model_id": "f1e332722ba144ada2248327a72fbcc8",
       "version_major": 2,
       "version_minor": 0
      },
      "text/plain": [
       "Textarea(value='[]', layout=Layout(height='150px', width='100%'))"
      ]
     },
     "metadata": {},
     "output_type": "display_data"
    }
   ],
   "source": [
    "textarea_ips"
   ]
  },
  {
   "cell_type": "code",
   "execution_count": 89,
   "id": "german-california",
   "metadata": {},
   "outputs": [
    {
     "data": {
      "application/vnd.jupyter.widget-view+json": {
       "model_id": "e94642bd8d33477f81d9704fb7b91ff4",
       "version_major": 2,
       "version_minor": 0
      },
      "text/plain": [
       "HBox(children=(Button(button_style='info', description='Load from AWS', icon='check', style=ButtonStyle()), Bu…"
      ]
     },
     "metadata": {},
     "output_type": "display_data"
    }
   ],
   "source": [
    "widgets.HBox([button_load, button_set])"
   ]
  },
  {
   "cell_type": "code",
   "execution_count": 92,
   "id": "straight-thumbnail",
   "metadata": {},
   "outputs": [
    {
     "data": {
      "application/vnd.jupyter.widget-view+json": {
       "model_id": "b297a3495ccb4a618e93164a3383b026",
       "version_major": 2,
       "version_minor": 0
      },
      "text/plain": [
       "Output(outputs=({'name': 'stdout', 'text': '....configuring ips (checking if they are ok)\\n...all done\\n\\n Her…"
      ]
     },
     "metadata": {},
     "output_type": "display_data"
    }
   ],
   "source": [
    "output"
   ]
  },
  {
   "cell_type": "code",
   "execution_count": null,
   "id": "southeast-formula",
   "metadata": {},
   "outputs": [],
   "source": []
  }
 ],
 "metadata": {
  "kernelspec": {
   "display_name": "Python 3",
   "language": "python",
   "name": "python3"
  },
  "language_info": {
   "codemirror_mode": {
    "name": "ipython",
    "version": 3
   },
   "file_extension": ".py",
   "mimetype": "text/x-python",
   "name": "python",
   "nbconvert_exporter": "python",
   "pygments_lexer": "ipython3",
   "version": "3.8.8"
  }
 },
 "nbformat": 4,
 "nbformat_minor": 5
}
