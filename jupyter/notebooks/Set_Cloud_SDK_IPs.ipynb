{
 "cells": [
  {
   "cell_type": "markdown",
   "id": "virtual-linux",
   "metadata": {},
   "source": [
    "# Set Cloud SDK IPs"
   ]
  },
  {
   "cell_type": "code",
   "execution_count": null,
   "id": "convinced-bristol",
   "metadata": {},
   "outputs": [],
   "source": [
    "import ipywidgets as widgets\n",
    "from osbot_utils.utils.Http import GET_json\n",
    "from osbot_utils.utils.Json import json_to_str,str_to_json\n",
    "from jupyter_apis.API_Client import API_Client"
   ]
  },
  {
   "cell_type": "code",
   "execution_count": null,
   "id": "deadly-sixth",
   "metadata": {},
   "outputs": [],
   "source": [
    "url_server='http://api:8880'             # api dns resolution is provided by docker-compose or kubernetes\n",
    "api          = API_Client(url_server)\n",
    "output       = widgets.Output()\n",
    "textarea_ips = widgets.Textarea(layout={'height': '150px','width':'100%'})\n",
    "port         = widgets.Textarea(value=\"80\", layout={'width':'100px','height': '30px',})\n",
    "\n",
    "def load_ips(source):\n",
    "    with output:\n",
    "        print('....loading ips from AWS')\n",
    "    textarea_ips.value = get_ips().replace(\"'\", '\"')\n",
    "    \n",
    "def get_ips():\n",
    "    url = 'https://tmol8zkg3c.execute-api.eu-west-1.amazonaws.com/prod/sdk-servers/ip_addresses'\n",
    "    return str(GET_json(url).get('live_ips'))\n",
    "\n",
    "def set_ips(source):\n",
    "    endpoints =  []\n",
    "    for ip in str_to_json(textarea_ips.value):\n",
    "        endpoints.append({'IP': ip , \"Port\": port.value })\n",
    "    \n",
    "    sdk_endpoints = {\"Endpoints\": endpoints}\n",
    "\n",
    "    with output:\n",
    "        print('....configuring ips (checking if they are ok)')\n",
    "        api.set_gw_sdk_endpoints(sdk_endpoints)\n",
    "        print('...all done')\n",
    "        \n",
    "    show_config()\n",
    "    \n",
    "def show_config():    \n",
    "    with output:\n",
    "        print('\\n Here are the current config values \\n')\n",
    "        print(json_to_str(api.get_config()))\n",
    "\n",
    "textarea_ips.value = \"[]\""
   ]
  },
  {
   "cell_type": "code",
   "execution_count": null,
   "id": "prerequisite-anatomy",
   "metadata": {},
   "outputs": [],
   "source": [
    "button_load = widgets.Button(description='Load from AWS', button_style='info', icon='check')\n",
    "button_load.on_click(load_ips)"
   ]
  },
  {
   "cell_type": "code",
   "execution_count": null,
   "id": "asian-soviet",
   "metadata": {},
   "outputs": [],
   "source": [
    "button_set = widgets.Button(description='Set Plugin IPs', button_style='success', icon='check')\n",
    "button_set.on_click(set_ips)"
   ]
  },
  {
   "cell_type": "markdown",
   "id": "engaging-newsletter",
   "metadata": {},
   "source": [
    "### Target Servers:"
   ]
  },
  {
   "cell_type": "code",
   "execution_count": null,
   "id": "norman-helicopter",
   "metadata": {},
   "outputs": [],
   "source": [
    "textarea_ips"
   ]
  },
  {
   "cell_type": "code",
   "execution_count": null,
   "id": "1a5a09ad",
   "metadata": {},
   "outputs": [],
   "source": [
    "port"
   ]
  },
  {
   "cell_type": "code",
   "execution_count": null,
   "id": "seasonal-surprise",
   "metadata": {},
   "outputs": [],
   "source": [
    "widgets.HBox([button_load, button_set])"
   ]
  },
  {
   "cell_type": "code",
   "execution_count": null,
   "id": "stunning-breakdown",
   "metadata": {},
   "outputs": [],
   "source": [
    "output"
   ]
  },
  {
   "cell_type": "code",
   "execution_count": null,
   "id": "earned-logistics",
   "metadata": {},
   "outputs": [],
   "source": []
  }
 ],
 "metadata": {
  "kernelspec": {
   "display_name": "Python 3",
   "language": "python",
   "name": "python3"
  },
  "language_info": {
   "codemirror_mode": {
    "name": "ipython",
    "version": 3
   },
   "file_extension": ".py",
   "mimetype": "text/x-python",
   "name": "python",
   "nbconvert_exporter": "python",
   "pygments_lexer": "ipython3",
   "version": "3.9.2"
  }
 },
 "nbformat": 4,
 "nbformat_minor": 5
}
